{
 "cells": [
  {
   "cell_type": "markdown",
   "metadata": {},
   "source": [
    "# Detection of Ransomware Attack Families via Bitcoin Transactions"
   ]
  },
  {
   "cell_type": "markdown",
   "metadata": {},
   "source": [
    "This is a group project by Master 2 Data Science students at Ecole Polytechnique.\n",
    "\n",
    "The data used in this study is courtesy of UC Irvine:\n",
    "\n",
    "    Dua, D. and Graff, C. (2019). UCI Machine Learning Repository [http://archive.ics.uci.edu/ml]. Irvine, CA: University of California, School of Information and Computer Science.\n",
    "\n",
    "<center><img src=\"./media/UCI.jpg\"/></center>"
   ]
  },
  {
   "cell_type": "markdown",
   "metadata": {
    "pycharm": {
     "name": "#%% md\n"
    }
   },
   "source": [
    "## 1. Problem Statement\n",
    "\n",
    "### Ransomware attacks\n",
    "\n",
    "Starting as early as 1989 with the first documented ransomware known as the AIDS trojan, the use of ransomware scams has grown internationally. Governments worldwide saw a 1,885% increase in ransomware attacks, and the health care industry faced a 755% increase in those attacks in 2021.\n",
    "\n",
    "A ransomware attack is a virus that infects a computer, a server or a storage device, by temporarily corrupting all of its files with a special encryption. The key to unlock this encryption is only available with the attacker. In exchange for this key, the attacker demands a certain amount of ransom, this is where the attack name derives from.\n",
    "\n",
    "Over the past four years, the ransom demanded by hackers increased by a shocking 2,966.66 percent. In 2021, the average ransom demand reached **$ 220,298** — up 43 percent compared to 2020. The explosive growth in ransomware demand was in 2019, where the average ransom demand grew 14 times, up **from $6,000 in 2018 to $84,000 by the end of the year**.\n",
    "\n",
    "### Ransom and Bitcoin &#x20BF;\n",
    "These payments usually take several forms to be executed. For instance, ransomware attackers usually demand payment to be wired through Western Union or paid through a specialized text message. Some attackers demand payment in the form of gift cards like an Amazon or iTunes Gift Card. Recently, the attackers started asking the victims to purchase the bitcoins required to pay the ransom. The victim sends the money via a bitcoin exchange to the hacker's bitcoin wallet. The criminals confirm payment via email or a Tor site and, if the victim is lucky, will provide the means to decrypt the victim's files. The attackers took advantage of the anonymity provided by the different cryptocurrencies such as Bitcoin, Ethereum or Dogecoin. Even though all transactions are public by nature, user identification is not required to join the network.\n",
    "\n",
    "People were and still are paying these ransoms due to the importance of their encrypted data. These numbers are even increasing over the years. Especially that the proportion of Cryptolocker (a ransomware) victims claim to have agreed to pay the ransom to recover their files (41%) seems to be much larger than expected (3% was conjectured by Symantec, 0.4% by Dell SecureWorks).\n",
    "\n",
    "### Taking action\n",
    "Many studies were conducted in order to tackle this problem and try to reduce its effects on users of the world wide web. The majority of these studies were based on pre-set filtering and pre-defined rules to decide whether a party is an attacker or not.The goal was to track the different ransomware attack families in order to limit their actions and proceed to label them as malicious.\n",
    "\n",
    "In this challenge, the goal will be to create a model that is able to detect whether the given addresses belong to any of the attacker families by tracing the cryptocurrency transactions in the entire Bitcoin transaction graph from 2009 to 2018.\n",
    "\n",
    "## 2. Data Exploration\n",
    "\n",
    "The data used contains the entire Bitcoin transaction graph from 2009 January to 2018 December. Using a time interval of 24 hours, the dataset contains daily transactions on the network forming the Bitcoin graph. Network edges that transfer **less than &#x20BF;0.3** (read: 0.3 bitcoins) were filtered out since ransom amounts are rarely below this threshold.\n",
    "\n",
    "We created a union of datasets from three widely adopted studies: Montreal, Princeton and Padua. The combined dataset contains **24,486 addresses** from **27 ransomware families**.\n",
    "\n",
    "### Extracted features\n",
    "\n",
    "We extract from the graph of Bitcoin transactions a number of features that are resampled on a 24-hour frame.\n",
    "\n",
    "Using the graph topology, we define the following features:\n",
    "<ul>\n",
    "    <li>income</li>\n",
    "    <li>neighbors</li>\n",
    "    <li>weight</li>\n",
    "    <li>length</li>\n",
    "    <li>count</li>\n",
    "    <li>loop</li>\n",
    "</ul>\n",
    "\n",
    "Let's explain how we get each feature and what do they mean. In order to do so, we must at first define the directed graph G = (V, E), where:\n",
    "\n",
    "- V are the vertices that represent a user, in our case each user is represented by an address e.g. the hash of the user's nickname\n",
    "- E are the edges that represent a part of a transaction, originating from an output address $a_{out}$ and is directed towards an input address $a_{in}$. \n",
    "\n",
    "**N.B.:** We note that a full transaction can contain more than one input address $a_{in}$, i.e. it can be formed of more than one edge originating from the same or from different output addresses $a_{out}$.\n",
    "\n",
    "This structure of G is called an address-transaction structure, which represents all the transactions done between all the different users in the blockchain, in our case Bitcoin, between 2009 January and 2018 December.\n",
    "\n",
    "Hence, we define the **income** of an address $u$ as the total amount of coins output to $u$, i.e. the sum of all the edges that have an input address $a_{in}$ equal to $u$.\n",
    "\n",
    "Also, we denote the **neighbors** of an address $u$ the number of transactions which have $u$ as one of its output addresses $a_{out}$, i.e. the number of distinct addresses that u has sent money towards.\n",
    "\n",
    "While the first two features were cumulative i.e. they can grow over time in the graph, the remaining features are extracted from the graph basing on the specific 24-hour interval.\n",
    "\n",
    "To better understand how we extract these features from the graph, we need to introduce the concept of a *starter transaction*.\n",
    "\n",
    "We consider a window $w$ of 24 hours interval, where we have a number of transactions that happen in each hour of this window $w$. We mark the timestamp of the earliest transaction done in this window as $t$. We define the set of all the output transactions that are originated before the timestamp $t$ as $TX_{out}$. In this case, we can name a transaction as a *starter transaction* if it does not contain any output transaction from the set $TX_{out}$. In other terms, the transaction does not contain an output transaction originating from the current window $w$.\n",
    "\n",
    "To clarify the image, we give the following example of a window $w$ that contains more than one starter and non-starter transactions:\n",
    "\n",
    "<center><img src=\"./media/graph_transactions.jpg\"/></center>\n",
    "\n",
    "Here, we have a toy network of 10 users (addresses) and 7 full transactions. The transactions tx1, tx3, tx4, and tx5 are starter transactions, whereas the other transactions are not. We notice the coin amounts that are shown on the edges, and that the sum of the input transactions is equal to the sum of the output transactions.\n",
    "\n",
    "Now, we can continue defining the extracted features:\n",
    "\n",
    "We denote **weight** of an address $u$ the sum of fraction of coins that originate from a starter transaction and reach $u$.\n",
    "\n",
    "We also define the **loop** of an address $u$ which is the number of starter transactions which are connected to $u$ with more than one directed paths, e.g. in our toy network, the address $a_{10}$ has the loop equal to 1; this is because of the starter transaction tx4 that splits its coins, moves these coins in different paths, and then merge these coins in the same address $a_{10}$.\n",
    "\n",
    "For the length and count features, we define a **chain** ending at $u$ as an acyclic directed path originating from any starter transaction and ending at address $u$.\n",
    "\n",
    "So, the **length** of an address $u$ is the number of non-starter transactions on its longest chain. A length of zero implies that the address is an output address of a starter transaction.\n",
    "\n",
    "Finally, the **count** of an address $u$ is the number of starter transactions which are connected to u through a chain.\n"
   ]
  },
  {
   "cell_type": "markdown",
   "metadata": {},
   "source": [
    "### Loading required libraries"
   ]
  },
  {
   "cell_type": "markdown",
   "metadata": {},
   "source": [
    "This cell should always contain ALL of our imports."
   ]
  },
  {
   "cell_type": "code",
   "execution_count": null,
   "metadata": {},
   "outputs": [],
   "source": [
    "import os\n",
    "import warnings\n",
    "import pickle\n",
    "import pandas as pd\n",
    "import numpy as np\n",
    "\n",
    "import matplotlib.pyplot as plt\n",
    "import seaborn as sns\n",
    "from scipy.stats import boxcox\n",
    "from tqdm.notebook import tqdm\n",
    "\n",
    "from sklearn.model_selection import train_test_split\n",
    "import pdb\n",
    "import datetime\n",
    "from scipy.stats import pearsonr\n",
    "\n",
    "from sklearn.preprocessing import StandardScaler, OneHotEncoder\n",
    "from sklearn.compose import ColumnTransformer\n",
    "from sklearn.metrics import accuracy_score, log_loss, plot_roc_curve, f1_score, precision_score, recall_score\n",
    "from sklearn.model_selection import RandomizedSearchCV\n",
    "import matplotlib\n",
    "from prettytable import PrettyTable\n",
    "from pprint import pprint\n",
    "\n",
    "warnings.filterwarnings(\"ignore\")"
   ]
  },
  {
   "cell_type": "markdown",
   "metadata": {},
   "source": [
    "### Data load"
   ]
  },
  {
   "cell_type": "markdown",
   "metadata": {},
   "source": [
    "We'll use the download_data script in order to download our BitcoinHeist data.\n"
   ]
  },
  {
   "cell_type": "code",
   "execution_count": null,
   "metadata": {},
   "outputs": [],
   "source": [
    "!python download_data.py"
   ]
  },
  {
   "cell_type": "markdown",
   "metadata": {
    "id": "y2mi2Gd4KySm"
   },
   "source": [
    "### Loading the data"
   ]
  },
  {
   "cell_type": "markdown",
   "metadata": {
    "id": "f_QH__V2K7y0"
   },
   "source": [
    "We have 2916697 examples in hand that we split into training and testing datasets as follows :\n",
    "\n",
    "\n",
    "*   The training dataset contains 75% of the original dataset. It is accessible in CSV format under the train folder.\n",
    "\n",
    "*   The testing dataset contains 25% of the original dataset. It is accessible in CSV format under the test folder.\n",
    "\n"
   ]
  },
  {
   "cell_type": "markdown",
   "metadata": {
    "id": "TncLN8I0OQL9"
   },
   "source": [
    "The next function allows us to load the training and testing datasets."
   ]
  },
  {
   "cell_type": "code",
   "execution_count": null,
   "metadata": {
    "id": "PaXAYM2AJWex"
   },
   "outputs": [],
   "source": [
    "from glob import glob\n",
    "\n",
    "def get_file_list_from_dir(*, path, datadir):\n",
    "    data_files = sorted(glob(os.path.join(path, \"data\", datadir, \"*.csv.gz\")))\n",
    "    return data_files"
   ]
  },
  {
   "cell_type": "code",
   "execution_count": null,
   "metadata": {
    "id": "HH7e_fXvOpOu"
   },
   "outputs": [],
   "source": [
    "#Loading the training dataset\n",
    "train_files = get_file_list_from_dir(path=\".\", datadir=\"train\")\n",
    "dtrain = pd.concat((pd.read_csv(f) for f in train_files))\n",
    "\n",
    "#Loading the testing dataset\n",
    "test_files = get_file_list_from_dir(path=\".\", datadir=\"test\")\n",
    "dtest = pd.concat((pd.read_csv(f) for f in test_files))\n"
   ]
  },
  {
   "cell_type": "markdown",
   "metadata": {},
   "source": [
    "### Dataset insights"
   ]
  },
  {
   "cell_type": "code",
   "execution_count": null,
   "metadata": {
    "id": "ePUtPYfJPyvX"
   },
   "outputs": [],
   "source": [
    "dtrain.head()"
   ]
  },
  {
   "cell_type": "code",
   "execution_count": null,
   "metadata": {
    "id": "28qEZcJaKJkU"
   },
   "outputs": [],
   "source": [
    "dtrain.shape # the training dataframe has 2 187 523 rows and 10 columns"
   ]
  },
  {
   "cell_type": "code",
   "execution_count": null,
   "metadata": {
    "id": "8mIP5WJqP1vM"
   },
   "outputs": [],
   "source": [
    "dtest.head()"
   ]
  },
  {
   "cell_type": "code",
   "execution_count": null,
   "metadata": {
    "id": "lzs39JStP6ky"
   },
   "outputs": [],
   "source": [
    "dtest.shape # the testing dataframe has 729 174 rows and 10 columns"
   ]
  },
  {
   "cell_type": "code",
   "execution_count": null,
   "metadata": {
    "colab": {
     "base_uri": "https://localhost:8080/"
    },
    "id": "7JDSarIlSyq7",
    "outputId": "2229c089-50bd-45f7-cfc8-e9d3b9bbf2c1"
   },
   "outputs": [
    {
     "name": "stdout",
     "output_type": "stream",
     "text": [
      "Index(['address', 'year', 'day', 'length', 'weight', 'count', 'looped',\n",
      "       'neighbors', 'income', 'label'],\n",
      "      dtype='object')\n"
     ]
    }
   ],
   "source": [
    "print(dtrain.columns) #the names of the columns"
   ]
  },
  {
   "cell_type": "code",
   "execution_count": null,
   "metadata": {
    "colab": {
     "base_uri": "https://localhost:8080/"
    },
    "id": "bD58Kn2KLe3_",
    "outputId": "e1d6f286-b859-4ae4-b83a-faa8f1596934"
   },
   "outputs": [
    {
     "name": "stdout",
     "output_type": "stream",
     "text": [
      "<class 'pandas.core.frame.DataFrame'>\n",
      "RangeIndex: 2916697 entries, 0 to 2916696\n",
      "Data columns (total 10 columns):\n",
      " #   Column     Dtype  \n",
      "---  ------     -----  \n",
      " 0   address    object \n",
      " 1   year       int64  \n",
      " 2   day        int64  \n",
      " 3   length     int64  \n",
      " 4   weight     float64\n",
      " 5   count      int64  \n",
      " 6   looped     int64  \n",
      " 7   neighbors  int64  \n",
      " 8   income     float64\n",
      " 9   label      object \n",
      "dtypes: float64(2), int64(6), object(2)\n",
      "memory usage: 222.5+ MB\n"
     ]
    }
   ],
   "source": [
    "dtrain.info()"
   ]
  },
  {
   "cell_type": "code",
   "execution_count": null,
   "metadata": {
    "id": "dJF4bc1ALnTx"
   },
   "outputs": [],
   "source": [
    "dtrain.describe()"
   ]
  },
  {
   "cell_type": "code",
   "execution_count": null,
   "metadata": {
    "id": "DYt0eWkvMB4d"
   },
   "outputs": [],
   "source": [
    "dtrain.describe(include=object) #so that we can see some descriptive statistices for the object columns as well"
   ]
  },
  {
   "cell_type": "markdown",
   "metadata": {
    "id": "o-wGTPbTMzxn"
   },
   "source": [
    "As we've seen from the few descriptions of the dataset above, some columns are of type float, some integer and some object. \n",
    "\n",
    "We'll now proceed to do some exploratory data analysis to have more insight on our dataset."
   ]
  },
  {
   "cell_type": "markdown",
   "metadata": {
    "id": "ABMS0cjbQfy6"
   },
   "source": [
    "### Feature exploration"
   ]
  },
  {
   "cell_type": "markdown",
   "metadata": {
    "id": "GKX5cjUARv2_"
   },
   "source": [
    "In this part we'll try to further understand the features in our dataset, mainly the different classes of the labels which is our target variable.\n",
    "\n",
    "We'll also see if there are any missing values."
   ]
  },
  {
   "cell_type": "code",
   "execution_count": null,
   "metadata": {
    "colab": {
     "base_uri": "https://localhost:8080/"
    },
    "id": "EkUVmZWEMrw3",
    "outputId": "e576ef06-9188-4cbd-fbf6-a5670bb53dad"
   },
   "outputs": [
    {
     "data": {
      "text/plain": [
       "address      False\n",
       "year         False\n",
       "day          False\n",
       "length       False\n",
       "weight       False\n",
       "count        False\n",
       "looped       False\n",
       "neighbors    False\n",
       "income       False\n",
       "label        False\n",
       "dtype: bool"
      ]
     },
     "metadata": {},
     "output_type": "display_data"
    }
   ],
   "source": [
    "#checking which columns contain NaN values\n",
    "dtrain.isna().any()"
   ]
  },
  {
   "cell_type": "code",
   "execution_count": null,
   "metadata": {
    "id": "Kjv8naETcmkg"
   },
   "outputs": [],
   "source": [
    "dtrain.year.unique() #the information that's available is from .. consecutive years from ... to ...\n"
   ]
  },
  {
   "cell_type": "code",
   "execution_count": null,
   "metadata": {
    "id": "I9_ATazPc8JZ"
   },
   "outputs": [],
   "source": [
    "dtrain.year.value_counts() #we have almost the same number of info for each year"
   ]
  },
  {
   "cell_type": "code",
   "execution_count": null,
   "metadata": {
    "colab": {
     "base_uri": "https://localhost:8080/"
    },
    "id": "q5AevxrdOsSh",
    "outputId": "9ff7e50f-6a44-4886-f3b9-d74e4cc2d19e"
   },
   "outputs": [
    {
     "data": {
      "text/plain": [
       "(10168,)"
      ]
     },
     "metadata": {},
     "output_type": "display_data"
    }
   ],
   "source": [
    "dtrain.looped.unique().shape\n"
   ]
  },
  {
   "cell_type": "code",
   "execution_count": null,
   "metadata": {
    "colab": {
     "base_uri": "https://localhost:8080/"
    },
    "id": "9xPwLd54PDSt",
    "outputId": "6d6fcc58-4b0f-4001-a6d3-a34cf43e2664"
   },
   "outputs": [
    {
     "data": {
      "text/plain": [
       "(814,)"
      ]
     },
     "metadata": {},
     "output_type": "display_data"
    }
   ],
   "source": [
    "dtrain.neighbors.unique().shape"
   ]
  },
  {
   "cell_type": "code",
   "execution_count": null,
   "metadata": {
    "colab": {
     "base_uri": "https://localhost:8080/"
    },
    "id": "OMkEubwuPKwO",
    "outputId": "1d98ec89-7160-420d-ea40-ee08485184b6"
   },
   "outputs": [
    {
     "data": {
      "text/plain": [
       "(11572,)"
      ]
     },
     "metadata": {},
     "output_type": "display_data"
    }
   ],
   "source": [
    "dtrain['count'].unique().shape"
   ]
  },
  {
   "cell_type": "markdown",
   "metadata": {
    "id": "SFeD6nH6ZC3L"
   },
   "source": [
    "We'll focus on our target variable \"label\" since for the features, there is a lot of variability of the values taken. Thus it won't be helpful to study their unique values. \n",
    "\n",
    "We can however see how their values change with regard to the class of the label."
   ]
  },
  {
   "cell_type": "code",
   "execution_count": null,
   "metadata": {
    "colab": {
     "base_uri": "https://localhost:8080/"
    },
    "id": "cccGo8YuNtKj",
    "outputId": "c4fef65b-8313-4116-d820-25d033054f23"
   },
   "outputs": [
    {
     "data": {
      "text/plain": [
       "(29,)"
      ]
     },
     "metadata": {},
     "output_type": "display_data"
    }
   ],
   "source": [
    "dtrain.label.unique().shape"
   ]
  },
  {
   "cell_type": "code",
   "execution_count": null,
   "metadata": {
    "id": "IMnuzySPPW2g"
   },
   "outputs": [],
   "source": [
    "dtrain.label.unique()"
   ]
  },
  {
   "cell_type": "markdown",
   "metadata": {
    "id": "ZeKnNLACRjwR"
   },
   "source": [
    "For the label, we have 29 different values which we can classify in 2 major categories. The white category and the ransomware category containig the rest of the values that are not white. "
   ]
  },
  {
   "cell_type": "code",
   "execution_count": null,
   "metadata": {
    "id": "uSILXkFgQAD9"
   },
   "outputs": [],
   "source": [
    "dtrain.loc[dtrain[\"label\"]==\"white\", \"label\"].value_counts()"
   ]
  },
  {
   "cell_type": "code",
   "execution_count": null,
   "metadata": {
    "id": "LusZAjJWQGqj"
   },
   "outputs": [],
   "source": [
    "dtrain.loc[dtrain[\"label\"]!=\"white\", \"label\"].value_counts()"
   ]
  },
  {
   "cell_type": "code",
   "execution_count": null,
   "metadata": {
    "id": "4FoimKaJQWS-"
   },
   "outputs": [],
   "source": [
    "df1 = dtrain[dtrain[\"label\"]!=\"white\"][\"label\"]"
   ]
  },
  {
   "cell_type": "code",
   "execution_count": null,
   "metadata": {
    "id": "8J1B4jTdRIVK"
   },
   "outputs": [],
   "source": [
    "len(df1)"
   ]
  },
  {
   "cell_type": "markdown",
   "metadata": {
    "id": "BMDK0YmLafrp"
   },
   "source": [
    "We have .... white labels vs .... non-white lables => imbalanced data.\n",
    "\n",
    "This should be taken into consideration when choosing\n",
    "the performance evaluation metric."
   ]
  },
  {
   "cell_type": "code",
   "execution_count": null,
   "metadata": {
    "id": "x_Dwg_OadlzF"
   },
   "outputs": [],
   "source": [
    "df2 = dtrain[dtrain[\"label\"]!=\"white\"][\"year\"]"
   ]
  },
  {
   "cell_type": "code",
   "execution_count": null,
   "metadata": {
    "id": "rNEMGQL5dyZw"
   },
   "outputs": [],
   "source": [
    "df2.value_counts() "
   ]
  },
  {
   "cell_type": "markdown",
   "metadata": {
    "id": "RyV0cBEnatm-"
   },
   "source": [
    "We can see that the number of Ransomware varies greatly from one year to another. There are years where it is much greater compared to the rest. This can be seen in the case of the year 2016 where the number of Ransomware peaked."
   ]
  },
  {
   "cell_type": "code",
   "execution_count": null,
   "metadata": {
    "id": "1YOkWxHTdzdK"
   },
   "outputs": [],
   "source": [
    "df2 = dtrain[dtrain[\"label\"]!=\"white\"][\"neighbors\"]\n"
   ]
  },
  {
   "cell_type": "code",
   "execution_count": null,
   "metadata": {
    "id": "5bRAdOv6ed8X"
   },
   "outputs": [],
   "source": [
    "df2.value_counts() #most of the ransomware cases are when the value of neighbors is either 2 or 1"
   ]
  },
  {
   "cell_type": "markdown",
   "metadata": {},
   "source": [
    "### Feature by feature exploration"
   ]
  },
  {
   "cell_type": "markdown",
   "metadata": {},
   "source": [
    "Mootez, Rihem"
   ]
  },
  {
   "cell_type": "code",
   "execution_count": 2,
   "metadata": {},
   "outputs": [
    {
     "data": {
      "text/plain": [
       "Ellipsis"
      ]
     },
     "execution_count": 2,
     "metadata": {},
     "output_type": "execute_result"
    }
   ],
   "source": [
    "..."
   ]
  },
  {
   "cell_type": "markdown",
   "metadata": {},
   "source": [
    "### Classes exploration"
   ]
  },
  {
   "cell_type": "markdown",
   "metadata": {},
   "source": [
    "bourhan"
   ]
  },
  {
   "cell_type": "markdown",
   "metadata": {},
   "source": [
    "## 3. Workflow"
   ]
  },
  {
   "cell_type": "markdown",
   "metadata": {},
   "source": [
    "Issa, Joel"
   ]
  },
  {
   "cell_type": "markdown",
   "metadata": {},
   "source": []
  },
  {
   "cell_type": "markdown",
   "metadata": {},
   "source": [
    "## 4. Ramp Tutorial"
   ]
  },
  {
   "cell_type": "markdown",
   "metadata": {},
   "source": [
    "Ronny"
   ]
  },
  {
   "cell_type": "code",
   "execution_count": null,
   "metadata": {},
   "outputs": [],
   "source": []
  }
 ],
 "metadata": {
  "interpreter": {
   "hash": "2ca97f6c643b358503ba62fe016ebd077252538108a958a67d56d2296f076b6f"
  },
  "kernelspec": {
   "display_name": "Python 3.8.12 ('deeplearning')",
   "language": "python",
   "name": "python3"
  },
  "language_info": {
   "codemirror_mode": {
    "name": "ipython",
    "version": 3
   },
   "file_extension": ".py",
   "mimetype": "text/x-python",
   "name": "python",
   "nbconvert_exporter": "python",
   "pygments_lexer": "ipython3",
   "version": "3.8.12"
  },
  "orig_nbformat": 4
 },
 "nbformat": 4,
 "nbformat_minor": 2
}
