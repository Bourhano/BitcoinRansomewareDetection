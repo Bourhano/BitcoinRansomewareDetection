{
  "nbformat": 4,
  "nbformat_minor": 0,
  "metadata": {
    "colab": {
      "name": "DataCamp_Starter_Kit.ipynb",
      "provenance": [],
      "collapsed_sections": []
    },
    "kernelspec": {
      "name": "python3",
      "display_name": "Python 3"
    },
    "language_info": {
      "name": "python"
    },
    "widgets": {
      "application/vnd.jupyter.widget-state+json": {
        "88e719540fc946248125c5befa6a6645": {
          "model_module": "@jupyter-widgets/controls",
          "model_name": "HBoxModel",
          "model_module_version": "1.5.0",
          "state": {
            "_view_name": "HBoxView",
            "_dom_classes": [],
            "_model_name": "HBoxModel",
            "_view_module": "@jupyter-widgets/controls",
            "_model_module_version": "1.5.0",
            "_view_count": null,
            "_view_module_version": "1.5.0",
            "box_style": "",
            "layout": "IPY_MODEL_4c1e89cec0d1450a839068534cf647e6",
            "_model_module": "@jupyter-widgets/controls",
            "children": [
              "IPY_MODEL_9ce9cb46fd674640bdc44ac08ed3fdf6",
              "IPY_MODEL_ed6cf68395ca4aa5b8cb2d7594e8385b",
              "IPY_MODEL_b5611e6958be4b86837a8cc08560f9b7"
            ]
          }
        },
        "4c1e89cec0d1450a839068534cf647e6": {
          "model_module": "@jupyter-widgets/base",
          "model_name": "LayoutModel",
          "model_module_version": "1.2.0",
          "state": {
            "_view_name": "LayoutView",
            "grid_template_rows": null,
            "right": null,
            "justify_content": null,
            "_view_module": "@jupyter-widgets/base",
            "overflow": null,
            "_model_module_version": "1.2.0",
            "_view_count": null,
            "flex_flow": null,
            "width": null,
            "min_width": null,
            "border": null,
            "align_items": null,
            "bottom": null,
            "_model_module": "@jupyter-widgets/base",
            "top": null,
            "grid_column": null,
            "overflow_y": null,
            "overflow_x": null,
            "grid_auto_flow": null,
            "grid_area": null,
            "grid_template_columns": null,
            "flex": null,
            "_model_name": "LayoutModel",
            "justify_items": null,
            "grid_row": null,
            "max_height": null,
            "align_content": null,
            "visibility": null,
            "align_self": null,
            "height": null,
            "min_height": null,
            "padding": null,
            "grid_auto_rows": null,
            "grid_gap": null,
            "max_width": null,
            "order": null,
            "_view_module_version": "1.2.0",
            "grid_template_areas": null,
            "object_position": null,
            "object_fit": null,
            "grid_auto_columns": null,
            "margin": null,
            "display": null,
            "left": null
          }
        },
        "9ce9cb46fd674640bdc44ac08ed3fdf6": {
          "model_module": "@jupyter-widgets/controls",
          "model_name": "HTMLModel",
          "model_module_version": "1.5.0",
          "state": {
            "_view_name": "HTMLView",
            "style": "IPY_MODEL_d1edc6f7ac544a4caec6d79d7f737314",
            "_dom_classes": [],
            "description": "",
            "_model_name": "HTMLModel",
            "placeholder": "​",
            "_view_module": "@jupyter-widgets/controls",
            "_model_module_version": "1.5.0",
            "value": "100%",
            "_view_count": null,
            "_view_module_version": "1.5.0",
            "description_tooltip": null,
            "_model_module": "@jupyter-widgets/controls",
            "layout": "IPY_MODEL_eb39075515d44cb3916311b18ef6a9ad"
          }
        },
        "ed6cf68395ca4aa5b8cb2d7594e8385b": {
          "model_module": "@jupyter-widgets/controls",
          "model_name": "FloatProgressModel",
          "model_module_version": "1.5.0",
          "state": {
            "_view_name": "ProgressView",
            "style": "IPY_MODEL_72433bcdf5ad4fe5b5f28981b2579282",
            "_dom_classes": [],
            "description": "",
            "_model_name": "FloatProgressModel",
            "bar_style": "success",
            "max": 879729,
            "_view_module": "@jupyter-widgets/controls",
            "_model_module_version": "1.5.0",
            "value": 879729,
            "_view_count": null,
            "_view_module_version": "1.5.0",
            "orientation": "horizontal",
            "min": 0,
            "description_tooltip": null,
            "_model_module": "@jupyter-widgets/controls",
            "layout": "IPY_MODEL_ba4d6b3f14ab44679fa75a578ceaf729"
          }
        },
        "b5611e6958be4b86837a8cc08560f9b7": {
          "model_module": "@jupyter-widgets/controls",
          "model_name": "HTMLModel",
          "model_module_version": "1.5.0",
          "state": {
            "_view_name": "HTMLView",
            "style": "IPY_MODEL_b921c03da6b744a09680b6afaf3f3da8",
            "_dom_classes": [],
            "description": "",
            "_model_name": "HTMLModel",
            "placeholder": "​",
            "_view_module": "@jupyter-widgets/controls",
            "_model_module_version": "1.5.0",
            "value": " 879729/879729 [01:14&lt;00:00, 12591.77it/s]",
            "_view_count": null,
            "_view_module_version": "1.5.0",
            "description_tooltip": null,
            "_model_module": "@jupyter-widgets/controls",
            "layout": "IPY_MODEL_4ca40b2763f84510b431d6a7883fc70f"
          }
        },
        "d1edc6f7ac544a4caec6d79d7f737314": {
          "model_module": "@jupyter-widgets/controls",
          "model_name": "DescriptionStyleModel",
          "model_module_version": "1.5.0",
          "state": {
            "_view_name": "StyleView",
            "_model_name": "DescriptionStyleModel",
            "description_width": "",
            "_view_module": "@jupyter-widgets/base",
            "_model_module_version": "1.5.0",
            "_view_count": null,
            "_view_module_version": "1.2.0",
            "_model_module": "@jupyter-widgets/controls"
          }
        },
        "eb39075515d44cb3916311b18ef6a9ad": {
          "model_module": "@jupyter-widgets/base",
          "model_name": "LayoutModel",
          "model_module_version": "1.2.0",
          "state": {
            "_view_name": "LayoutView",
            "grid_template_rows": null,
            "right": null,
            "justify_content": null,
            "_view_module": "@jupyter-widgets/base",
            "overflow": null,
            "_model_module_version": "1.2.0",
            "_view_count": null,
            "flex_flow": null,
            "width": null,
            "min_width": null,
            "border": null,
            "align_items": null,
            "bottom": null,
            "_model_module": "@jupyter-widgets/base",
            "top": null,
            "grid_column": null,
            "overflow_y": null,
            "overflow_x": null,
            "grid_auto_flow": null,
            "grid_area": null,
            "grid_template_columns": null,
            "flex": null,
            "_model_name": "LayoutModel",
            "justify_items": null,
            "grid_row": null,
            "max_height": null,
            "align_content": null,
            "visibility": null,
            "align_self": null,
            "height": null,
            "min_height": null,
            "padding": null,
            "grid_auto_rows": null,
            "grid_gap": null,
            "max_width": null,
            "order": null,
            "_view_module_version": "1.2.0",
            "grid_template_areas": null,
            "object_position": null,
            "object_fit": null,
            "grid_auto_columns": null,
            "margin": null,
            "display": null,
            "left": null
          }
        },
        "72433bcdf5ad4fe5b5f28981b2579282": {
          "model_module": "@jupyter-widgets/controls",
          "model_name": "ProgressStyleModel",
          "model_module_version": "1.5.0",
          "state": {
            "_view_name": "StyleView",
            "_model_name": "ProgressStyleModel",
            "description_width": "",
            "_view_module": "@jupyter-widgets/base",
            "_model_module_version": "1.5.0",
            "_view_count": null,
            "_view_module_version": "1.2.0",
            "bar_color": null,
            "_model_module": "@jupyter-widgets/controls"
          }
        },
        "ba4d6b3f14ab44679fa75a578ceaf729": {
          "model_module": "@jupyter-widgets/base",
          "model_name": "LayoutModel",
          "model_module_version": "1.2.0",
          "state": {
            "_view_name": "LayoutView",
            "grid_template_rows": null,
            "right": null,
            "justify_content": null,
            "_view_module": "@jupyter-widgets/base",
            "overflow": null,
            "_model_module_version": "1.2.0",
            "_view_count": null,
            "flex_flow": null,
            "width": null,
            "min_width": null,
            "border": null,
            "align_items": null,
            "bottom": null,
            "_model_module": "@jupyter-widgets/base",
            "top": null,
            "grid_column": null,
            "overflow_y": null,
            "overflow_x": null,
            "grid_auto_flow": null,
            "grid_area": null,
            "grid_template_columns": null,
            "flex": null,
            "_model_name": "LayoutModel",
            "justify_items": null,
            "grid_row": null,
            "max_height": null,
            "align_content": null,
            "visibility": null,
            "align_self": null,
            "height": null,
            "min_height": null,
            "padding": null,
            "grid_auto_rows": null,
            "grid_gap": null,
            "max_width": null,
            "order": null,
            "_view_module_version": "1.2.0",
            "grid_template_areas": null,
            "object_position": null,
            "object_fit": null,
            "grid_auto_columns": null,
            "margin": null,
            "display": null,
            "left": null
          }
        },
        "b921c03da6b744a09680b6afaf3f3da8": {
          "model_module": "@jupyter-widgets/controls",
          "model_name": "DescriptionStyleModel",
          "model_module_version": "1.5.0",
          "state": {
            "_view_name": "StyleView",
            "_model_name": "DescriptionStyleModel",
            "description_width": "",
            "_view_module": "@jupyter-widgets/base",
            "_model_module_version": "1.5.0",
            "_view_count": null,
            "_view_module_version": "1.2.0",
            "_model_module": "@jupyter-widgets/controls"
          }
        },
        "4ca40b2763f84510b431d6a7883fc70f": {
          "model_module": "@jupyter-widgets/base",
          "model_name": "LayoutModel",
          "model_module_version": "1.2.0",
          "state": {
            "_view_name": "LayoutView",
            "grid_template_rows": null,
            "right": null,
            "justify_content": null,
            "_view_module": "@jupyter-widgets/base",
            "overflow": null,
            "_model_module_version": "1.2.0",
            "_view_count": null,
            "flex_flow": null,
            "width": null,
            "min_width": null,
            "border": null,
            "align_items": null,
            "bottom": null,
            "_model_module": "@jupyter-widgets/base",
            "top": null,
            "grid_column": null,
            "overflow_y": null,
            "overflow_x": null,
            "grid_auto_flow": null,
            "grid_area": null,
            "grid_template_columns": null,
            "flex": null,
            "_model_name": "LayoutModel",
            "justify_items": null,
            "grid_row": null,
            "max_height": null,
            "align_content": null,
            "visibility": null,
            "align_self": null,
            "height": null,
            "min_height": null,
            "padding": null,
            "grid_auto_rows": null,
            "grid_gap": null,
            "max_width": null,
            "order": null,
            "_view_module_version": "1.2.0",
            "grid_template_areas": null,
            "object_position": null,
            "object_fit": null,
            "grid_auto_columns": null,
            "margin": null,
            "display": null,
            "left": null
          }
        },
        "ed3308abc0cc4a519340f31124d6d3f3": {
          "model_module": "@jupyter-widgets/controls",
          "model_name": "HBoxModel",
          "model_module_version": "1.5.0",
          "state": {
            "_view_name": "HBoxView",
            "_dom_classes": [],
            "_model_name": "HBoxModel",
            "_view_module": "@jupyter-widgets/controls",
            "_model_module_version": "1.5.0",
            "_view_count": null,
            "_view_module_version": "1.5.0",
            "box_style": "",
            "layout": "IPY_MODEL_5eff1fdf3cc74090955e43ae9d00e8b2",
            "_model_module": "@jupyter-widgets/controls",
            "children": [
              "IPY_MODEL_a5ef7c66b72647dc94193905712bf78c",
              "IPY_MODEL_d567cab762784a76b7b09585e0950686",
              "IPY_MODEL_7338e9bf6d45436185f903ad77a31ee3"
            ]
          }
        },
        "5eff1fdf3cc74090955e43ae9d00e8b2": {
          "model_module": "@jupyter-widgets/base",
          "model_name": "LayoutModel",
          "model_module_version": "1.2.0",
          "state": {
            "_view_name": "LayoutView",
            "grid_template_rows": null,
            "right": null,
            "justify_content": null,
            "_view_module": "@jupyter-widgets/base",
            "overflow": null,
            "_model_module_version": "1.2.0",
            "_view_count": null,
            "flex_flow": null,
            "width": null,
            "min_width": null,
            "border": null,
            "align_items": null,
            "bottom": null,
            "_model_module": "@jupyter-widgets/base",
            "top": null,
            "grid_column": null,
            "overflow_y": null,
            "overflow_x": null,
            "grid_auto_flow": null,
            "grid_area": null,
            "grid_template_columns": null,
            "flex": null,
            "_model_name": "LayoutModel",
            "justify_items": null,
            "grid_row": null,
            "max_height": null,
            "align_content": null,
            "visibility": null,
            "align_self": null,
            "height": null,
            "min_height": null,
            "padding": null,
            "grid_auto_rows": null,
            "grid_gap": null,
            "max_width": null,
            "order": null,
            "_view_module_version": "1.2.0",
            "grid_template_areas": null,
            "object_position": null,
            "object_fit": null,
            "grid_auto_columns": null,
            "margin": null,
            "display": null,
            "left": null
          }
        },
        "a5ef7c66b72647dc94193905712bf78c": {
          "model_module": "@jupyter-widgets/controls",
          "model_name": "HTMLModel",
          "model_module_version": "1.5.0",
          "state": {
            "_view_name": "HTMLView",
            "style": "IPY_MODEL_16b14896c3fa4ed5859911e85e90b86b",
            "_dom_classes": [],
            "description": "",
            "_model_name": "HTMLModel",
            "placeholder": "​",
            "_view_module": "@jupyter-widgets/controls",
            "_model_module_version": "1.5.0",
            "value": "",
            "_view_count": null,
            "_view_module_version": "1.5.0",
            "description_tooltip": null,
            "_model_module": "@jupyter-widgets/controls",
            "layout": "IPY_MODEL_3dca8a4658344271b3cc2ff155cfa584"
          }
        },
        "d567cab762784a76b7b09585e0950686": {
          "model_module": "@jupyter-widgets/controls",
          "model_name": "FloatProgressModel",
          "model_module_version": "1.5.0",
          "state": {
            "_view_name": "ProgressView",
            "style": "IPY_MODEL_168aa6bc83c4428ca8be5d22a611a8cb",
            "_dom_classes": [],
            "description": "",
            "_model_name": "FloatProgressModel",
            "bar_style": "success",
            "max": 1,
            "_view_module": "@jupyter-widgets/controls",
            "_model_module_version": "1.5.0",
            "value": 1,
            "_view_count": null,
            "_view_module_version": "1.5.0",
            "orientation": "horizontal",
            "min": 0,
            "description_tooltip": null,
            "_model_module": "@jupyter-widgets/controls",
            "layout": "IPY_MODEL_2925f242726f485f9789b4fcca5cdb38"
          }
        },
        "7338e9bf6d45436185f903ad77a31ee3": {
          "model_module": "@jupyter-widgets/controls",
          "model_name": "HTMLModel",
          "model_module_version": "1.5.0",
          "state": {
            "_view_name": "HTMLView",
            "style": "IPY_MODEL_5ca89d4e4d1647b3a98813dce8d92d72",
            "_dom_classes": [],
            "description": "",
            "_model_name": "HTMLModel",
            "placeholder": "​",
            "_view_module": "@jupyter-widgets/controls",
            "_model_module_version": "1.5.0",
            "value": " 879729/? [09:34&lt;00:00, 857.52it/s]",
            "_view_count": null,
            "_view_module_version": "1.5.0",
            "description_tooltip": null,
            "_model_module": "@jupyter-widgets/controls",
            "layout": "IPY_MODEL_7353e5db299f49e2a4bf0a35dec87e58"
          }
        },
        "16b14896c3fa4ed5859911e85e90b86b": {
          "model_module": "@jupyter-widgets/controls",
          "model_name": "DescriptionStyleModel",
          "model_module_version": "1.5.0",
          "state": {
            "_view_name": "StyleView",
            "_model_name": "DescriptionStyleModel",
            "description_width": "",
            "_view_module": "@jupyter-widgets/base",
            "_model_module_version": "1.5.0",
            "_view_count": null,
            "_view_module_version": "1.2.0",
            "_model_module": "@jupyter-widgets/controls"
          }
        },
        "3dca8a4658344271b3cc2ff155cfa584": {
          "model_module": "@jupyter-widgets/base",
          "model_name": "LayoutModel",
          "model_module_version": "1.2.0",
          "state": {
            "_view_name": "LayoutView",
            "grid_template_rows": null,
            "right": null,
            "justify_content": null,
            "_view_module": "@jupyter-widgets/base",
            "overflow": null,
            "_model_module_version": "1.2.0",
            "_view_count": null,
            "flex_flow": null,
            "width": null,
            "min_width": null,
            "border": null,
            "align_items": null,
            "bottom": null,
            "_model_module": "@jupyter-widgets/base",
            "top": null,
            "grid_column": null,
            "overflow_y": null,
            "overflow_x": null,
            "grid_auto_flow": null,
            "grid_area": null,
            "grid_template_columns": null,
            "flex": null,
            "_model_name": "LayoutModel",
            "justify_items": null,
            "grid_row": null,
            "max_height": null,
            "align_content": null,
            "visibility": null,
            "align_self": null,
            "height": null,
            "min_height": null,
            "padding": null,
            "grid_auto_rows": null,
            "grid_gap": null,
            "max_width": null,
            "order": null,
            "_view_module_version": "1.2.0",
            "grid_template_areas": null,
            "object_position": null,
            "object_fit": null,
            "grid_auto_columns": null,
            "margin": null,
            "display": null,
            "left": null
          }
        },
        "168aa6bc83c4428ca8be5d22a611a8cb": {
          "model_module": "@jupyter-widgets/controls",
          "model_name": "ProgressStyleModel",
          "model_module_version": "1.5.0",
          "state": {
            "_view_name": "StyleView",
            "_model_name": "ProgressStyleModel",
            "description_width": "",
            "_view_module": "@jupyter-widgets/base",
            "_model_module_version": "1.5.0",
            "_view_count": null,
            "_view_module_version": "1.2.0",
            "bar_color": null,
            "_model_module": "@jupyter-widgets/controls"
          }
        },
        "2925f242726f485f9789b4fcca5cdb38": {
          "model_module": "@jupyter-widgets/base",
          "model_name": "LayoutModel",
          "model_module_version": "1.2.0",
          "state": {
            "_view_name": "LayoutView",
            "grid_template_rows": null,
            "right": null,
            "justify_content": null,
            "_view_module": "@jupyter-widgets/base",
            "overflow": null,
            "_model_module_version": "1.2.0",
            "_view_count": null,
            "flex_flow": null,
            "width": "20px",
            "min_width": null,
            "border": null,
            "align_items": null,
            "bottom": null,
            "_model_module": "@jupyter-widgets/base",
            "top": null,
            "grid_column": null,
            "overflow_y": null,
            "overflow_x": null,
            "grid_auto_flow": null,
            "grid_area": null,
            "grid_template_columns": null,
            "flex": null,
            "_model_name": "LayoutModel",
            "justify_items": null,
            "grid_row": null,
            "max_height": null,
            "align_content": null,
            "visibility": null,
            "align_self": null,
            "height": null,
            "min_height": null,
            "padding": null,
            "grid_auto_rows": null,
            "grid_gap": null,
            "max_width": null,
            "order": null,
            "_view_module_version": "1.2.0",
            "grid_template_areas": null,
            "object_position": null,
            "object_fit": null,
            "grid_auto_columns": null,
            "margin": null,
            "display": null,
            "left": null
          }
        },
        "5ca89d4e4d1647b3a98813dce8d92d72": {
          "model_module": "@jupyter-widgets/controls",
          "model_name": "DescriptionStyleModel",
          "model_module_version": "1.5.0",
          "state": {
            "_view_name": "StyleView",
            "_model_name": "DescriptionStyleModel",
            "description_width": "",
            "_view_module": "@jupyter-widgets/base",
            "_model_module_version": "1.5.0",
            "_view_count": null,
            "_view_module_version": "1.2.0",
            "_model_module": "@jupyter-widgets/controls"
          }
        },
        "7353e5db299f49e2a4bf0a35dec87e58": {
          "model_module": "@jupyter-widgets/base",
          "model_name": "LayoutModel",
          "model_module_version": "1.2.0",
          "state": {
            "_view_name": "LayoutView",
            "grid_template_rows": null,
            "right": null,
            "justify_content": null,
            "_view_module": "@jupyter-widgets/base",
            "overflow": null,
            "_model_module_version": "1.2.0",
            "_view_count": null,
            "flex_flow": null,
            "width": null,
            "min_width": null,
            "border": null,
            "align_items": null,
            "bottom": null,
            "_model_module": "@jupyter-widgets/base",
            "top": null,
            "grid_column": null,
            "overflow_y": null,
            "overflow_x": null,
            "grid_auto_flow": null,
            "grid_area": null,
            "grid_template_columns": null,
            "flex": null,
            "_model_name": "LayoutModel",
            "justify_items": null,
            "grid_row": null,
            "max_height": null,
            "align_content": null,
            "visibility": null,
            "align_self": null,
            "height": null,
            "min_height": null,
            "padding": null,
            "grid_auto_rows": null,
            "grid_gap": null,
            "max_width": null,
            "order": null,
            "_view_module_version": "1.2.0",
            "grid_template_areas": null,
            "object_position": null,
            "object_fit": null,
            "grid_auto_columns": null,
            "margin": null,
            "display": null,
            "left": null
          }
        }
      }
    }
  },
  "cells": [
    {
      "cell_type": "markdown",
      "source": [
        "# Prediction of Ransome Activity \n",
        "\n",
        "Rihem Mansri, Mohamed Issa, Mootez Dakhlaoui, Bourhan Dernayka, Joel Pascal Soffo, Ronny Tonato"
      ],
      "metadata": {
        "id": "fWhReRJ_kV1r"
      }
    },
    {
      "cell_type": "code",
      "source": [
        "import os\n",
        "import warnings\n",
        "import pickle\n",
        "import pandas as pd\n",
        "import numpy as np\n",
        "\n",
        "import matplotlib.pyplot as plt\n",
        "import seaborn as sns\n",
        "from scipy.stats import boxcox\n",
        "from tqdm.notebook import tqdm\n",
        "\n",
        "from sklearn.model_selection import train_test_split\n",
        "import pdb\n",
        "import datetime\n",
        "from scipy.stats import pearsonr\n",
        "\n",
        "from sklearn.preprocessing import StandardScaler, OneHotEncoder\n",
        "from sklearn.compose import ColumnTransformer\n",
        "from sklearn.metrics import accuracy_score, log_loss, plot_roc_curve, f1_score, precision_score, recall_score\n",
        "from sklearn.model_selection import RandomizedSearchCV\n",
        "import matplotlib\n",
        "from prettytable import PrettyTable\n",
        "from pprint import pprint\n",
        "\n",
        "warnings.filterwarnings(\"ignore\")"
      ],
      "metadata": {
        "id": "Jn-PDoDnkurp"
      },
      "execution_count": 1,
      "outputs": []
    },
    {
      "cell_type": "markdown",
      "source": [
        "## **Importing Data**"
      ],
      "metadata": {
        "id": "UHaJ_8bTmzGO"
      }
    },
    {
      "cell_type": "code",
      "source": [
        "data = pd.read_csv(\"BitcoinHeistData.csv\")\n",
        "data.head()"
      ],
      "metadata": {
        "colab": {
          "base_uri": "https://localhost:8080/",
          "height": 206
        },
        "id": "7YB-ueJBk9ti",
        "outputId": "faaad6eb-0386-4206-ae6a-187075f51453"
      },
      "execution_count": 2,
      "outputs": [
        {
          "output_type": "execute_result",
          "data": {
            "text/html": [
              "\n",
              "  <div id=\"df-3fcb6c4c-bfd4-4973-bdcb-18d762349fd9\">\n",
              "    <div class=\"colab-df-container\">\n",
              "      <div>\n",
              "<style scoped>\n",
              "    .dataframe tbody tr th:only-of-type {\n",
              "        vertical-align: middle;\n",
              "    }\n",
              "\n",
              "    .dataframe tbody tr th {\n",
              "        vertical-align: top;\n",
              "    }\n",
              "\n",
              "    .dataframe thead th {\n",
              "        text-align: right;\n",
              "    }\n",
              "</style>\n",
              "<table border=\"1\" class=\"dataframe\">\n",
              "  <thead>\n",
              "    <tr style=\"text-align: right;\">\n",
              "      <th></th>\n",
              "      <th>address</th>\n",
              "      <th>year</th>\n",
              "      <th>day</th>\n",
              "      <th>length</th>\n",
              "      <th>weight</th>\n",
              "      <th>count</th>\n",
              "      <th>looped</th>\n",
              "      <th>neighbors</th>\n",
              "      <th>income</th>\n",
              "      <th>label</th>\n",
              "    </tr>\n",
              "  </thead>\n",
              "  <tbody>\n",
              "    <tr>\n",
              "      <th>0</th>\n",
              "      <td>111K8kZAEnJg245r2cM6y9zgJGHZtJPy6</td>\n",
              "      <td>2017</td>\n",
              "      <td>11</td>\n",
              "      <td>18</td>\n",
              "      <td>0.008333</td>\n",
              "      <td>1</td>\n",
              "      <td>0</td>\n",
              "      <td>2</td>\n",
              "      <td>100050000.0</td>\n",
              "      <td>princetonCerber</td>\n",
              "    </tr>\n",
              "    <tr>\n",
              "      <th>1</th>\n",
              "      <td>1123pJv8jzeFQaCV4w644pzQJzVWay2zcA</td>\n",
              "      <td>2016</td>\n",
              "      <td>132</td>\n",
              "      <td>44</td>\n",
              "      <td>0.000244</td>\n",
              "      <td>1</td>\n",
              "      <td>0</td>\n",
              "      <td>1</td>\n",
              "      <td>100000000.0</td>\n",
              "      <td>princetonLocky</td>\n",
              "    </tr>\n",
              "    <tr>\n",
              "      <th>2</th>\n",
              "      <td>112536im7hy6wtKbpH1qYDWtTyMRAcA2p7</td>\n",
              "      <td>2016</td>\n",
              "      <td>246</td>\n",
              "      <td>0</td>\n",
              "      <td>1.000000</td>\n",
              "      <td>1</td>\n",
              "      <td>0</td>\n",
              "      <td>2</td>\n",
              "      <td>200000000.0</td>\n",
              "      <td>princetonCerber</td>\n",
              "    </tr>\n",
              "    <tr>\n",
              "      <th>3</th>\n",
              "      <td>1126eDRw2wqSkWosjTCre8cjjQW8sSeWH7</td>\n",
              "      <td>2016</td>\n",
              "      <td>322</td>\n",
              "      <td>72</td>\n",
              "      <td>0.003906</td>\n",
              "      <td>1</td>\n",
              "      <td>0</td>\n",
              "      <td>2</td>\n",
              "      <td>71200000.0</td>\n",
              "      <td>princetonCerber</td>\n",
              "    </tr>\n",
              "    <tr>\n",
              "      <th>4</th>\n",
              "      <td>1129TSjKtx65E35GiUo4AYVeyo48twbrGX</td>\n",
              "      <td>2016</td>\n",
              "      <td>238</td>\n",
              "      <td>144</td>\n",
              "      <td>0.072848</td>\n",
              "      <td>456</td>\n",
              "      <td>0</td>\n",
              "      <td>1</td>\n",
              "      <td>200000000.0</td>\n",
              "      <td>princetonLocky</td>\n",
              "    </tr>\n",
              "  </tbody>\n",
              "</table>\n",
              "</div>\n",
              "      <button class=\"colab-df-convert\" onclick=\"convertToInteractive('df-3fcb6c4c-bfd4-4973-bdcb-18d762349fd9')\"\n",
              "              title=\"Convert this dataframe to an interactive table.\"\n",
              "              style=\"display:none;\">\n",
              "        \n",
              "  <svg xmlns=\"http://www.w3.org/2000/svg\" height=\"24px\"viewBox=\"0 0 24 24\"\n",
              "       width=\"24px\">\n",
              "    <path d=\"M0 0h24v24H0V0z\" fill=\"none\"/>\n",
              "    <path d=\"M18.56 5.44l.94 2.06.94-2.06 2.06-.94-2.06-.94-.94-2.06-.94 2.06-2.06.94zm-11 1L8.5 8.5l.94-2.06 2.06-.94-2.06-.94L8.5 2.5l-.94 2.06-2.06.94zm10 10l.94 2.06.94-2.06 2.06-.94-2.06-.94-.94-2.06-.94 2.06-2.06.94z\"/><path d=\"M17.41 7.96l-1.37-1.37c-.4-.4-.92-.59-1.43-.59-.52 0-1.04.2-1.43.59L10.3 9.45l-7.72 7.72c-.78.78-.78 2.05 0 2.83L4 21.41c.39.39.9.59 1.41.59.51 0 1.02-.2 1.41-.59l7.78-7.78 2.81-2.81c.8-.78.8-2.07 0-2.86zM5.41 20L4 18.59l7.72-7.72 1.47 1.35L5.41 20z\"/>\n",
              "  </svg>\n",
              "      </button>\n",
              "      \n",
              "  <style>\n",
              "    .colab-df-container {\n",
              "      display:flex;\n",
              "      flex-wrap:wrap;\n",
              "      gap: 12px;\n",
              "    }\n",
              "\n",
              "    .colab-df-convert {\n",
              "      background-color: #E8F0FE;\n",
              "      border: none;\n",
              "      border-radius: 50%;\n",
              "      cursor: pointer;\n",
              "      display: none;\n",
              "      fill: #1967D2;\n",
              "      height: 32px;\n",
              "      padding: 0 0 0 0;\n",
              "      width: 32px;\n",
              "    }\n",
              "\n",
              "    .colab-df-convert:hover {\n",
              "      background-color: #E2EBFA;\n",
              "      box-shadow: 0px 1px 2px rgba(60, 64, 67, 0.3), 0px 1px 3px 1px rgba(60, 64, 67, 0.15);\n",
              "      fill: #174EA6;\n",
              "    }\n",
              "\n",
              "    [theme=dark] .colab-df-convert {\n",
              "      background-color: #3B4455;\n",
              "      fill: #D2E3FC;\n",
              "    }\n",
              "\n",
              "    [theme=dark] .colab-df-convert:hover {\n",
              "      background-color: #434B5C;\n",
              "      box-shadow: 0px 1px 3px 1px rgba(0, 0, 0, 0.15);\n",
              "      filter: drop-shadow(0px 1px 2px rgba(0, 0, 0, 0.3));\n",
              "      fill: #FFFFFF;\n",
              "    }\n",
              "  </style>\n",
              "\n",
              "      <script>\n",
              "        const buttonEl =\n",
              "          document.querySelector('#df-3fcb6c4c-bfd4-4973-bdcb-18d762349fd9 button.colab-df-convert');\n",
              "        buttonEl.style.display =\n",
              "          google.colab.kernel.accessAllowed ? 'block' : 'none';\n",
              "\n",
              "        async function convertToInteractive(key) {\n",
              "          const element = document.querySelector('#df-3fcb6c4c-bfd4-4973-bdcb-18d762349fd9');\n",
              "          const dataTable =\n",
              "            await google.colab.kernel.invokeFunction('convertToInteractive',\n",
              "                                                     [key], {});\n",
              "          if (!dataTable) return;\n",
              "\n",
              "          const docLinkHtml = 'Like what you see? Visit the ' +\n",
              "            '<a target=\"_blank\" href=https://colab.research.google.com/notebooks/data_table.ipynb>data table notebook</a>'\n",
              "            + ' to learn more about interactive tables.';\n",
              "          element.innerHTML = '';\n",
              "          dataTable['output_type'] = 'display_data';\n",
              "          await google.colab.output.renderOutput(dataTable, element);\n",
              "          const docLink = document.createElement('div');\n",
              "          docLink.innerHTML = docLinkHtml;\n",
              "          element.appendChild(docLink);\n",
              "        }\n",
              "      </script>\n",
              "    </div>\n",
              "  </div>\n",
              "  "
            ],
            "text/plain": [
              "                              address  year  ...       income            label\n",
              "0   111K8kZAEnJg245r2cM6y9zgJGHZtJPy6  2017  ...  100050000.0  princetonCerber\n",
              "1  1123pJv8jzeFQaCV4w644pzQJzVWay2zcA  2016  ...  100000000.0   princetonLocky\n",
              "2  112536im7hy6wtKbpH1qYDWtTyMRAcA2p7  2016  ...  200000000.0  princetonCerber\n",
              "3  1126eDRw2wqSkWosjTCre8cjjQW8sSeWH7  2016  ...   71200000.0  princetonCerber\n",
              "4  1129TSjKtx65E35GiUo4AYVeyo48twbrGX  2016  ...  200000000.0   princetonLocky\n",
              "\n",
              "[5 rows x 10 columns]"
            ]
          },
          "metadata": {},
          "execution_count": 2
        }
      ]
    },
    {
      "cell_type": "code",
      "source": [
        "# Global view for the data\n",
        "data.describe()"
      ],
      "metadata": {
        "colab": {
          "base_uri": "https://localhost:8080/",
          "height": 300
        },
        "id": "FandWkKDn_Cc",
        "outputId": "7ebe7ca3-96d9-45c0-fc4f-45dfe794981d"
      },
      "execution_count": 3,
      "outputs": [
        {
          "output_type": "execute_result",
          "data": {
            "text/html": [
              "\n",
              "  <div id=\"df-61fcf4ee-ea34-474d-bc27-b3ba463828a1\">\n",
              "    <div class=\"colab-df-container\">\n",
              "      <div>\n",
              "<style scoped>\n",
              "    .dataframe tbody tr th:only-of-type {\n",
              "        vertical-align: middle;\n",
              "    }\n",
              "\n",
              "    .dataframe tbody tr th {\n",
              "        vertical-align: top;\n",
              "    }\n",
              "\n",
              "    .dataframe thead th {\n",
              "        text-align: right;\n",
              "    }\n",
              "</style>\n",
              "<table border=\"1\" class=\"dataframe\">\n",
              "  <thead>\n",
              "    <tr style=\"text-align: right;\">\n",
              "      <th></th>\n",
              "      <th>year</th>\n",
              "      <th>day</th>\n",
              "      <th>length</th>\n",
              "      <th>weight</th>\n",
              "      <th>count</th>\n",
              "      <th>looped</th>\n",
              "      <th>neighbors</th>\n",
              "      <th>income</th>\n",
              "    </tr>\n",
              "  </thead>\n",
              "  <tbody>\n",
              "    <tr>\n",
              "      <th>count</th>\n",
              "      <td>879730.000000</td>\n",
              "      <td>879730.000000</td>\n",
              "      <td>879730.000000</td>\n",
              "      <td>8.797300e+05</td>\n",
              "      <td>879730.000000</td>\n",
              "      <td>879730.000000</td>\n",
              "      <td>879730.000000</td>\n",
              "      <td>8.797290e+05</td>\n",
              "    </tr>\n",
              "    <tr>\n",
              "      <th>mean</th>\n",
              "      <td>2011.865744</td>\n",
              "      <td>167.881771</td>\n",
              "      <td>25.623141</td>\n",
              "      <td>5.219976e-01</td>\n",
              "      <td>145.729969</td>\n",
              "      <td>34.485173</td>\n",
              "      <td>2.298332</td>\n",
              "      <td>1.019119e+10</td>\n",
              "    </tr>\n",
              "    <tr>\n",
              "      <th>std</th>\n",
              "      <td>0.998424</td>\n",
              "      <td>106.295965</td>\n",
              "      <td>41.601932</td>\n",
              "      <td>2.854665e+00</td>\n",
              "      <td>587.820566</td>\n",
              "      <td>282.088273</td>\n",
              "      <td>18.855091</td>\n",
              "      <td>2.782442e+11</td>\n",
              "    </tr>\n",
              "    <tr>\n",
              "      <th>min</th>\n",
              "      <td>2011.000000</td>\n",
              "      <td>1.000000</td>\n",
              "      <td>0.000000</td>\n",
              "      <td>3.606469e-94</td>\n",
              "      <td>1.000000</td>\n",
              "      <td>0.000000</td>\n",
              "      <td>1.000000</td>\n",
              "      <td>3.000000e+07</td>\n",
              "    </tr>\n",
              "    <tr>\n",
              "      <th>25%</th>\n",
              "      <td>2011.000000</td>\n",
              "      <td>75.000000</td>\n",
              "      <td>0.000000</td>\n",
              "      <td>1.596467e-02</td>\n",
              "      <td>1.000000</td>\n",
              "      <td>0.000000</td>\n",
              "      <td>1.000000</td>\n",
              "      <td>1.131351e+08</td>\n",
              "    </tr>\n",
              "    <tr>\n",
              "      <th>50%</th>\n",
              "      <td>2012.000000</td>\n",
              "      <td>156.000000</td>\n",
              "      <td>4.000000</td>\n",
              "      <td>2.500000e-01</td>\n",
              "      <td>1.000000</td>\n",
              "      <td>0.000000</td>\n",
              "      <td>2.000000</td>\n",
              "      <td>5.500000e+08</td>\n",
              "    </tr>\n",
              "    <tr>\n",
              "      <th>75%</th>\n",
              "      <td>2012.000000</td>\n",
              "      <td>261.000000</td>\n",
              "      <td>28.000000</td>\n",
              "      <td>5.352858e-01</td>\n",
              "      <td>10.000000</td>\n",
              "      <td>0.000000</td>\n",
              "      <td>2.000000</td>\n",
              "      <td>2.970481e+09</td>\n",
              "    </tr>\n",
              "    <tr>\n",
              "      <th>max</th>\n",
              "      <td>2018.000000</td>\n",
              "      <td>365.000000</td>\n",
              "      <td>144.000000</td>\n",
              "      <td>4.982885e+02</td>\n",
              "      <td>13462.000000</td>\n",
              "      <td>11693.000000</td>\n",
              "      <td>3776.000000</td>\n",
              "      <td>4.996440e+13</td>\n",
              "    </tr>\n",
              "  </tbody>\n",
              "</table>\n",
              "</div>\n",
              "      <button class=\"colab-df-convert\" onclick=\"convertToInteractive('df-61fcf4ee-ea34-474d-bc27-b3ba463828a1')\"\n",
              "              title=\"Convert this dataframe to an interactive table.\"\n",
              "              style=\"display:none;\">\n",
              "        \n",
              "  <svg xmlns=\"http://www.w3.org/2000/svg\" height=\"24px\"viewBox=\"0 0 24 24\"\n",
              "       width=\"24px\">\n",
              "    <path d=\"M0 0h24v24H0V0z\" fill=\"none\"/>\n",
              "    <path d=\"M18.56 5.44l.94 2.06.94-2.06 2.06-.94-2.06-.94-.94-2.06-.94 2.06-2.06.94zm-11 1L8.5 8.5l.94-2.06 2.06-.94-2.06-.94L8.5 2.5l-.94 2.06-2.06.94zm10 10l.94 2.06.94-2.06 2.06-.94-2.06-.94-.94-2.06-.94 2.06-2.06.94z\"/><path d=\"M17.41 7.96l-1.37-1.37c-.4-.4-.92-.59-1.43-.59-.52 0-1.04.2-1.43.59L10.3 9.45l-7.72 7.72c-.78.78-.78 2.05 0 2.83L4 21.41c.39.39.9.59 1.41.59.51 0 1.02-.2 1.41-.59l7.78-7.78 2.81-2.81c.8-.78.8-2.07 0-2.86zM5.41 20L4 18.59l7.72-7.72 1.47 1.35L5.41 20z\"/>\n",
              "  </svg>\n",
              "      </button>\n",
              "      \n",
              "  <style>\n",
              "    .colab-df-container {\n",
              "      display:flex;\n",
              "      flex-wrap:wrap;\n",
              "      gap: 12px;\n",
              "    }\n",
              "\n",
              "    .colab-df-convert {\n",
              "      background-color: #E8F0FE;\n",
              "      border: none;\n",
              "      border-radius: 50%;\n",
              "      cursor: pointer;\n",
              "      display: none;\n",
              "      fill: #1967D2;\n",
              "      height: 32px;\n",
              "      padding: 0 0 0 0;\n",
              "      width: 32px;\n",
              "    }\n",
              "\n",
              "    .colab-df-convert:hover {\n",
              "      background-color: #E2EBFA;\n",
              "      box-shadow: 0px 1px 2px rgba(60, 64, 67, 0.3), 0px 1px 3px 1px rgba(60, 64, 67, 0.15);\n",
              "      fill: #174EA6;\n",
              "    }\n",
              "\n",
              "    [theme=dark] .colab-df-convert {\n",
              "      background-color: #3B4455;\n",
              "      fill: #D2E3FC;\n",
              "    }\n",
              "\n",
              "    [theme=dark] .colab-df-convert:hover {\n",
              "      background-color: #434B5C;\n",
              "      box-shadow: 0px 1px 3px 1px rgba(0, 0, 0, 0.15);\n",
              "      filter: drop-shadow(0px 1px 2px rgba(0, 0, 0, 0.3));\n",
              "      fill: #FFFFFF;\n",
              "    }\n",
              "  </style>\n",
              "\n",
              "      <script>\n",
              "        const buttonEl =\n",
              "          document.querySelector('#df-61fcf4ee-ea34-474d-bc27-b3ba463828a1 button.colab-df-convert');\n",
              "        buttonEl.style.display =\n",
              "          google.colab.kernel.accessAllowed ? 'block' : 'none';\n",
              "\n",
              "        async function convertToInteractive(key) {\n",
              "          const element = document.querySelector('#df-61fcf4ee-ea34-474d-bc27-b3ba463828a1');\n",
              "          const dataTable =\n",
              "            await google.colab.kernel.invokeFunction('convertToInteractive',\n",
              "                                                     [key], {});\n",
              "          if (!dataTable) return;\n",
              "\n",
              "          const docLinkHtml = 'Like what you see? Visit the ' +\n",
              "            '<a target=\"_blank\" href=https://colab.research.google.com/notebooks/data_table.ipynb>data table notebook</a>'\n",
              "            + ' to learn more about interactive tables.';\n",
              "          element.innerHTML = '';\n",
              "          dataTable['output_type'] = 'display_data';\n",
              "          await google.colab.output.renderOutput(dataTable, element);\n",
              "          const docLink = document.createElement('div');\n",
              "          docLink.innerHTML = docLinkHtml;\n",
              "          element.appendChild(docLink);\n",
              "        }\n",
              "      </script>\n",
              "    </div>\n",
              "  </div>\n",
              "  "
            ],
            "text/plain": [
              "                year            day  ...      neighbors        income\n",
              "count  879730.000000  879730.000000  ...  879730.000000  8.797290e+05\n",
              "mean     2011.865744     167.881771  ...       2.298332  1.019119e+10\n",
              "std         0.998424     106.295965  ...      18.855091  2.782442e+11\n",
              "min      2011.000000       1.000000  ...       1.000000  3.000000e+07\n",
              "25%      2011.000000      75.000000  ...       1.000000  1.131351e+08\n",
              "50%      2012.000000     156.000000  ...       2.000000  5.500000e+08\n",
              "75%      2012.000000     261.000000  ...       2.000000  2.970481e+09\n",
              "max      2018.000000     365.000000  ...    3776.000000  4.996440e+13\n",
              "\n",
              "[8 rows x 8 columns]"
            ]
          },
          "metadata": {},
          "execution_count": 3
        }
      ]
    },
    {
      "cell_type": "code",
      "source": [
        "print(data.shape)"
      ],
      "metadata": {
        "colab": {
          "base_uri": "https://localhost:8080/"
        },
        "id": "4SGf_LhWlR4L",
        "outputId": "18c61b98-7e1c-4f24-bdc2-094d5afc825e"
      },
      "execution_count": 4,
      "outputs": [
        {
          "output_type": "stream",
          "name": "stdout",
          "text": [
            "(879730, 10)\n"
          ]
        }
      ]
    },
    {
      "cell_type": "markdown",
      "source": [
        "Our dataset has roughly 2,000,000 rows and 10 columns. Out of these 10 columns, we have 9 predictors and one target column. Each row details a particular transaction with 9 features.\n",
        "\n",
        "Description of features : .................\n"
      ],
      "metadata": {
        "id": "9Dl_GmO8nAql"
      }
    },
    {
      "cell_type": "markdown",
      "source": [
        "## **Data Cleaning and Feature Engineering**"
      ],
      "metadata": {
        "id": "yaBAV7uenxM-"
      }
    },
    {
      "cell_type": "code",
      "source": [
        "for i in list(data.columns):\n",
        "    if any(data[i].isnull()):\n",
        "        print('Column: {} contains NaN'.format(i))\n",
        "    else:\n",
        "        print('No NaN found...')"
      ],
      "metadata": {
        "colab": {
          "base_uri": "https://localhost:8080/"
        },
        "id": "2midbveam__C",
        "outputId": "48f6ff3b-4da0-4216-9958-1fff218b9054"
      },
      "execution_count": 5,
      "outputs": [
        {
          "output_type": "stream",
          "name": "stdout",
          "text": [
            "No NaN found...\n",
            "No NaN found...\n",
            "No NaN found...\n",
            "No NaN found...\n",
            "No NaN found...\n",
            "No NaN found...\n",
            "No NaN found...\n",
            "No NaN found...\n",
            "Column: income contains NaN\n",
            "Column: label contains NaN\n"
          ]
        }
      ]
    },
    {
      "cell_type": "markdown",
      "source": [
        "as we can see there are many columns containing NaN values so the easiest way is to drop those lines."
      ],
      "metadata": {
        "id": "06bTy0nEoDXh"
      }
    },
    {
      "cell_type": "code",
      "source": [
        "data.dropna(inplace=True)\n",
        "data = data.drop_duplicates()  #Drop duplicate Rows"
      ],
      "metadata": {
        "id": "uWtQPhuQoCuU"
      },
      "execution_count": 6,
      "outputs": []
    },
    {
      "cell_type": "code",
      "source": [
        "data['address'].value_counts()\n",
        "n_addresses = list(data['address'].value_counts())\n",
        "\n",
        "#plot to print distribution of n_addresses\n",
        "plt.title('Distribution plot of n_addresses')\n",
        "sns.distplot(n_addresses)\n",
        "plt.xlabel('n_addresses')\n",
        "plt.ylabel('PDF')\n",
        "plt.show()"
      ],
      "metadata": {
        "colab": {
          "base_uri": "https://localhost:8080/",
          "height": 296
        },
        "id": "E6_kMcoSoizh",
        "outputId": "5502d7c0-dcdb-4e9e-8295-8def9d389e4c"
      },
      "execution_count": 7,
      "outputs": [
        {
          "output_type": "display_data",
          "data": {
            "image/png": "[encoded data removed]",
            "text/plain": [
              "<Figure size 432x288 with 1 Axes>"
            ]
          },
          "metadata": {
            "needs_background": "light"
          }
        }
      ]
    },
    {
      "cell_type": "code",
      "source": [
        "print('An address is repeated an average of {} number of times'.format(np.mean(n_addresses)))"
      ],
      "metadata": {
        "colab": {
          "base_uri": "https://localhost:8080/"
        },
        "id": "Gh6cJsMSvXTA",
        "outputId": "781f7f86-a12e-47f4-bb6b-767e4d71659b"
      },
      "execution_count": 8,
      "outputs": [
        {
          "output_type": "stream",
          "name": "stdout",
          "text": [
            "An address is repeated an average of 1.2608661378952528 number of times\n"
          ]
        }
      ]
    },
    {
      "cell_type": "markdown",
      "source": [
        "We get an extremely skewed distribution, hence we will try to zoom-in for better inference so we will plot only points in the 5th percentile"
      ],
      "metadata": {
        "id": "OxyzgUx0qil_"
      }
    },
    {
      "cell_type": "code",
      "source": [
        "fifth_per = np.percentile(n_addresses, 99)\n",
        "n_addresses_fifthpercentile = np.array([element for element in n_addresses if element <=fifth_per ])\n",
        "#checking points only within 5th percentile\n",
        "\n",
        "plt.title('Distribution plot of points within 5th percentile')\n",
        "sns.distplot(n_addresses_fifthpercentile)\n",
        "plt.xlabel('n_addresses')\n",
        "plt.ylabel('PDF')\n",
        "plt.show()"
      ],
      "metadata": {
        "colab": {
          "base_uri": "https://localhost:8080/",
          "height": 296
        },
        "id": "MhYgXoERoqSh",
        "outputId": "47dade98-3d4e-498d-f783-704653cb5853"
      },
      "execution_count": 9,
      "outputs": [
        {
          "output_type": "display_data",
          "data": {
            "image/png": "[encoded data removed]",
            "text/plain": [
              "<Figure size 432x288 with 1 Axes>"
            ]
          },
          "metadata": {
            "needs_background": "light"
          }
        }
      ]
    },
    {
      "cell_type": "markdown",
      "source": [
        "We see that most addresses are repeated only once and a small percentage of them are repeated twice and even a smaller number for the addresses repeated 3 times"
      ],
      "metadata": {
        "id": "rAWcJZGavf4y"
      }
    },
    {
      "cell_type": "code",
      "source": [
        "# Looking at its distribution\n",
        "plt.figure(figsize=(14, 5))\n",
        "\n",
        "\n",
        "plt.subplot(121)\n",
        "sns.distplot(data['length'])\n",
        "plt.title('Distribution of length')\n",
        "\n",
        "\n",
        "plt.subplot(122)\n",
        "sns.distplot(boxcox(np.array(data['length']) + 1e-6)[0], color='red')\n",
        "plt.title('Distribution of boxcox transformation over length')\n",
        "\n",
        "plt.tight_layout(pad=3.0)\n",
        "plt.show()\n"
      ],
      "metadata": {
        "colab": {
          "base_uri": "https://localhost:8080/",
          "height": 331
        },
        "id": "NIknmOX_qg9_",
        "outputId": "fb8ab3d1-2b71-4ee2-9256-c485aaed7e27"
      },
      "execution_count": 10,
      "outputs": [
        {
          "output_type": "display_data",
          "data": {
            "image/png": "[encoded data removed]",
            "text/plain": [
              "<Figure size 1008x360 with 2 Axes>"
            ]
          },
          "metadata": {
            "needs_background": "light"
          }
        }
      ]
    },
    {
      "cell_type": "markdown",
      "source": [
        "In global view we can see that we have a skewness in mostly all features so to have a better modelling in our algorithm we are trying to fix the skewness and that's by doing complex functions like Sin/ Log and performing a boxcox operation on it."
      ],
      "metadata": {
        "id": "v0p-KRbf_yXO"
      }
    },
    {
      "cell_type": "code",
      "source": [
        "plt.figure(figsize=(14, 5))\n",
        "\n",
        "plt.subplot(121)\n",
        "sns.distplot(data['weight'])\n",
        "plt.title('Distribution of weight')\n",
        "\n",
        "plt.subplot(122)\n",
        "sns.distplot(boxcox(np.array(data['weight']))[0], color='red')\n",
        "plt.title('Boxcox transformation of weight')\n",
        "\n",
        "plt.tight_layout(pad=3.0)\n",
        "plt.show()"
      ],
      "metadata": {
        "id": "mcYNJPqcALzP",
        "colab": {
          "base_uri": "https://localhost:8080/",
          "height": 331
        },
        "outputId": "a642b688-eb3f-49d1-fbb4-922a14d37eb4"
      },
      "execution_count": 11,
      "outputs": [
        {
          "output_type": "display_data",
          "data": {
            "image/png": "[encoded data removed]",
            "text/plain": [
              "<Figure size 1008x360 with 2 Axes>"
            ]
          },
          "metadata": {
            "needs_background": "light"
          }
        }
      ]
    },
    {
      "cell_type": "code",
      "source": [
        "plt.figure(figsize=(14, 5))\n",
        "\n",
        "plt.subplot(121)\n",
        "sns.distplot(data['neighbors'])\n",
        "plt.title('Distribution of neighbors')\n",
        "\n",
        "plt.subplot(122)\n",
        "sns.distplot(boxcox(np.array(data['neighbors']) + 1e-6)[0], color='red')\n",
        "plt.title('Boxcox of neighbors')\n",
        "plt.show()"
      ],
      "metadata": {
        "colab": {
          "base_uri": "https://localhost:8080/",
          "height": 350
        },
        "id": "p-SgeeuSV-NG",
        "outputId": "8cbae56e-26db-4fee-8a7c-859fe452652b"
      },
      "execution_count": 12,
      "outputs": [
        {
          "output_type": "display_data",
          "data": {
            "image/png": "[encoded data removed]",
            "text/plain": [
              "<Figure size 1008x360 with 2 Axes>"
            ]
          },
          "metadata": {
            "needs_background": "light"
          }
        }
      ]
    },
    {
      "cell_type": "code",
      "source": [
        "plt.figure(figsize=(14, 5))\n",
        "\n",
        "plt.subplot(121)\n",
        "sns.distplot(data['income'])\n",
        "plt.title('Distribution of income')\n",
        "\n",
        "plt.subplot(122)\n",
        "sns.distplot(boxcox(np.array(data['income']) + 1e-6)[0], color='red')\n",
        "plt.title('Boxcox of income')\n",
        "plt.show()"
      ],
      "metadata": {
        "colab": {
          "base_uri": "https://localhost:8080/",
          "height": 350
        },
        "id": "IpgKpgXfaUXR",
        "outputId": "66d40592-2000-4447-f0db-af7fdbac467b"
      },
      "execution_count": 13,
      "outputs": [
        {
          "output_type": "display_data",
          "data": {
            "image/png": "[encoded data removed]",
            "text/plain": [
              "<Figure size 1008x360 with 2 Axes>"
            ]
          },
          "metadata": {
            "needs_background": "light"
          }
        }
      ]
    },
    {
      "cell_type": "markdown",
      "source": [
        "As we can see doing some transformation on the data makes it more suitable for algorithms. showing more guassian distributions will help in modelling.\n",
        "\n",
        "### Goal of using boxcox : \n",
        "Linear Regression, Gaussian Naive Bayes and other type of algorithms for classification are machine learning techniques that assume numerical variables have a Gaussian probability distribution.\n",
        "Our data might have a Gaussian-like distribution (e.g. almost Gaussian but with outliers or a skew) or a completely different distribution from a Gaussian distribution (e.g. exponential).\n",
        "As a result, by changing input and/or output variables to have a Gaussian or more-Gaussian distribution, you may be able to improve performance on a wide range of machine learning techniques.\n",
        "\n",
        "=> we will add other features of those transformations"
      ],
      "metadata": {
        "id": "eyWFjRH4e_Lv"
      }
    },
    {
      "cell_type": "markdown",
      "source": [
        "we can add also interaction features between the income and the neighbors which will represent complex features for the model that explains the correlation between both of them when comparing to each one mean"
      ],
      "metadata": {
        "id": "sms5Xt9mmmMD"
      }
    },
    {
      "cell_type": "code",
      "source": [
        "def get_income_neighbors(income, neighbor):\n",
        "    \"\"\"If botg of them is greater than the median then return 0\n",
        "        if only income is greater than median return 1\n",
        "        else return 2\"\"\"\n",
        "    \n",
        "    if income > median_income:\n",
        "        if neighbor > median_neighbors:\n",
        "            return 0\n",
        "        else:\n",
        "            return 1\n",
        "    return 2"
      ],
      "metadata": {
        "id": "RssS-kkhnrx-"
      },
      "execution_count": 14,
      "outputs": []
    },
    {
      "cell_type": "code",
      "source": [
        "median_neighbors = np.median(data['neighbors'])\n",
        "median_income = np.median(data['income'])\n",
        "\n",
        "interaction_income_neighbors = []\n",
        "for indice, ligne in tqdm(data.iterrows(), total=data.shape[0]):\n",
        "    interaction_income_neighbors.append(get_income_neighbors(ligne['income'], ligne['neighbors']))\n"
      ],
      "metadata": {
        "colab": {
          "base_uri": "https://localhost:8080/",
          "height": 49,
          "referenced_widgets": [
            "88e719540fc946248125c5befa6a6645",
            "4c1e89cec0d1450a839068534cf647e6",
            "9ce9cb46fd674640bdc44ac08ed3fdf6",
            "ed6cf68395ca4aa5b8cb2d7594e8385b",
            "b5611e6958be4b86837a8cc08560f9b7",
            "d1edc6f7ac544a4caec6d79d7f737314",
            "eb39075515d44cb3916311b18ef6a9ad",
            "72433bcdf5ad4fe5b5f28981b2579282",
            "ba4d6b3f14ab44679fa75a578ceaf729",
            "b921c03da6b744a09680b6afaf3f3da8",
            "4ca40b2763f84510b431d6a7883fc70f"
          ]
        },
        "id": "bXEkdMATmfNo",
        "outputId": "bbf98186-01aa-4e85-c677-62bcfdc0c3ea"
      },
      "execution_count": 15,
      "outputs": [
        {
          "output_type": "display_data",
          "data": {
            "application/vnd.jupyter.widget-view+json": {
              "model_id": "88e719540fc946248125c5befa6a6645",
              "version_minor": 0,
              "version_major": 2
            },
            "text/plain": [
              "  0%|          | 0/879729 [00:00<?, ?it/s]"
            ]
          },
          "metadata": {}
        }
      ]
    },
    {
      "cell_type": "code",
      "source": [
        "def get_day_number(First_day, day_i):\n",
        "    #return day number (0 for monday, 6 for sunday) for day_i\n",
        "    return (First_day + day_i - 1) % 7\n",
        "\n",
        "data_day_of_week = np.array([])\n",
        "for indice, ligne in tqdm(data.iterrows()):\n",
        "    year_i, day_i = ligne['year'], ligne['day']\n",
        "    data_day_of_week = np.append(data_day_of_week, get_day_number(datetime.datetime(year_i, 1, 1).weekday(), day_i))"
      ],
      "metadata": {
        "colab": {
          "base_uri": "https://localhost:8080/",
          "height": 49,
          "referenced_widgets": [
            "ed3308abc0cc4a519340f31124d6d3f3",
            "5eff1fdf3cc74090955e43ae9d00e8b2",
            "a5ef7c66b72647dc94193905712bf78c",
            "d567cab762784a76b7b09585e0950686",
            "7338e9bf6d45436185f903ad77a31ee3",
            "16b14896c3fa4ed5859911e85e90b86b",
            "3dca8a4658344271b3cc2ff155cfa584",
            "168aa6bc83c4428ca8be5d22a611a8cb",
            "2925f242726f485f9789b4fcca5cdb38",
            "5ca89d4e4d1647b3a98813dce8d92d72",
            "7353e5db299f49e2a4bf0a35dec87e58"
          ]
        },
        "id": "JPdSmPZTqID2",
        "outputId": "88ee29b3-8c00-4738-fd3d-31705ffef766"
      },
      "execution_count": 16,
      "outputs": [
        {
          "output_type": "display_data",
          "data": {
            "application/vnd.jupyter.widget-view+json": {
              "model_id": "ed3308abc0cc4a519340f31124d6d3f3",
              "version_minor": 0,
              "version_major": 2
            },
            "text/plain": [
              "0it [00:00, ?it/s]"
            ]
          },
          "metadata": {}
        }
      ]
    },
    {
      "cell_type": "code",
      "source": [
        "interaction_income_neighbors = np.array(interaction_income_neighbors)\n",
        "data_gaussian_weight = boxcox(np.array(data['weight']) + 1e-6)[0]\n",
        "data_gaussian_length = boxcox(np.array(data['length']) + 1e-6)[0]\n",
        "data_gaussian_neighbors = boxcox(np.array(data['neighbors']) + 1e-6)[0]\n",
        "data_gaussian_income = boxcox(np.array(data['income']) + 1e-6)[0]\n",
        "\n",
        "# Adding features\n",
        "data[\"data_gaussian_weight\"] = data_gaussian_weight\n",
        "data[\"data_gaussian_length\"] = data_gaussian_length\n",
        "data[\"data_gaussian_neighbors\"] = data_gaussian_neighbors\n",
        "data[\"data_gaussian_income\"] = data_gaussian_income\n",
        "data[\"interaction_income_neighbors\"] = interaction_income_neighbors\n",
        "data[\"data_day_of_week\"] = data_day_of_week\n",
        "\n"
      ],
      "metadata": {
        "id": "LNOeXw4yehLQ"
      },
      "execution_count": 17,
      "outputs": []
    },
    {
      "cell_type": "code",
      "source": [
        "data.head()"
      ],
      "metadata": {
        "colab": {
          "base_uri": "https://localhost:8080/",
          "height": 206
        },
        "id": "mYIOVO7HljFz",
        "outputId": "4cad4b6a-0112-4057-a8af-664312153577"
      },
      "execution_count": 18,
      "outputs": [
        {
          "output_type": "execute_result",
          "data": {
            "text/html": [
              "\n",
              "  <div id=\"df-804afdac-3100-4428-9969-1996a5912b7e\">\n",
              "    <div class=\"colab-df-container\">\n",
              "      <div>\n",
              "<style scoped>\n",
              "    .dataframe tbody tr th:only-of-type {\n",
              "        vertical-align: middle;\n",
              "    }\n",
              "\n",
              "    .dataframe tbody tr th {\n",
              "        vertical-align: top;\n",
              "    }\n",
              "\n",
              "    .dataframe thead th {\n",
              "        text-align: right;\n",
              "    }\n",
              "</style>\n",
              "<table border=\"1\" class=\"dataframe\">\n",
              "  <thead>\n",
              "    <tr style=\"text-align: right;\">\n",
              "      <th></th>\n",
              "      <th>address</th>\n",
              "      <th>year</th>\n",
              "      <th>day</th>\n",
              "      <th>length</th>\n",
              "      <th>weight</th>\n",
              "      <th>count</th>\n",
              "      <th>looped</th>\n",
              "      <th>neighbors</th>\n",
              "      <th>income</th>\n",
              "      <th>label</th>\n",
              "      <th>data_gaussian_weight</th>\n",
              "      <th>data_gaussian_length</th>\n",
              "      <th>data_gaussian_neighbors</th>\n",
              "      <th>data_gaussian_income</th>\n",
              "      <th>interaction_income_neighbors</th>\n",
              "      <th>data_day_of_week</th>\n",
              "    </tr>\n",
              "  </thead>\n",
              "  <tbody>\n",
              "    <tr>\n",
              "      <th>0</th>\n",
              "      <td>111K8kZAEnJg245r2cM6y9zgJGHZtJPy6</td>\n",
              "      <td>2017</td>\n",
              "      <td>11</td>\n",
              "      <td>18</td>\n",
              "      <td>0.008333</td>\n",
              "      <td>1</td>\n",
              "      <td>0</td>\n",
              "      <td>2</td>\n",
              "      <td>100050000.0</td>\n",
              "      <td>princetonCerber</td>\n",
              "      <td>-3.067577e+00</td>\n",
              "      <td>3.488424</td>\n",
              "      <td>5.513356e-01</td>\n",
              "      <td>7.582943</td>\n",
              "      <td>2</td>\n",
              "      <td>2.0</td>\n",
              "    </tr>\n",
              "    <tr>\n",
              "      <th>1</th>\n",
              "      <td>1123pJv8jzeFQaCV4w644pzQJzVWay2zcA</td>\n",
              "      <td>2016</td>\n",
              "      <td>132</td>\n",
              "      <td>44</td>\n",
              "      <td>0.000244</td>\n",
              "      <td>1</td>\n",
              "      <td>0</td>\n",
              "      <td>1</td>\n",
              "      <td>100000000.0</td>\n",
              "      <td>princetonLocky</td>\n",
              "      <td>-4.025829e+00</td>\n",
              "      <td>4.851519</td>\n",
              "      <td>9.999992e-07</td>\n",
              "      <td>7.582885</td>\n",
              "      <td>2</td>\n",
              "      <td>2.0</td>\n",
              "    </tr>\n",
              "    <tr>\n",
              "      <th>2</th>\n",
              "      <td>112536im7hy6wtKbpH1qYDWtTyMRAcA2p7</td>\n",
              "      <td>2016</td>\n",
              "      <td>246</td>\n",
              "      <td>0</td>\n",
              "      <td>1.000000</td>\n",
              "      <td>1</td>\n",
              "      <td>0</td>\n",
              "      <td>2</td>\n",
              "      <td>200000000.0</td>\n",
              "      <td>princetonCerber</td>\n",
              "      <td>9.999996e-07</td>\n",
              "      <td>-6.534919</td>\n",
              "      <td>5.513356e-01</td>\n",
              "      <td>7.660858</td>\n",
              "      <td>2</td>\n",
              "      <td>4.0</td>\n",
              "    </tr>\n",
              "    <tr>\n",
              "      <th>3</th>\n",
              "      <td>1126eDRw2wqSkWosjTCre8cjjQW8sSeWH7</td>\n",
              "      <td>2016</td>\n",
              "      <td>322</td>\n",
              "      <td>72</td>\n",
              "      <td>0.003906</td>\n",
              "      <td>1</td>\n",
              "      <td>0</td>\n",
              "      <td>2</td>\n",
              "      <td>71200000.0</td>\n",
              "      <td>princetonCerber</td>\n",
              "      <td>-3.334484e+00</td>\n",
              "      <td>5.670965</td>\n",
              "      <td>5.513356e-01</td>\n",
              "      <td>7.542315</td>\n",
              "      <td>2</td>\n",
              "      <td>3.0</td>\n",
              "    </tr>\n",
              "    <tr>\n",
              "      <th>4</th>\n",
              "      <td>1129TSjKtx65E35GiUo4AYVeyo48twbrGX</td>\n",
              "      <td>2016</td>\n",
              "      <td>238</td>\n",
              "      <td>144</td>\n",
              "      <td>0.072848</td>\n",
              "      <td>456</td>\n",
              "      <td>0</td>\n",
              "      <td>1</td>\n",
              "      <td>200000000.0</td>\n",
              "      <td>princetonLocky</td>\n",
              "      <td>-2.033733e+00</td>\n",
              "      <td>6.914174</td>\n",
              "      <td>9.999992e-07</td>\n",
              "      <td>7.660858</td>\n",
              "      <td>2</td>\n",
              "      <td>3.0</td>\n",
              "    </tr>\n",
              "  </tbody>\n",
              "</table>\n",
              "</div>\n",
              "      <button class=\"colab-df-convert\" onclick=\"convertToInteractive('df-804afdac-3100-4428-9969-1996a5912b7e')\"\n",
              "              title=\"Convert this dataframe to an interactive table.\"\n",
              "              style=\"display:none;\">\n",
              "        \n",
              "  <svg xmlns=\"http://www.w3.org/2000/svg\" height=\"24px\"viewBox=\"0 0 24 24\"\n",
              "       width=\"24px\">\n",
              "    <path d=\"M0 0h24v24H0V0z\" fill=\"none\"/>\n",
              "    <path d=\"M18.56 5.44l.94 2.06.94-2.06 2.06-.94-2.06-.94-.94-2.06-.94 2.06-2.06.94zm-11 1L8.5 8.5l.94-2.06 2.06-.94-2.06-.94L8.5 2.5l-.94 2.06-2.06.94zm10 10l.94 2.06.94-2.06 2.06-.94-2.06-.94-.94-2.06-.94 2.06-2.06.94z\"/><path d=\"M17.41 7.96l-1.37-1.37c-.4-.4-.92-.59-1.43-.59-.52 0-1.04.2-1.43.59L10.3 9.45l-7.72 7.72c-.78.78-.78 2.05 0 2.83L4 21.41c.39.39.9.59 1.41.59.51 0 1.02-.2 1.41-.59l7.78-7.78 2.81-2.81c.8-.78.8-2.07 0-2.86zM5.41 20L4 18.59l7.72-7.72 1.47 1.35L5.41 20z\"/>\n",
              "  </svg>\n",
              "      </button>\n",
              "      \n",
              "  <style>\n",
              "    .colab-df-container {\n",
              "      display:flex;\n",
              "      flex-wrap:wrap;\n",
              "      gap: 12px;\n",
              "    }\n",
              "\n",
              "    .colab-df-convert {\n",
              "      background-color: #E8F0FE;\n",
              "      border: none;\n",
              "      border-radius: 50%;\n",
              "      cursor: pointer;\n",
              "      display: none;\n",
              "      fill: #1967D2;\n",
              "      height: 32px;\n",
              "      padding: 0 0 0 0;\n",
              "      width: 32px;\n",
              "    }\n",
              "\n",
              "    .colab-df-convert:hover {\n",
              "      background-color: #E2EBFA;\n",
              "      box-shadow: 0px 1px 2px rgba(60, 64, 67, 0.3), 0px 1px 3px 1px rgba(60, 64, 67, 0.15);\n",
              "      fill: #174EA6;\n",
              "    }\n",
              "\n",
              "    [theme=dark] .colab-df-convert {\n",
              "      background-color: #3B4455;\n",
              "      fill: #D2E3FC;\n",
              "    }\n",
              "\n",
              "    [theme=dark] .colab-df-convert:hover {\n",
              "      background-color: #434B5C;\n",
              "      box-shadow: 0px 1px 3px 1px rgba(0, 0, 0, 0.15);\n",
              "      filter: drop-shadow(0px 1px 2px rgba(0, 0, 0, 0.3));\n",
              "      fill: #FFFFFF;\n",
              "    }\n",
              "  </style>\n",
              "\n",
              "      <script>\n",
              "        const buttonEl =\n",
              "          document.querySelector('#df-804afdac-3100-4428-9969-1996a5912b7e button.colab-df-convert');\n",
              "        buttonEl.style.display =\n",
              "          google.colab.kernel.accessAllowed ? 'block' : 'none';\n",
              "\n",
              "        async function convertToInteractive(key) {\n",
              "          const element = document.querySelector('#df-804afdac-3100-4428-9969-1996a5912b7e');\n",
              "          const dataTable =\n",
              "            await google.colab.kernel.invokeFunction('convertToInteractive',\n",
              "                                                     [key], {});\n",
              "          if (!dataTable) return;\n",
              "\n",
              "          const docLinkHtml = 'Like what you see? Visit the ' +\n",
              "            '<a target=\"_blank\" href=https://colab.research.google.com/notebooks/data_table.ipynb>data table notebook</a>'\n",
              "            + ' to learn more about interactive tables.';\n",
              "          element.innerHTML = '';\n",
              "          dataTable['output_type'] = 'display_data';\n",
              "          await google.colab.output.renderOutput(dataTable, element);\n",
              "          const docLink = document.createElement('div');\n",
              "          docLink.innerHTML = docLinkHtml;\n",
              "          element.appendChild(docLink);\n",
              "        }\n",
              "      </script>\n",
              "    </div>\n",
              "  </div>\n",
              "  "
            ],
            "text/plain": [
              "                              address  ...  data_day_of_week\n",
              "0   111K8kZAEnJg245r2cM6y9zgJGHZtJPy6  ...               2.0\n",
              "1  1123pJv8jzeFQaCV4w644pzQJzVWay2zcA  ...               2.0\n",
              "2  112536im7hy6wtKbpH1qYDWtTyMRAcA2p7  ...               4.0\n",
              "3  1126eDRw2wqSkWosjTCre8cjjQW8sSeWH7  ...               3.0\n",
              "4  1129TSjKtx65E35GiUo4AYVeyo48twbrGX  ...               3.0\n",
              "\n",
              "[5 rows x 16 columns]"
            ]
          },
          "metadata": {},
          "execution_count": 18
        }
      ]
    },
    {
      "cell_type": "markdown",
      "source": [
        "we have 2 types of columns ones needs to be standerdized and the other needs to be encoded like interaction_income_neighbors/ data_day_of_week"
      ],
      "metadata": {
        "id": "Q1CKo4i0pJB-"
      }
    },
    {
      "cell_type": "markdown",
      "source": [
        "### Scale the data"
      ],
      "metadata": {
        "id": "rfAjfp7u0Vv_"
      }
    },
    {
      "cell_type": "code",
      "source": [
        "data.columns"
      ],
      "metadata": {
        "colab": {
          "base_uri": "https://localhost:8080/"
        },
        "id": "23lGK9P00YI_",
        "outputId": "3176e7d5-b706-4838-8a41-49238ce6f5b0"
      },
      "execution_count": 19,
      "outputs": [
        {
          "output_type": "execute_result",
          "data": {
            "text/plain": [
              "Index(['address', 'year', 'day', 'length', 'weight', 'count', 'looped',\n",
              "       'neighbors', 'income', 'label', 'data_gaussian_weight',\n",
              "       'data_gaussian_length', 'data_gaussian_neighbors',\n",
              "       'data_gaussian_income', 'interaction_income_neighbors',\n",
              "       'data_day_of_week'],\n",
              "      dtype='object')"
            ]
          },
          "metadata": {},
          "execution_count": 19
        }
      ]
    },
    {
      "cell_type": "code",
      "source": [
        "col_names_standardize = [\n",
        "    'year', 'day', 'length', 'weight', 'count', 'looped',\n",
        "    'neighbors', 'income', 'data_gaussian_weight',\n",
        "    'data_gaussian_length', 'data_gaussian_neighbors',\n",
        "    'data_gaussian_income']\n",
        "col_names_Encode = [\n",
        "       'interaction_income_neighbors',\n",
        "       'data_day_of_week']\n",
        "\n",
        "\n",
        "transformer = ColumnTransformer([\n",
        "    ('standardize', StandardScaler(), col_names_standardize),\n",
        "    ('encode', OneHotEncoder(), col_names_Encode)])\n",
        "\n",
        "transformer.fit(data)\n",
        "Data_scaled_Transformed = transformer.transform(data)"
      ],
      "metadata": {
        "id": "oGqf0brxo2He"
      },
      "execution_count": 20,
      "outputs": []
    },
    {
      "cell_type": "code",
      "source": [
        "pd.DataFrame(Data_scaled_Transformed).head()"
      ],
      "metadata": {
        "colab": {
          "base_uri": "https://localhost:8080/",
          "height": 206
        },
        "id": "EiQYr4Zp0rq-",
        "outputId": "e4adb383-03ab-48e7-bb89-63c8dfc37fd2"
      },
      "execution_count": 21,
      "outputs": [
        {
          "output_type": "execute_result",
          "data": {
            "text/html": [
              "\n",
              "  <div id=\"df-091e9c0a-b05c-4931-90b0-26dbd2081c76\">\n",
              "    <div class=\"colab-df-container\">\n",
              "      <div>\n",
              "<style scoped>\n",
              "    .dataframe tbody tr th:only-of-type {\n",
              "        vertical-align: middle;\n",
              "    }\n",
              "\n",
              "    .dataframe tbody tr th {\n",
              "        vertical-align: top;\n",
              "    }\n",
              "\n",
              "    .dataframe thead th {\n",
              "        text-align: right;\n",
              "    }\n",
              "</style>\n",
              "<table border=\"1\" class=\"dataframe\">\n",
              "  <thead>\n",
              "    <tr style=\"text-align: right;\">\n",
              "      <th></th>\n",
              "      <th>0</th>\n",
              "      <th>1</th>\n",
              "      <th>2</th>\n",
              "      <th>3</th>\n",
              "      <th>4</th>\n",
              "      <th>5</th>\n",
              "      <th>6</th>\n",
              "      <th>7</th>\n",
              "      <th>8</th>\n",
              "      <th>9</th>\n",
              "      <th>10</th>\n",
              "      <th>11</th>\n",
              "      <th>12</th>\n",
              "      <th>13</th>\n",
              "      <th>14</th>\n",
              "      <th>15</th>\n",
              "      <th>16</th>\n",
              "      <th>17</th>\n",
              "      <th>18</th>\n",
              "      <th>19</th>\n",
              "      <th>20</th>\n",
              "      <th>21</th>\n",
              "    </tr>\n",
              "  </thead>\n",
              "  <tbody>\n",
              "    <tr>\n",
              "      <th>0</th>\n",
              "      <td>5.142366</td>\n",
              "      <td>-1.475897</td>\n",
              "      <td>-0.183240</td>\n",
              "      <td>-0.179939</td>\n",
              "      <td>-0.246215</td>\n",
              "      <td>-0.12225</td>\n",
              "      <td>-0.015822</td>\n",
              "      <td>-0.036267</td>\n",
              "      <td>-0.900112</td>\n",
              "      <td>0.608309</td>\n",
              "      <td>0.671443</td>\n",
              "      <td>-1.013729</td>\n",
              "      <td>0.0</td>\n",
              "      <td>0.0</td>\n",
              "      <td>1.0</td>\n",
              "      <td>0.0</td>\n",
              "      <td>0.0</td>\n",
              "      <td>1.0</td>\n",
              "      <td>0.0</td>\n",
              "      <td>0.0</td>\n",
              "      <td>0.0</td>\n",
              "      <td>0.0</td>\n",
              "    </tr>\n",
              "    <tr>\n",
              "      <th>1</th>\n",
              "      <td>4.140786</td>\n",
              "      <td>-0.337565</td>\n",
              "      <td>0.441731</td>\n",
              "      <td>-0.182772</td>\n",
              "      <td>-0.246215</td>\n",
              "      <td>-0.12225</td>\n",
              "      <td>-0.068859</td>\n",
              "      <td>-0.036267</td>\n",
              "      <td>-1.501462</td>\n",
              "      <td>0.896093</td>\n",
              "      <td>-1.141657</td>\n",
              "      <td>-1.014059</td>\n",
              "      <td>0.0</td>\n",
              "      <td>0.0</td>\n",
              "      <td>1.0</td>\n",
              "      <td>0.0</td>\n",
              "      <td>0.0</td>\n",
              "      <td>1.0</td>\n",
              "      <td>0.0</td>\n",
              "      <td>0.0</td>\n",
              "      <td>0.0</td>\n",
              "      <td>0.0</td>\n",
              "    </tr>\n",
              "    <tr>\n",
              "      <th>2</th>\n",
              "      <td>4.140786</td>\n",
              "      <td>0.734912</td>\n",
              "      <td>-0.615912</td>\n",
              "      <td>0.167446</td>\n",
              "      <td>-0.246215</td>\n",
              "      <td>-0.12225</td>\n",
              "      <td>-0.015822</td>\n",
              "      <td>-0.035908</td>\n",
              "      <td>1.024941</td>\n",
              "      <td>-1.507872</td>\n",
              "      <td>0.671443</td>\n",
              "      <td>-0.574695</td>\n",
              "      <td>0.0</td>\n",
              "      <td>0.0</td>\n",
              "      <td>1.0</td>\n",
              "      <td>0.0</td>\n",
              "      <td>0.0</td>\n",
              "      <td>0.0</td>\n",
              "      <td>0.0</td>\n",
              "      <td>1.0</td>\n",
              "      <td>0.0</td>\n",
              "      <td>0.0</td>\n",
              "    </tr>\n",
              "    <tr>\n",
              "      <th>3</th>\n",
              "      <td>4.140786</td>\n",
              "      <td>1.449897</td>\n",
              "      <td>1.114777</td>\n",
              "      <td>-0.181489</td>\n",
              "      <td>-0.246215</td>\n",
              "      <td>-0.12225</td>\n",
              "      <td>-0.015822</td>\n",
              "      <td>-0.036371</td>\n",
              "      <td>-1.067609</td>\n",
              "      <td>1.069098</td>\n",
              "      <td>0.671443</td>\n",
              "      <td>-1.242666</td>\n",
              "      <td>0.0</td>\n",
              "      <td>0.0</td>\n",
              "      <td>1.0</td>\n",
              "      <td>0.0</td>\n",
              "      <td>0.0</td>\n",
              "      <td>0.0</td>\n",
              "      <td>1.0</td>\n",
              "      <td>0.0</td>\n",
              "      <td>0.0</td>\n",
              "      <td>0.0</td>\n",
              "    </tr>\n",
              "    <tr>\n",
              "      <th>4</th>\n",
              "      <td>4.140786</td>\n",
              "      <td>0.659650</td>\n",
              "      <td>2.845466</td>\n",
              "      <td>-0.157339</td>\n",
              "      <td>0.527831</td>\n",
              "      <td>-0.12225</td>\n",
              "      <td>-0.068859</td>\n",
              "      <td>-0.035908</td>\n",
              "      <td>-0.251325</td>\n",
              "      <td>1.331571</td>\n",
              "      <td>-1.141657</td>\n",
              "      <td>-0.574695</td>\n",
              "      <td>0.0</td>\n",
              "      <td>0.0</td>\n",
              "      <td>1.0</td>\n",
              "      <td>0.0</td>\n",
              "      <td>0.0</td>\n",
              "      <td>0.0</td>\n",
              "      <td>1.0</td>\n",
              "      <td>0.0</td>\n",
              "      <td>0.0</td>\n",
              "      <td>0.0</td>\n",
              "    </tr>\n",
              "  </tbody>\n",
              "</table>\n",
              "</div>\n",
              "      <button class=\"colab-df-convert\" onclick=\"convertToInteractive('df-091e9c0a-b05c-4931-90b0-26dbd2081c76')\"\n",
              "              title=\"Convert this dataframe to an interactive table.\"\n",
              "              style=\"display:none;\">\n",
              "        \n",
              "  <svg xmlns=\"http://www.w3.org/2000/svg\" height=\"24px\"viewBox=\"0 0 24 24\"\n",
              "       width=\"24px\">\n",
              "    <path d=\"M0 0h24v24H0V0z\" fill=\"none\"/>\n",
              "    <path d=\"M18.56 5.44l.94 2.06.94-2.06 2.06-.94-2.06-.94-.94-2.06-.94 2.06-2.06.94zm-11 1L8.5 8.5l.94-2.06 2.06-.94-2.06-.94L8.5 2.5l-.94 2.06-2.06.94zm10 10l.94 2.06.94-2.06 2.06-.94-2.06-.94-.94-2.06-.94 2.06-2.06.94z\"/><path d=\"M17.41 7.96l-1.37-1.37c-.4-.4-.92-.59-1.43-.59-.52 0-1.04.2-1.43.59L10.3 9.45l-7.72 7.72c-.78.78-.78 2.05 0 2.83L4 21.41c.39.39.9.59 1.41.59.51 0 1.02-.2 1.41-.59l7.78-7.78 2.81-2.81c.8-.78.8-2.07 0-2.86zM5.41 20L4 18.59l7.72-7.72 1.47 1.35L5.41 20z\"/>\n",
              "  </svg>\n",
              "      </button>\n",
              "      \n",
              "  <style>\n",
              "    .colab-df-container {\n",
              "      display:flex;\n",
              "      flex-wrap:wrap;\n",
              "      gap: 12px;\n",
              "    }\n",
              "\n",
              "    .colab-df-convert {\n",
              "      background-color: #E8F0FE;\n",
              "      border: none;\n",
              "      border-radius: 50%;\n",
              "      cursor: pointer;\n",
              "      display: none;\n",
              "      fill: #1967D2;\n",
              "      height: 32px;\n",
              "      padding: 0 0 0 0;\n",
              "      width: 32px;\n",
              "    }\n",
              "\n",
              "    .colab-df-convert:hover {\n",
              "      background-color: #E2EBFA;\n",
              "      box-shadow: 0px 1px 2px rgba(60, 64, 67, 0.3), 0px 1px 3px 1px rgba(60, 64, 67, 0.15);\n",
              "      fill: #174EA6;\n",
              "    }\n",
              "\n",
              "    [theme=dark] .colab-df-convert {\n",
              "      background-color: #3B4455;\n",
              "      fill: #D2E3FC;\n",
              "    }\n",
              "\n",
              "    [theme=dark] .colab-df-convert:hover {\n",
              "      background-color: #434B5C;\n",
              "      box-shadow: 0px 1px 3px 1px rgba(0, 0, 0, 0.15);\n",
              "      filter: drop-shadow(0px 1px 2px rgba(0, 0, 0, 0.3));\n",
              "      fill: #FFFFFF;\n",
              "    }\n",
              "  </style>\n",
              "\n",
              "      <script>\n",
              "        const buttonEl =\n",
              "          document.querySelector('#df-091e9c0a-b05c-4931-90b0-26dbd2081c76 button.colab-df-convert');\n",
              "        buttonEl.style.display =\n",
              "          google.colab.kernel.accessAllowed ? 'block' : 'none';\n",
              "\n",
              "        async function convertToInteractive(key) {\n",
              "          const element = document.querySelector('#df-091e9c0a-b05c-4931-90b0-26dbd2081c76');\n",
              "          const dataTable =\n",
              "            await google.colab.kernel.invokeFunction('convertToInteractive',\n",
              "                                                     [key], {});\n",
              "          if (!dataTable) return;\n",
              "\n",
              "          const docLinkHtml = 'Like what you see? Visit the ' +\n",
              "            '<a target=\"_blank\" href=https://colab.research.google.com/notebooks/data_table.ipynb>data table notebook</a>'\n",
              "            + ' to learn more about interactive tables.';\n",
              "          element.innerHTML = '';\n",
              "          dataTable['output_type'] = 'display_data';\n",
              "          await google.colab.output.renderOutput(dataTable, element);\n",
              "          const docLink = document.createElement('div');\n",
              "          docLink.innerHTML = docLinkHtml;\n",
              "          element.appendChild(docLink);\n",
              "        }\n",
              "      </script>\n",
              "    </div>\n",
              "  </div>\n",
              "  "
            ],
            "text/plain": [
              "         0         1         2         3         4   ...   17   18   19   20   21\n",
              "0  5.142366 -1.475897 -0.183240 -0.179939 -0.246215  ...  1.0  0.0  0.0  0.0  0.0\n",
              "1  4.140786 -0.337565  0.441731 -0.182772 -0.246215  ...  1.0  0.0  0.0  0.0  0.0\n",
              "2  4.140786  0.734912 -0.615912  0.167446 -0.246215  ...  0.0  0.0  1.0  0.0  0.0\n",
              "3  4.140786  1.449897  1.114777 -0.181489 -0.246215  ...  0.0  1.0  0.0  0.0  0.0\n",
              "4  4.140786  0.659650  2.845466 -0.157339  0.527831  ...  0.0  1.0  0.0  0.0  0.0\n",
              "\n",
              "[5 rows x 22 columns]"
            ]
          },
          "metadata": {},
          "execution_count": 21
        }
      ]
    },
    {
      "cell_type": "markdown",
      "source": [
        "Feature indicates what year the transaction had taken place in.\n",
        "\n",
        "Now let us look at its distribution and how it affects the target variable."
      ],
      "metadata": {
        "id": "ht8kdvWm-R9V"
      }
    },
    {
      "cell_type": "markdown",
      "source": [
        "## Day"
      ],
      "metadata": {
        "id": "DGsivjxADzCu"
      }
    },
    {
      "cell_type": "code",
      "source": [
        "#Displaying histogram of year feature\n",
        "plt.figure(figsize=(16, 8))\n",
        "\n",
        "plt.subplot(121)\n",
        "data['year'].plot(kind = 'hist', bins=15)\n",
        "plt.xlabel('year')\n",
        "plt.title('Distribution of year')\n",
        "\n",
        "plt.subplot(122)\n",
        "#displaying pie-chart\n",
        "data['year'].value_counts().plot(kind='pie')\n",
        "plt.axis('equal')\n",
        "plt.title('Years in whole training set')\n",
        "plt.show()\n"
      ],
      "metadata": {
        "colab": {
          "base_uri": "https://localhost:8080/",
          "height": 512
        },
        "id": "LbU-Ka0D1Xix",
        "outputId": "84bdae3f-8c0c-48ba-be0a-7608dbe74451"
      },
      "execution_count": 38,
      "outputs": [
        {
          "output_type": "display_data",
          "data": {
            "image/png": "[encoded data removed]",
            "text/plain": [
              "<Figure size 1152x576 with 2 Axes>"
            ]
          },
          "metadata": {
            "needs_background": "light"
          }
        }
      ]
    },
    {
      "cell_type": "markdown",
      "source": [
        "we can see that the years are not distributed uniformly the majority are present in early years from 2011-2013"
      ],
      "metadata": {
        "id": "hanFnDm7_Jr5"
      }
    },
    {
      "cell_type": "code",
      "source": [
        "# Splitting data two white and ransomware in order to have a general view on the distribution of the features\n",
        "Ransomware = data[data['label']!= \"white\"]\n",
        "clean = data[data['label']==\"white\"]"
      ],
      "metadata": {
        "id": "iwhE4Dv4DW1s"
      },
      "execution_count": 50,
      "outputs": []
    },
    {
      "cell_type": "code",
      "source": [
        "#checking to see if the year in which the transaction has been made has any correlation with the transaction\n",
        "\n",
        "clean['year'].plot(kind = 'hist', bins=15, label='White')\n",
        "Ransomware['year'].plot(kind = 'hist', bins=15, label='Ransomware')\n",
        "plt.xlabel('year')\n",
        "plt.title('PDF of white and ransomware transactions [Year]')\n",
        "plt.xlabel('Year')\n",
        "plt.legend()\n",
        "plt.show()"
      ],
      "metadata": {
        "colab": {
          "base_uri": "https://localhost:8080/",
          "height": 295
        },
        "id": "3m9Q6AEk-Wym",
        "outputId": "1ff09676-a2ff-49d2-bfde-2a38e0e36671"
      },
      "execution_count": 51,
      "outputs": [
        {
          "output_type": "display_data",
          "data": {
            "image/png": "[encoded data removed]",
            "text/plain": [
              "<Figure size 432x288 with 1 Axes>"
            ]
          },
          "metadata": {
            "needs_background": "light"
          }
        }
      ]
    },
    {
      "cell_type": "markdown",
      "source": [
        "Transactions made in 2011 and 2012 are far more likely to be white rather than ransomware and for the rest the majority is ransomware"
      ],
      "metadata": {
        "id": "B5cG80pFDlJc"
      }
    },
    {
      "cell_type": "markdown",
      "source": [
        "## Day\n",
        "\n",
        "**The day number of the year in which the transaction took place is shown by this feature.**\n",
        "\n",
        "**Now consider its distribution and how it influences the target variable.**"
      ],
      "metadata": {
        "id": "7K58-H-ND4au"
      }
    },
    {
      "cell_type": "code",
      "source": [
        "#plotting pdfs of white and ransomware\n",
        "\n",
        "sns.distplot(clean['day'], label = 'White')\n",
        "sns.distplot(Ransomware['day'], label = 'Ransomware')\n",
        "plt.legend()\n",
        "plt.title('PDF of white and ransomware transactions [Day]')\n",
        "plt.show()"
      ],
      "metadata": {
        "colab": {
          "base_uri": "https://localhost:8080/",
          "height": 295
        },
        "id": "cKhQlYwTCP_9",
        "outputId": "2da71f72-7a40-4d0e-cf64-200a67bd7116"
      },
      "execution_count": 52,
      "outputs": [
        {
          "output_type": "display_data",
          "data": {
            "image/png": "[encoded data removed]",
            "text/plain": [
              "<Figure size 432x288 with 1 Axes>"
            ]
          },
          "metadata": {
            "needs_background": "light"
          }
        }
      ]
    },
    {
      "cell_type": "markdown",
      "source": [
        "On certain days, the two roles appear to be separable. On day 95, for example, ransomeware transactions are considerably more probable than white transactions.\n",
        "it is the same for the days around 150 and 300."
      ],
      "metadata": {
        "id": "iuFnwRFKM2m1"
      }
    },
    {
      "cell_type": "markdown",
      "source": [
        "### Length\n",
        "\n",
        "The mixing rounds on Bitcoin are when transactions receive and distribute comparable sums of bitcoin in numerous rounds using freshly established addresses in order to conceal the coin's origin.\n",
        "Now consider its distribution and how it influences the target variable."
      ],
      "metadata": {
        "id": "pvb88H0oQzQA"
      }
    },
    {
      "cell_type": "code",
      "source": [
        "#plotting pdfs of white and ransomware\n",
        "\n",
        "sns.distplot(clean['length'], label = 'White')\n",
        "sns.distplot(Ransomware['length'], label = 'Ransomware')\n",
        "plt.legend()\n",
        "plt.title('PDF of white and ransomware transactions [Length]')\n",
        "plt.show()"
      ],
      "metadata": {
        "colab": {
          "base_uri": "https://localhost:8080/",
          "height": 295
        },
        "id": "ML1HwFcdQ1jp",
        "outputId": "5d98fdb2-7000-4200-ac7f-d9d104412271"
      },
      "execution_count": 53,
      "outputs": [
        {
          "output_type": "display_data",
          "data": {
            "image/png": "[encoded data removed]",
            "text/plain": [
              "<Figure size 432x288 with 1 Axes>"
            ]
          },
          "metadata": {
            "needs_background": "light"
          }
        }
      ]
    },
    {
      "cell_type": "markdown",
      "source": [
        "we can see here that the distribtion of both the White and Ransomware data are indistinguishable so we can not separate well the target using only the Length feature. "
      ],
      "metadata": {
        "id": "ZnyLkCUVRj5O"
      }
    },
    {
      "cell_type": "markdown",
      "source": [
        "### Neighbors\n",
        "\n",
        "The number of neighbors a transaction had is shown by this feature.\n",
        "Now consider its distribution and how it influences the target variable.\n"
      ],
      "metadata": {
        "id": "lmcVGGa5R53i"
      }
    },
    {
      "cell_type": "code",
      "source": [
        "plt.figure(figsize=(15, 7))\n",
        "\n",
        "#plotting piechart of negative class\n",
        "plt.subplot(121)\n",
        "clean.neighbors.value_counts().plot(kind='pie')\n",
        "plt.axis('equal')\n",
        "plt.title('Negative class')\n",
        "plt.plot()\n",
        "\n",
        "\n",
        "plt.subplot(122)\n",
        "Ransomware.neighbors.value_counts().plot(kind='pie')\n",
        "plt.axis('equal')\n",
        "plt.title('Positive class')\n",
        "plt.plot()"
      ],
      "metadata": {
        "colab": {
          "base_uri": "https://localhost:8080/",
          "height": 448
        },
        "id": "f0n_CYZVRD03",
        "outputId": "a54251a0-a7a0-4511-a5c8-d3cc171da57c"
      },
      "execution_count": 60,
      "outputs": [
        {
          "output_type": "execute_result",
          "data": {
            "text/plain": [
              "[]"
            ]
          },
          "metadata": {},
          "execution_count": 60
        },
        {
          "output_type": "display_data",
          "data": {
            "image/png": "[encoded data removed]",
            "text/plain": [
              "<Figure size 1080x504 with 2 Axes>"
            ]
          },
          "metadata": {}
        }
      ]
    },
    {
      "cell_type": "markdown",
      "source": [
        "it is clear from the pies that the ransomeware and clean datasets follow different distributions on the neighbors features"
      ],
      "metadata": {
        "id": "jAkT_RHhU-SK"
      }
    },
    {
      "cell_type": "markdown",
      "source": [
        "### Day of the week\n"
      ],
      "metadata": {
        "id": "vFRClDpIVtIA"
      }
    },
    {
      "cell_type": "code",
      "source": [
        "#Displaying histogram of day_of_week feature\n",
        "\n",
        "clean['data_day_of_week'].plot(kind = 'hist', bins=13, label='White')\n",
        "Ransomware['data_day_of_week'].plot(kind = 'hist', bins=13, label='Ransomware')\n",
        "plt.xlabel('data_day_of_week')\n",
        "plt.title('Distribution of day_of_week')\n",
        "plt.xlabel('Days')\n",
        "plt.legend()\n",
        "plt.show()"
      ],
      "metadata": {
        "colab": {
          "base_uri": "https://localhost:8080/",
          "height": 295
        },
        "id": "dRejHBV4UH3-",
        "outputId": "4c0de426-a1f6-4f9f-e7d3-0bdd84243635"
      },
      "execution_count": 64,
      "outputs": [
        {
          "output_type": "display_data",
          "data": {
            "image/png": "[encoded data removed]",
            "text/plain": [
              "<Figure size 432x288 with 1 Axes>"
            ]
          },
          "metadata": {
            "needs_background": "light"
          }
        }
      ]
    },
    {
      "cell_type": "markdown",
      "source": [
        "From the data available we can deduce that the Ransomeware activity is the lowest on the Sundays but on the other days it is still present with the same rate across all the week"
      ],
      "metadata": {
        "id": "hvySRglyWNPf"
      }
    },
    {
      "cell_type": "markdown",
      "source": [
        "## Gaussian income"
      ],
      "metadata": {
        "id": "pvrzAEtlWq9t"
      }
    },
    {
      "cell_type": "code",
      "source": [
        "sns.distplot(clean['data_gaussian_income'], label = 'White')\n",
        "sns.distplot(Ransomware['data_gaussian_income'], label = 'Ransomware')\n",
        "plt.legend()\n",
        "plt.title('PDF of white and ransomware transactions [gaussian_income]')\n",
        "plt.show()"
      ],
      "metadata": {
        "colab": {
          "base_uri": "https://localhost:8080/",
          "height": 296
        },
        "id": "l0A7yD8yWo0l",
        "outputId": "0551039c-ba21-4883-c014-294575fa9157"
      },
      "execution_count": 66,
      "outputs": [
        {
          "output_type": "display_data",
          "data": {
            "image/png": "[encoded data removed]",
            "text/plain": [
              "<Figure size 432x288 with 1 Axes>"
            ]
          },
          "metadata": {
            "needs_background": "light"
          }
        }
      ]
    },
    {
      "cell_type": "markdown",
      "source": [
        "There is a significant difference between the two distributions. so this will be a huge plus in our modelling especially when starting from 7.8"
      ],
      "metadata": {
        "id": "tWwqunntYF-j"
      }
    },
    {
      "cell_type": "code",
      "source": [
        "clean.columns"
      ],
      "metadata": {
        "colab": {
          "base_uri": "https://localhost:8080/"
        },
        "id": "WLvk6tCTYAHr",
        "outputId": "0f4cfbe8-0e22-4bfc-bd0f-8523b8b919bd"
      },
      "execution_count": 67,
      "outputs": [
        {
          "output_type": "execute_result",
          "data": {
            "text/plain": [
              "Index(['address', 'year', 'day', 'length', 'weight', 'count', 'looped',\n",
              "       'neighbors', 'income', 'label', 'data_gaussian_weight',\n",
              "       'data_gaussian_length', 'data_gaussian_neighbors',\n",
              "       'data_gaussian_income', 'interaction_income_neighbors',\n",
              "       'data_day_of_week'],\n",
              "      dtype='object')"
            ]
          },
          "metadata": {},
          "execution_count": 67
        }
      ]
    },
    {
      "cell_type": "markdown",
      "source": [
        "## Interaction: income and neighbors\n",
        "\n",
        "The feature was created by combining and applying transformation functions to income and neighbors. Let's have a look at how it impacts our main variable."
      ],
      "metadata": {
        "id": "-uqidq6uYyEC"
      }
    },
    {
      "cell_type": "code",
      "source": [
        "sns.distplot(clean['interaction_income_neighbors'], label = 'White')\n",
        "sns.distplot(Ransomware['interaction_income_neighbors'], label = 'Ransomware')\n",
        "plt.legend()\n",
        "plt.title('PDF of white and ransomware transactions [gaussian_income]')\n",
        "plt.show()"
      ],
      "metadata": {
        "colab": {
          "base_uri": "https://localhost:8080/",
          "height": 296
        },
        "id": "5EZiVHXVYW9T",
        "outputId": "98c8a7a4-dd24-4898-d500-aa51c81c024d"
      },
      "execution_count": 68,
      "outputs": [
        {
          "output_type": "display_data",
          "data": {
            "image/png": "[encoded data removed]",
            "text/plain": [
              "<Figure size 432x288 with 1 Axes>"
            ]
          },
          "metadata": {
            "needs_background": "light"
          }
        }
      ]
    },
    {
      "cell_type": "code",
      "source": [
        "#displaying pie-chart\n",
        "\n",
        "data['interaction_income_neighbors'].value_counts().plot(kind='pie')\n",
        "plt.axis('equal')\n",
        "plt.title('interaction_income_neighbors')\n",
        "plt.show()"
      ],
      "metadata": {
        "colab": {
          "base_uri": "https://localhost:8080/",
          "height": 266
        },
        "id": "nCa5jX48Ya7M",
        "outputId": "e08fb082-0cd0-4c32-c41b-81158b596ae4"
      },
      "execution_count": 69,
      "outputs": [
        {
          "output_type": "display_data",
          "data": {
            "image/png": "[encoded data removed]",
            "text/plain": [
              "<Figure size 432x288 with 1 Axes>"
            ]
          },
          "metadata": {}
        }
      ]
    },
    {
      "cell_type": "code",
      "source": [
        "clean['interaction_income_neighbors'].plot(kind = 'hist', bins=5, label='White')\n",
        "Ransomware['interaction_income_neighbors'].plot(kind = 'hist', bins=5, label='Ransomware')\n",
        "plt.xlabel('interaction_income_neighbors')\n",
        "plt.title('Distribution of interaction_income_neighbors')\n",
        "plt.xlabel('Interaction feature between income and neighbors')\n",
        "plt.xticks([0, 1, 2])\n",
        "plt.legend()\n",
        "plt.show()"
      ],
      "metadata": {
        "colab": {
          "base_uri": "https://localhost:8080/",
          "height": 295
        },
        "id": "nsdPEVPGZBWh",
        "outputId": "9964b3b7-c8ba-4459-c04a-f630d1be2f74"
      },
      "execution_count": 70,
      "outputs": [
        {
          "output_type": "display_data",
          "data": {
            "image/png": "[encoded data removed]",
            "text/plain": [
              "<Figure size 432x288 with 1 Axes>"
            ]
          },
          "metadata": {
            "needs_background": "light"
          }
        }
      ]
    },
    {
      "cell_type": "markdown",
      "source": [
        "Transactions with this feature being equal to 0 and 1 is significanly more probable to be white than ransomware"
      ],
      "metadata": {
        "id": "DYu-nOuyZPdi"
      }
    },
    {
      "cell_type": "markdown",
      "source": [
        "# Multi-variate Analysis\n",
        "\n"
      ],
      "metadata": {
        "id": "808nsRhUZdFL"
      }
    },
    {
      "cell_type": "markdown",
      "source": [
        "## Correlations\n",
        "A measure of the strength of a linear link between two quantitative variables is called correlation (e.g., height, weight)."
      ],
      "metadata": {
        "id": "V1TMbLZUaAj6"
      }
    },
    {
      "cell_type": "code",
      "source": [
        "#plotting correlation map\n",
        "# +1 and -1 mean fully-correlated features\n",
        "\n",
        "corr = data.corr()\n",
        "plt.figure(figsize=(14, 14))\n",
        "ax = sns.heatmap(\n",
        "    corr, \n",
        "    vmin=-1, vmax=1, center=0,\n",
        "    cmap=sns.diverging_palette(20, 220, n=200),\n",
        "    square=True\n",
        ")\n",
        "ax.set_xticklabels(\n",
        "    ax.get_xticklabels(),\n",
        "    rotation=45,\n",
        "    horizontalalignment='right'\n",
        ");"
      ],
      "metadata": {
        "colab": {
          "base_uri": "https://localhost:8080/",
          "height": 848
        },
        "id": "zJastH3DYp5n",
        "outputId": "92c2a74e-b2d1-4430-800b-d2ea5de4cfdb"
      },
      "execution_count": 71,
      "outputs": [
        {
          "output_type": "display_data",
          "data": {
            "image/png": "[encoded data removed]",
            "text/plain": [
              "<Figure size 1008x1008 with 2 Axes>"
            ]
          },
          "metadata": {
            "needs_background": "light"
          }
        }
      ]
    },
    {
      "cell_type": "markdown",
      "source": [
        "## Pair plots\n",
        "\n",
        "Pairs plots show how a feature's points are distributed in relation to other features."
      ],
      "metadata": {
        "id": "CrqBJrb7aNoT"
      }
    },
    {
      "cell_type": "code",
      "source": [
        "#plotting pair plots\n",
        "\n",
        "sns.set_theme(style='ticks')\n",
        "sns.pairplot(data, hue='label')\n",
        "plt.title('Pair-plot')\n",
        "plt.plot()"
      ],
      "metadata": {
        "id": "_bDC2EjYZgqD"
      },
      "execution_count": null,
      "outputs": []
    },
    {
      "cell_type": "code",
      "source": [
        "data.columns"
      ],
      "metadata": {
        "colab": {
          "base_uri": "https://localhost:8080/"
        },
        "id": "Bn_cozhHZv9Y",
        "outputId": "5d7aaa33-fd5e-4803-a2a6-a1a3e3383a19"
      },
      "execution_count": 73,
      "outputs": [
        {
          "output_type": "execute_result",
          "data": {
            "text/plain": [
              "Index(['address', 'year', 'day', 'length', 'weight', 'count', 'looped',\n",
              "       'neighbors', 'income', 'label', 'data_gaussian_weight',\n",
              "       'data_gaussian_length', 'data_gaussian_neighbors',\n",
              "       'data_gaussian_income', 'interaction_income_neighbors',\n",
              "       'data_day_of_week'],\n",
              "      dtype='object')"
            ]
          },
          "metadata": {},
          "execution_count": 73
        }
      ]
    },
    {
      "cell_type": "code",
      "source": [
        ""
      ],
      "metadata": {
        "id": "Auxc3KBPZ5sA"
      },
      "execution_count": null,
      "outputs": []
    }
  ]
}