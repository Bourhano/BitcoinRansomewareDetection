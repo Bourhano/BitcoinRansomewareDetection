{
  "nbformat": 4,
  "nbformat_minor": 0,
  "metadata": {
    "colab": {
      "name": "DataCamp_Starter_Kit.ipynb",
      "provenance": [],
      "collapsed_sections": []
    },
    "kernelspec": {
      "name": "python3",
      "display_name": "Python 3"
    },
    "language_info": {
      "name": "python"
    },
    "widgets": {
      "application/vnd.jupyter.widget-state+json": {
        "65e41a27c4a842c288725592093cb7a7": {
          "model_module": "@jupyter-widgets/controls",
          "model_name": "HBoxModel",
          "model_module_version": "1.5.0",
          "state": {
            "_view_name": "HBoxView",
            "_dom_classes": [],
            "_model_name": "HBoxModel",
            "_view_module": "@jupyter-widgets/controls",
            "_model_module_version": "1.5.0",
            "_view_count": null,
            "_view_module_version": "1.5.0",
            "box_style": "",
            "layout": "IPY_MODEL_a522c26381f04e57ac958095a38b0b48",
            "_model_module": "@jupyter-widgets/controls",
            "children": [
              "IPY_MODEL_1e0564ef2da4449983a79e2482bd02e4",
              "IPY_MODEL_b9ddf0af9cc745b998379a5562a17f41",
              "IPY_MODEL_0a139aad825a47ca8ccf7fb458f456eb"
            ]
          }
        },
        "a522c26381f04e57ac958095a38b0b48": {
          "model_module": "@jupyter-widgets/base",
          "model_name": "LayoutModel",
          "model_module_version": "1.2.0",
          "state": {
            "_view_name": "LayoutView",
            "grid_template_rows": null,
            "right": null,
            "justify_content": null,
            "_view_module": "@jupyter-widgets/base",
            "overflow": null,
            "_model_module_version": "1.2.0",
            "_view_count": null,
            "flex_flow": null,
            "width": null,
            "min_width": null,
            "border": null,
            "align_items": null,
            "bottom": null,
            "_model_module": "@jupyter-widgets/base",
            "top": null,
            "grid_column": null,
            "overflow_y": null,
            "overflow_x": null,
            "grid_auto_flow": null,
            "grid_area": null,
            "grid_template_columns": null,
            "flex": null,
            "_model_name": "LayoutModel",
            "justify_items": null,
            "grid_row": null,
            "max_height": null,
            "align_content": null,
            "visibility": null,
            "align_self": null,
            "height": null,
            "min_height": null,
            "padding": null,
            "grid_auto_rows": null,
            "grid_gap": null,
            "max_width": null,
            "order": null,
            "_view_module_version": "1.2.0",
            "grid_template_areas": null,
            "object_position": null,
            "object_fit": null,
            "grid_auto_columns": null,
            "margin": null,
            "display": null,
            "left": null
          }
        },
        "1e0564ef2da4449983a79e2482bd02e4": {
          "model_module": "@jupyter-widgets/controls",
          "model_name": "HTMLModel",
          "model_module_version": "1.5.0",
          "state": {
            "_view_name": "HTMLView",
            "style": "IPY_MODEL_a6fc28f694884d539620bda5615624a9",
            "_dom_classes": [],
            "description": "",
            "_model_name": "HTMLModel",
            "placeholder": "​",
            "_view_module": "@jupyter-widgets/controls",
            "_model_module_version": "1.5.0",
            "value": "100%",
            "_view_count": null,
            "_view_module_version": "1.5.0",
            "description_tooltip": null,
            "_model_module": "@jupyter-widgets/controls",
            "layout": "IPY_MODEL_030adb5845384e7e9285eaf40fae9ad5"
          }
        },
        "b9ddf0af9cc745b998379a5562a17f41": {
          "model_module": "@jupyter-widgets/controls",
          "model_name": "FloatProgressModel",
          "model_module_version": "1.5.0",
          "state": {
            "_view_name": "ProgressView",
            "style": "IPY_MODEL_de7a8883b40c4549bf1b78ae54a4a260",
            "_dom_classes": [],
            "description": "",
            "_model_name": "FloatProgressModel",
            "bar_style": "success",
            "max": 47631,
            "_view_module": "@jupyter-widgets/controls",
            "_model_module_version": "1.5.0",
            "value": 47631,
            "_view_count": null,
            "_view_module_version": "1.5.0",
            "orientation": "horizontal",
            "min": 0,
            "description_tooltip": null,
            "_model_module": "@jupyter-widgets/controls",
            "layout": "IPY_MODEL_6a475d2fb1024794a7d18ce78c54c16c"
          }
        },
        "0a139aad825a47ca8ccf7fb458f456eb": {
          "model_module": "@jupyter-widgets/controls",
          "model_name": "HTMLModel",
          "model_module_version": "1.5.0",
          "state": {
            "_view_name": "HTMLView",
            "style": "IPY_MODEL_04c3ab3b3dad4fdd8853e646eb253475",
            "_dom_classes": [],
            "description": "",
            "_model_name": "HTMLModel",
            "placeholder": "​",
            "_view_module": "@jupyter-widgets/controls",
            "_model_module_version": "1.5.0",
            "value": " 47631/47631 [00:02&lt;00:00, 17224.87it/s]",
            "_view_count": null,
            "_view_module_version": "1.5.0",
            "description_tooltip": null,
            "_model_module": "@jupyter-widgets/controls",
            "layout": "IPY_MODEL_be492f5d21e74e7faeb20abb1d988871"
          }
        },
        "a6fc28f694884d539620bda5615624a9": {
          "model_module": "@jupyter-widgets/controls",
          "model_name": "DescriptionStyleModel",
          "model_module_version": "1.5.0",
          "state": {
            "_view_name": "StyleView",
            "_model_name": "DescriptionStyleModel",
            "description_width": "",
            "_view_module": "@jupyter-widgets/base",
            "_model_module_version": "1.5.0",
            "_view_count": null,
            "_view_module_version": "1.2.0",
            "_model_module": "@jupyter-widgets/controls"
          }
        },
        "030adb5845384e7e9285eaf40fae9ad5": {
          "model_module": "@jupyter-widgets/base",
          "model_name": "LayoutModel",
          "model_module_version": "1.2.0",
          "state": {
            "_view_name": "LayoutView",
            "grid_template_rows": null,
            "right": null,
            "justify_content": null,
            "_view_module": "@jupyter-widgets/base",
            "overflow": null,
            "_model_module_version": "1.2.0",
            "_view_count": null,
            "flex_flow": null,
            "width": null,
            "min_width": null,
            "border": null,
            "align_items": null,
            "bottom": null,
            "_model_module": "@jupyter-widgets/base",
            "top": null,
            "grid_column": null,
            "overflow_y": null,
            "overflow_x": null,
            "grid_auto_flow": null,
            "grid_area": null,
            "grid_template_columns": null,
            "flex": null,
            "_model_name": "LayoutModel",
            "justify_items": null,
            "grid_row": null,
            "max_height": null,
            "align_content": null,
            "visibility": null,
            "align_self": null,
            "height": null,
            "min_height": null,
            "padding": null,
            "grid_auto_rows": null,
            "grid_gap": null,
            "max_width": null,
            "order": null,
            "_view_module_version": "1.2.0",
            "grid_template_areas": null,
            "object_position": null,
            "object_fit": null,
            "grid_auto_columns": null,
            "margin": null,
            "display": null,
            "left": null
          }
        },
        "de7a8883b40c4549bf1b78ae54a4a260": {
          "model_module": "@jupyter-widgets/controls",
          "model_name": "ProgressStyleModel",
          "model_module_version": "1.5.0",
          "state": {
            "_view_name": "StyleView",
            "_model_name": "ProgressStyleModel",
            "description_width": "",
            "_view_module": "@jupyter-widgets/base",
            "_model_module_version": "1.5.0",
            "_view_count": null,
            "_view_module_version": "1.2.0",
            "bar_color": null,
            "_model_module": "@jupyter-widgets/controls"
          }
        },
        "6a475d2fb1024794a7d18ce78c54c16c": {
          "model_module": "@jupyter-widgets/base",
          "model_name": "LayoutModel",
          "model_module_version": "1.2.0",
          "state": {
            "_view_name": "LayoutView",
            "grid_template_rows": null,
            "right": null,
            "justify_content": null,
            "_view_module": "@jupyter-widgets/base",
            "overflow": null,
            "_model_module_version": "1.2.0",
            "_view_count": null,
            "flex_flow": null,
            "width": null,
            "min_width": null,
            "border": null,
            "align_items": null,
            "bottom": null,
            "_model_module": "@jupyter-widgets/base",
            "top": null,
            "grid_column": null,
            "overflow_y": null,
            "overflow_x": null,
            "grid_auto_flow": null,
            "grid_area": null,
            "grid_template_columns": null,
            "flex": null,
            "_model_name": "LayoutModel",
            "justify_items": null,
            "grid_row": null,
            "max_height": null,
            "align_content": null,
            "visibility": null,
            "align_self": null,
            "height": null,
            "min_height": null,
            "padding": null,
            "grid_auto_rows": null,
            "grid_gap": null,
            "max_width": null,
            "order": null,
            "_view_module_version": "1.2.0",
            "grid_template_areas": null,
            "object_position": null,
            "object_fit": null,
            "grid_auto_columns": null,
            "margin": null,
            "display": null,
            "left": null
          }
        },
        "04c3ab3b3dad4fdd8853e646eb253475": {
          "model_module": "@jupyter-widgets/controls",
          "model_name": "DescriptionStyleModel",
          "model_module_version": "1.5.0",
          "state": {
            "_view_name": "StyleView",
            "_model_name": "DescriptionStyleModel",
            "description_width": "",
            "_view_module": "@jupyter-widgets/base",
            "_model_module_version": "1.5.0",
            "_view_count": null,
            "_view_module_version": "1.2.0",
            "_model_module": "@jupyter-widgets/controls"
          }
        },
        "be492f5d21e74e7faeb20abb1d988871": {
          "model_module": "@jupyter-widgets/base",
          "model_name": "LayoutModel",
          "model_module_version": "1.2.0",
          "state": {
            "_view_name": "LayoutView",
            "grid_template_rows": null,
            "right": null,
            "justify_content": null,
            "_view_module": "@jupyter-widgets/base",
            "overflow": null,
            "_model_module_version": "1.2.0",
            "_view_count": null,
            "flex_flow": null,
            "width": null,
            "min_width": null,
            "border": null,
            "align_items": null,
            "bottom": null,
            "_model_module": "@jupyter-widgets/base",
            "top": null,
            "grid_column": null,
            "overflow_y": null,
            "overflow_x": null,
            "grid_auto_flow": null,
            "grid_area": null,
            "grid_template_columns": null,
            "flex": null,
            "_model_name": "LayoutModel",
            "justify_items": null,
            "grid_row": null,
            "max_height": null,
            "align_content": null,
            "visibility": null,
            "align_self": null,
            "height": null,
            "min_height": null,
            "padding": null,
            "grid_auto_rows": null,
            "grid_gap": null,
            "max_width": null,
            "order": null,
            "_view_module_version": "1.2.0",
            "grid_template_areas": null,
            "object_position": null,
            "object_fit": null,
            "grid_auto_columns": null,
            "margin": null,
            "display": null,
            "left": null
          }
        },
        "ca86f525c3e549798e0651499371f947": {
          "model_module": "@jupyter-widgets/controls",
          "model_name": "HBoxModel",
          "model_module_version": "1.5.0",
          "state": {
            "_view_name": "HBoxView",
            "_dom_classes": [],
            "_model_name": "HBoxModel",
            "_view_module": "@jupyter-widgets/controls",
            "_model_module_version": "1.5.0",
            "_view_count": null,
            "_view_module_version": "1.5.0",
            "box_style": "",
            "layout": "IPY_MODEL_99ae8902037146adb7bfcdcfabad257f",
            "_model_module": "@jupyter-widgets/controls",
            "children": [
              "IPY_MODEL_699fdaa0c16d4de5939f24d7da1b5a90",
              "IPY_MODEL_78f19be86d2d488fb8adc4abbd6a03aa",
              "IPY_MODEL_9a744bb8fdf34efb8db4e5b74d07e616"
            ]
          }
        },
        "99ae8902037146adb7bfcdcfabad257f": {
          "model_module": "@jupyter-widgets/base",
          "model_name": "LayoutModel",
          "model_module_version": "1.2.0",
          "state": {
            "_view_name": "LayoutView",
            "grid_template_rows": null,
            "right": null,
            "justify_content": null,
            "_view_module": "@jupyter-widgets/base",
            "overflow": null,
            "_model_module_version": "1.2.0",
            "_view_count": null,
            "flex_flow": null,
            "width": null,
            "min_width": null,
            "border": null,
            "align_items": null,
            "bottom": null,
            "_model_module": "@jupyter-widgets/base",
            "top": null,
            "grid_column": null,
            "overflow_y": null,
            "overflow_x": null,
            "grid_auto_flow": null,
            "grid_area": null,
            "grid_template_columns": null,
            "flex": null,
            "_model_name": "LayoutModel",
            "justify_items": null,
            "grid_row": null,
            "max_height": null,
            "align_content": null,
            "visibility": null,
            "align_self": null,
            "height": null,
            "min_height": null,
            "padding": null,
            "grid_auto_rows": null,
            "grid_gap": null,
            "max_width": null,
            "order": null,
            "_view_module_version": "1.2.0",
            "grid_template_areas": null,
            "object_position": null,
            "object_fit": null,
            "grid_auto_columns": null,
            "margin": null,
            "display": null,
            "left": null
          }
        },
        "699fdaa0c16d4de5939f24d7da1b5a90": {
          "model_module": "@jupyter-widgets/controls",
          "model_name": "HTMLModel",
          "model_module_version": "1.5.0",
          "state": {
            "_view_name": "HTMLView",
            "style": "IPY_MODEL_e47260c664e04e0f9377b8870cba3072",
            "_dom_classes": [],
            "description": "",
            "_model_name": "HTMLModel",
            "placeholder": "​",
            "_view_module": "@jupyter-widgets/controls",
            "_model_module_version": "1.5.0",
            "value": "",
            "_view_count": null,
            "_view_module_version": "1.5.0",
            "description_tooltip": null,
            "_model_module": "@jupyter-widgets/controls",
            "layout": "IPY_MODEL_eb4874032fb54f46865a67df4c5ac3c0"
          }
        },
        "78f19be86d2d488fb8adc4abbd6a03aa": {
          "model_module": "@jupyter-widgets/controls",
          "model_name": "FloatProgressModel",
          "model_module_version": "1.5.0",
          "state": {
            "_view_name": "ProgressView",
            "style": "IPY_MODEL_8f39f7dc0d2b4e92bd3200253ff6a184",
            "_dom_classes": [],
            "description": "",
            "_model_name": "FloatProgressModel",
            "bar_style": "success",
            "max": 1,
            "_view_module": "@jupyter-widgets/controls",
            "_model_module_version": "1.5.0",
            "value": 1,
            "_view_count": null,
            "_view_module_version": "1.5.0",
            "orientation": "horizontal",
            "min": 0,
            "description_tooltip": null,
            "_model_module": "@jupyter-widgets/controls",
            "layout": "IPY_MODEL_2776a4ef550249f897cb1385c02ab3e8"
          }
        },
        "9a744bb8fdf34efb8db4e5b74d07e616": {
          "model_module": "@jupyter-widgets/controls",
          "model_name": "HTMLModel",
          "model_module_version": "1.5.0",
          "state": {
            "_view_name": "HTMLView",
            "style": "IPY_MODEL_080b3ca4fa94466d8fd174c9da08449b",
            "_dom_classes": [],
            "description": "",
            "_model_name": "HTMLModel",
            "placeholder": "​",
            "_view_module": "@jupyter-widgets/controls",
            "_model_module_version": "1.5.0",
            "value": " 47631/? [00:04&lt;00:00, 9709.11it/s]",
            "_view_count": null,
            "_view_module_version": "1.5.0",
            "description_tooltip": null,
            "_model_module": "@jupyter-widgets/controls",
            "layout": "IPY_MODEL_0792f1d4510a4b258eea1d6492965328"
          }
        },
        "e47260c664e04e0f9377b8870cba3072": {
          "model_module": "@jupyter-widgets/controls",
          "model_name": "DescriptionStyleModel",
          "model_module_version": "1.5.0",
          "state": {
            "_view_name": "StyleView",
            "_model_name": "DescriptionStyleModel",
            "description_width": "",
            "_view_module": "@jupyter-widgets/base",
            "_model_module_version": "1.5.0",
            "_view_count": null,
            "_view_module_version": "1.2.0",
            "_model_module": "@jupyter-widgets/controls"
          }
        },
        "eb4874032fb54f46865a67df4c5ac3c0": {
          "model_module": "@jupyter-widgets/base",
          "model_name": "LayoutModel",
          "model_module_version": "1.2.0",
          "state": {
            "_view_name": "LayoutView",
            "grid_template_rows": null,
            "right": null,
            "justify_content": null,
            "_view_module": "@jupyter-widgets/base",
            "overflow": null,
            "_model_module_version": "1.2.0",
            "_view_count": null,
            "flex_flow": null,
            "width": null,
            "min_width": null,
            "border": null,
            "align_items": null,
            "bottom": null,
            "_model_module": "@jupyter-widgets/base",
            "top": null,
            "grid_column": null,
            "overflow_y": null,
            "overflow_x": null,
            "grid_auto_flow": null,
            "grid_area": null,
            "grid_template_columns": null,
            "flex": null,
            "_model_name": "LayoutModel",
            "justify_items": null,
            "grid_row": null,
            "max_height": null,
            "align_content": null,
            "visibility": null,
            "align_self": null,
            "height": null,
            "min_height": null,
            "padding": null,
            "grid_auto_rows": null,
            "grid_gap": null,
            "max_width": null,
            "order": null,
            "_view_module_version": "1.2.0",
            "grid_template_areas": null,
            "object_position": null,
            "object_fit": null,
            "grid_auto_columns": null,
            "margin": null,
            "display": null,
            "left": null
          }
        },
        "8f39f7dc0d2b4e92bd3200253ff6a184": {
          "model_module": "@jupyter-widgets/controls",
          "model_name": "ProgressStyleModel",
          "model_module_version": "1.5.0",
          "state": {
            "_view_name": "StyleView",
            "_model_name": "ProgressStyleModel",
            "description_width": "",
            "_view_module": "@jupyter-widgets/base",
            "_model_module_version": "1.5.0",
            "_view_count": null,
            "_view_module_version": "1.2.0",
            "bar_color": null,
            "_model_module": "@jupyter-widgets/controls"
          }
        },
        "2776a4ef550249f897cb1385c02ab3e8": {
          "model_module": "@jupyter-widgets/base",
          "model_name": "LayoutModel",
          "model_module_version": "1.2.0",
          "state": {
            "_view_name": "LayoutView",
            "grid_template_rows": null,
            "right": null,
            "justify_content": null,
            "_view_module": "@jupyter-widgets/base",
            "overflow": null,
            "_model_module_version": "1.2.0",
            "_view_count": null,
            "flex_flow": null,
            "width": "20px",
            "min_width": null,
            "border": null,
            "align_items": null,
            "bottom": null,
            "_model_module": "@jupyter-widgets/base",
            "top": null,
            "grid_column": null,
            "overflow_y": null,
            "overflow_x": null,
            "grid_auto_flow": null,
            "grid_area": null,
            "grid_template_columns": null,
            "flex": null,
            "_model_name": "LayoutModel",
            "justify_items": null,
            "grid_row": null,
            "max_height": null,
            "align_content": null,
            "visibility": null,
            "align_self": null,
            "height": null,
            "min_height": null,
            "padding": null,
            "grid_auto_rows": null,
            "grid_gap": null,
            "max_width": null,
            "order": null,
            "_view_module_version": "1.2.0",
            "grid_template_areas": null,
            "object_position": null,
            "object_fit": null,
            "grid_auto_columns": null,
            "margin": null,
            "display": null,
            "left": null
          }
        },
        "080b3ca4fa94466d8fd174c9da08449b": {
          "model_module": "@jupyter-widgets/controls",
          "model_name": "DescriptionStyleModel",
          "model_module_version": "1.5.0",
          "state": {
            "_view_name": "StyleView",
            "_model_name": "DescriptionStyleModel",
            "description_width": "",
            "_view_module": "@jupyter-widgets/base",
            "_model_module_version": "1.5.0",
            "_view_count": null,
            "_view_module_version": "1.2.0",
            "_model_module": "@jupyter-widgets/controls"
          }
        },
        "0792f1d4510a4b258eea1d6492965328": {
          "model_module": "@jupyter-widgets/base",
          "model_name": "LayoutModel",
          "model_module_version": "1.2.0",
          "state": {
            "_view_name": "LayoutView",
            "grid_template_rows": null,
            "right": null,
            "justify_content": null,
            "_view_module": "@jupyter-widgets/base",
            "overflow": null,
            "_model_module_version": "1.2.0",
            "_view_count": null,
            "flex_flow": null,
            "width": null,
            "min_width": null,
            "border": null,
            "align_items": null,
            "bottom": null,
            "_model_module": "@jupyter-widgets/base",
            "top": null,
            "grid_column": null,
            "overflow_y": null,
            "overflow_x": null,
            "grid_auto_flow": null,
            "grid_area": null,
            "grid_template_columns": null,
            "flex": null,
            "_model_name": "LayoutModel",
            "justify_items": null,
            "grid_row": null,
            "max_height": null,
            "align_content": null,
            "visibility": null,
            "align_self": null,
            "height": null,
            "min_height": null,
            "padding": null,
            "grid_auto_rows": null,
            "grid_gap": null,
            "max_width": null,
            "order": null,
            "_view_module_version": "1.2.0",
            "grid_template_areas": null,
            "object_position": null,
            "object_fit": null,
            "grid_auto_columns": null,
            "margin": null,
            "display": null,
            "left": null
          }
        },
        "91ee5e0357dd40a7a424862bffc45503": {
          "model_module": "@jupyter-widgets/controls",
          "model_name": "HBoxModel",
          "model_module_version": "1.5.0",
          "state": {
            "_view_name": "HBoxView",
            "_dom_classes": [],
            "_model_name": "HBoxModel",
            "_view_module": "@jupyter-widgets/controls",
            "_model_module_version": "1.5.0",
            "_view_count": null,
            "_view_module_version": "1.5.0",
            "box_style": "",
            "layout": "IPY_MODEL_9c60124f87b248b4a6482cac044ce52d",
            "_model_module": "@jupyter-widgets/controls",
            "children": [
              "IPY_MODEL_ce14c321cdad4bd0b8f4e3848e8e2c13",
              "IPY_MODEL_14f21560a9284b7abf88c777a431d36f",
              "IPY_MODEL_104f9e8b3a5f41cca9d22a86d843f3d7"
            ]
          }
        },
        "9c60124f87b248b4a6482cac044ce52d": {
          "model_module": "@jupyter-widgets/base",
          "model_name": "LayoutModel",
          "model_module_version": "1.2.0",
          "state": {
            "_view_name": "LayoutView",
            "grid_template_rows": null,
            "right": null,
            "justify_content": null,
            "_view_module": "@jupyter-widgets/base",
            "overflow": null,
            "_model_module_version": "1.2.0",
            "_view_count": null,
            "flex_flow": null,
            "width": null,
            "min_width": null,
            "border": null,
            "align_items": null,
            "bottom": null,
            "_model_module": "@jupyter-widgets/base",
            "top": null,
            "grid_column": null,
            "overflow_y": null,
            "overflow_x": null,
            "grid_auto_flow": null,
            "grid_area": null,
            "grid_template_columns": null,
            "flex": null,
            "_model_name": "LayoutModel",
            "justify_items": null,
            "grid_row": null,
            "max_height": null,
            "align_content": null,
            "visibility": null,
            "align_self": null,
            "height": null,
            "min_height": null,
            "padding": null,
            "grid_auto_rows": null,
            "grid_gap": null,
            "max_width": null,
            "order": null,
            "_view_module_version": "1.2.0",
            "grid_template_areas": null,
            "object_position": null,
            "object_fit": null,
            "grid_auto_columns": null,
            "margin": null,
            "display": null,
            "left": null
          }
        },
        "ce14c321cdad4bd0b8f4e3848e8e2c13": {
          "model_module": "@jupyter-widgets/controls",
          "model_name": "HTMLModel",
          "model_module_version": "1.5.0",
          "state": {
            "_view_name": "HTMLView",
            "style": "IPY_MODEL_937f7f5306c640f694152cf9b2980561",
            "_dom_classes": [],
            "description": "",
            "_model_name": "HTMLModel",
            "placeholder": "​",
            "_view_module": "@jupyter-widgets/controls",
            "_model_module_version": "1.5.0",
            "value": "100%",
            "_view_count": null,
            "_view_module_version": "1.5.0",
            "description_tooltip": null,
            "_model_module": "@jupyter-widgets/controls",
            "layout": "IPY_MODEL_f26b8e7eda344acc8f319d0ce37c5b1c"
          }
        },
        "14f21560a9284b7abf88c777a431d36f": {
          "model_module": "@jupyter-widgets/controls",
          "model_name": "FloatProgressModel",
          "model_module_version": "1.5.0",
          "state": {
            "_view_name": "ProgressView",
            "style": "IPY_MODEL_cbfae91b1fc6483c8283067273fbaf93",
            "_dom_classes": [],
            "description": "",
            "_model_name": "FloatProgressModel",
            "bar_style": "success",
            "max": 47631,
            "_view_module": "@jupyter-widgets/controls",
            "_model_module_version": "1.5.0",
            "value": 47631,
            "_view_count": null,
            "_view_module_version": "1.5.0",
            "orientation": "horizontal",
            "min": 0,
            "description_tooltip": null,
            "_model_module": "@jupyter-widgets/controls",
            "layout": "IPY_MODEL_37a3eb6819484da39ac11932e413aa27"
          }
        },
        "104f9e8b3a5f41cca9d22a86d843f3d7": {
          "model_module": "@jupyter-widgets/controls",
          "model_name": "HTMLModel",
          "model_module_version": "1.5.0",
          "state": {
            "_view_name": "HTMLView",
            "style": "IPY_MODEL_876e15399abb4e78939f7363a5a28feb",
            "_dom_classes": [],
            "description": "",
            "_model_name": "HTMLModel",
            "placeholder": "​",
            "_view_module": "@jupyter-widgets/controls",
            "_model_module_version": "1.5.0",
            "value": " 47631/47631 [00:00&lt;00:00, 51292.20it/s]",
            "_view_count": null,
            "_view_module_version": "1.5.0",
            "description_tooltip": null,
            "_model_module": "@jupyter-widgets/controls",
            "layout": "IPY_MODEL_2f007fb3ebca4557b27f2638c5022001"
          }
        },
        "937f7f5306c640f694152cf9b2980561": {
          "model_module": "@jupyter-widgets/controls",
          "model_name": "DescriptionStyleModel",
          "model_module_version": "1.5.0",
          "state": {
            "_view_name": "StyleView",
            "_model_name": "DescriptionStyleModel",
            "description_width": "",
            "_view_module": "@jupyter-widgets/base",
            "_model_module_version": "1.5.0",
            "_view_count": null,
            "_view_module_version": "1.2.0",
            "_model_module": "@jupyter-widgets/controls"
          }
        },
        "f26b8e7eda344acc8f319d0ce37c5b1c": {
          "model_module": "@jupyter-widgets/base",
          "model_name": "LayoutModel",
          "model_module_version": "1.2.0",
          "state": {
            "_view_name": "LayoutView",
            "grid_template_rows": null,
            "right": null,
            "justify_content": null,
            "_view_module": "@jupyter-widgets/base",
            "overflow": null,
            "_model_module_version": "1.2.0",
            "_view_count": null,
            "flex_flow": null,
            "width": null,
            "min_width": null,
            "border": null,
            "align_items": null,
            "bottom": null,
            "_model_module": "@jupyter-widgets/base",
            "top": null,
            "grid_column": null,
            "overflow_y": null,
            "overflow_x": null,
            "grid_auto_flow": null,
            "grid_area": null,
            "grid_template_columns": null,
            "flex": null,
            "_model_name": "LayoutModel",
            "justify_items": null,
            "grid_row": null,
            "max_height": null,
            "align_content": null,
            "visibility": null,
            "align_self": null,
            "height": null,
            "min_height": null,
            "padding": null,
            "grid_auto_rows": null,
            "grid_gap": null,
            "max_width": null,
            "order": null,
            "_view_module_version": "1.2.0",
            "grid_template_areas": null,
            "object_position": null,
            "object_fit": null,
            "grid_auto_columns": null,
            "margin": null,
            "display": null,
            "left": null
          }
        },
        "cbfae91b1fc6483c8283067273fbaf93": {
          "model_module": "@jupyter-widgets/controls",
          "model_name": "ProgressStyleModel",
          "model_module_version": "1.5.0",
          "state": {
            "_view_name": "StyleView",
            "_model_name": "ProgressStyleModel",
            "description_width": "",
            "_view_module": "@jupyter-widgets/base",
            "_model_module_version": "1.5.0",
            "_view_count": null,
            "_view_module_version": "1.2.0",
            "bar_color": null,
            "_model_module": "@jupyter-widgets/controls"
          }
        },
        "37a3eb6819484da39ac11932e413aa27": {
          "model_module": "@jupyter-widgets/base",
          "model_name": "LayoutModel",
          "model_module_version": "1.2.0",
          "state": {
            "_view_name": "LayoutView",
            "grid_template_rows": null,
            "right": null,
            "justify_content": null,
            "_view_module": "@jupyter-widgets/base",
            "overflow": null,
            "_model_module_version": "1.2.0",
            "_view_count": null,
            "flex_flow": null,
            "width": null,
            "min_width": null,
            "border": null,
            "align_items": null,
            "bottom": null,
            "_model_module": "@jupyter-widgets/base",
            "top": null,
            "grid_column": null,
            "overflow_y": null,
            "overflow_x": null,
            "grid_auto_flow": null,
            "grid_area": null,
            "grid_template_columns": null,
            "flex": null,
            "_model_name": "LayoutModel",
            "justify_items": null,
            "grid_row": null,
            "max_height": null,
            "align_content": null,
            "visibility": null,
            "align_self": null,
            "height": null,
            "min_height": null,
            "padding": null,
            "grid_auto_rows": null,
            "grid_gap": null,
            "max_width": null,
            "order": null,
            "_view_module_version": "1.2.0",
            "grid_template_areas": null,
            "object_position": null,
            "object_fit": null,
            "grid_auto_columns": null,
            "margin": null,
            "display": null,
            "left": null
          }
        },
        "876e15399abb4e78939f7363a5a28feb": {
          "model_module": "@jupyter-widgets/controls",
          "model_name": "DescriptionStyleModel",
          "model_module_version": "1.5.0",
          "state": {
            "_view_name": "StyleView",
            "_model_name": "DescriptionStyleModel",
            "description_width": "",
            "_view_module": "@jupyter-widgets/base",
            "_model_module_version": "1.5.0",
            "_view_count": null,
            "_view_module_version": "1.2.0",
            "_model_module": "@jupyter-widgets/controls"
          }
        },
        "2f007fb3ebca4557b27f2638c5022001": {
          "model_module": "@jupyter-widgets/base",
          "model_name": "LayoutModel",
          "model_module_version": "1.2.0",
          "state": {
            "_view_name": "LayoutView",
            "grid_template_rows": null,
            "right": null,
            "justify_content": null,
            "_view_module": "@jupyter-widgets/base",
            "overflow": null,
            "_model_module_version": "1.2.0",
            "_view_count": null,
            "flex_flow": null,
            "width": null,
            "min_width": null,
            "border": null,
            "align_items": null,
            "bottom": null,
            "_model_module": "@jupyter-widgets/base",
            "top": null,
            "grid_column": null,
            "overflow_y": null,
            "overflow_x": null,
            "grid_auto_flow": null,
            "grid_area": null,
            "grid_template_columns": null,
            "flex": null,
            "_model_name": "LayoutModel",
            "justify_items": null,
            "grid_row": null,
            "max_height": null,
            "align_content": null,
            "visibility": null,
            "align_self": null,
            "height": null,
            "min_height": null,
            "padding": null,
            "grid_auto_rows": null,
            "grid_gap": null,
            "max_width": null,
            "order": null,
            "_view_module_version": "1.2.0",
            "grid_template_areas": null,
            "object_position": null,
            "object_fit": null,
            "grid_auto_columns": null,
            "margin": null,
            "display": null,
            "left": null
          }
        }
      }
    }
  },
  "cells": [
    {
      "cell_type": "markdown",
      "source": [
        "# Prediction of Ransome Activity \n",
        "\n",
        "Rihem Mansri, Mohamed Issa, Mootez Dakhlaoui, Bourhan Dernayka, Joel Pascal Soffo, Ronny Tonato"
      ],
      "metadata": {
        "id": "fWhReRJ_kV1r"
      }
    },
    {
      "cell_type": "markdown",
      "source": [
        "**Goal of this project:**\n",
        "\n",
        "\n",
        "We are given a bitcoin address and some meta-data about it, and we're asked to estimate if that address has been used to receive ransoms in the past.\n",
        "\n",
        "**What is Bitcoin?**\n",
        "Bitcoin is a cryptocurrency that was created in 2008 by an unknown individual or group of persons under the name Satoshi Nakamoto and launched in 2009 as open-source software.\n",
        "\n",
        "**What are ransomwares?**\n",
        "\n",
        "Ransomware is a type of virus that encrypts the files of its victims. The encryptor then demands a ransom, which, if paid, will allow the data to be decrypted. Hackers utilize the Bitcoin Blockchain to extract ransom from victims because of the pseudo-anonymity it provides.\n",
        "\n",
        "**How do we detect addresses that have been used for ransomware transcations?**\n",
        "\n",
        "We utilize a dataset from the University of California, Irvine Machine Learning Repository, which comprises parsed Bitcoin transaction graphs from January 2009 to December 2018. This data collection comprises tagged transaction data, indicating whether they are white or belong to a Ransomware class.\n",
        "\n",
        "\n",
        "**What is the purpose of this project?**\n",
        "\n",
        "To identify and prevent theft transactions, the learning algorithms and models established on this data may be adjusted to work on bigger and real-time data sets."
      ],
      "metadata": {
        "id": "e6twcNbSldg-"
      }
    },
    {
      "cell_type": "code",
      "source": [
        "import os\n",
        "import warnings\n",
        "import pickle\n",
        "import pandas as pd\n",
        "import numpy as np\n",
        "\n",
        "import matplotlib.pyplot as plt\n",
        "import seaborn as sns\n",
        "from scipy.stats import boxcox\n",
        "from tqdm.notebook import tqdm\n",
        "\n",
        "from sklearn.model_selection import train_test_split\n",
        "import pdb\n",
        "import datetime\n",
        "from scipy.stats import pearsonr\n",
        "\n",
        "from sklearn.preprocessing import StandardScaler, OneHotEncoder\n",
        "from sklearn.compose import ColumnTransformer\n",
        "from sklearn.metrics import accuracy_score, log_loss, plot_roc_curve, f1_score, precision_score, recall_score\n",
        "from sklearn.model_selection import RandomizedSearchCV\n",
        "import matplotlib\n",
        "from prettytable import PrettyTable\n",
        "from pprint import pprint\n",
        "\n",
        "warnings.filterwarnings(\"ignore\")"
      ],
      "metadata": {
        "id": "Jn-PDoDnkurp"
      },
      "execution_count": 1,
      "outputs": []
    },
    {
      "cell_type": "markdown",
      "source": [
        "## **Importing Data**"
      ],
      "metadata": {
        "id": "UHaJ_8bTmzGO"
      }
    },
    {
      "cell_type": "code",
      "source": [
        "data = pd.read_csv(\"BitcoinHeistData.csv\")\n",
        "data.head()"
      ],
      "metadata": {
        "colab": {
          "base_uri": "https://localhost:8080/",
          "height": 207
        },
        "id": "7YB-ueJBk9ti",
        "outputId": "68a8c7a5-162f-4692-e547-333e9a74c3dd"
      },
      "execution_count": 2,
      "outputs": [
        {
          "output_type": "execute_result",
          "data": {
            "text/html": [
              "\n",
              "  <div id=\"df-9a982d68-2bd9-4c9c-8472-224a5d71d929\">\n",
              "    <div class=\"colab-df-container\">\n",
              "      <div>\n",
              "<style scoped>\n",
              "    .dataframe tbody tr th:only-of-type {\n",
              "        vertical-align: middle;\n",
              "    }\n",
              "\n",
              "    .dataframe tbody tr th {\n",
              "        vertical-align: top;\n",
              "    }\n",
              "\n",
              "    .dataframe thead th {\n",
              "        text-align: right;\n",
              "    }\n",
              "</style>\n",
              "<table border=\"1\" class=\"dataframe\">\n",
              "  <thead>\n",
              "    <tr style=\"text-align: right;\">\n",
              "      <th></th>\n",
              "      <th>address</th>\n",
              "      <th>year</th>\n",
              "      <th>day</th>\n",
              "      <th>length</th>\n",
              "      <th>weight</th>\n",
              "      <th>count</th>\n",
              "      <th>looped</th>\n",
              "      <th>neighbors</th>\n",
              "      <th>income</th>\n",
              "      <th>label</th>\n",
              "    </tr>\n",
              "  </thead>\n",
              "  <tbody>\n",
              "    <tr>\n",
              "      <th>0</th>\n",
              "      <td>111K8kZAEnJg245r2cM6y9zgJGHZtJPy6</td>\n",
              "      <td>2017</td>\n",
              "      <td>11</td>\n",
              "      <td>18</td>\n",
              "      <td>0.008333</td>\n",
              "      <td>1</td>\n",
              "      <td>0</td>\n",
              "      <td>2</td>\n",
              "      <td>100050000.0</td>\n",
              "      <td>princetonCerber</td>\n",
              "    </tr>\n",
              "    <tr>\n",
              "      <th>1</th>\n",
              "      <td>1123pJv8jzeFQaCV4w644pzQJzVWay2zcA</td>\n",
              "      <td>2016</td>\n",
              "      <td>132</td>\n",
              "      <td>44</td>\n",
              "      <td>0.000244</td>\n",
              "      <td>1</td>\n",
              "      <td>0</td>\n",
              "      <td>1</td>\n",
              "      <td>100000000.0</td>\n",
              "      <td>princetonLocky</td>\n",
              "    </tr>\n",
              "    <tr>\n",
              "      <th>2</th>\n",
              "      <td>112536im7hy6wtKbpH1qYDWtTyMRAcA2p7</td>\n",
              "      <td>2016</td>\n",
              "      <td>246</td>\n",
              "      <td>0</td>\n",
              "      <td>1.000000</td>\n",
              "      <td>1</td>\n",
              "      <td>0</td>\n",
              "      <td>2</td>\n",
              "      <td>200000000.0</td>\n",
              "      <td>princetonCerber</td>\n",
              "    </tr>\n",
              "    <tr>\n",
              "      <th>3</th>\n",
              "      <td>1126eDRw2wqSkWosjTCre8cjjQW8sSeWH7</td>\n",
              "      <td>2016</td>\n",
              "      <td>322</td>\n",
              "      <td>72</td>\n",
              "      <td>0.003906</td>\n",
              "      <td>1</td>\n",
              "      <td>0</td>\n",
              "      <td>2</td>\n",
              "      <td>71200000.0</td>\n",
              "      <td>princetonCerber</td>\n",
              "    </tr>\n",
              "    <tr>\n",
              "      <th>4</th>\n",
              "      <td>1129TSjKtx65E35GiUo4AYVeyo48twbrGX</td>\n",
              "      <td>2016</td>\n",
              "      <td>238</td>\n",
              "      <td>144</td>\n",
              "      <td>0.072848</td>\n",
              "      <td>456</td>\n",
              "      <td>0</td>\n",
              "      <td>1</td>\n",
              "      <td>200000000.0</td>\n",
              "      <td>princetonLocky</td>\n",
              "    </tr>\n",
              "  </tbody>\n",
              "</table>\n",
              "</div>\n",
              "      <button class=\"colab-df-convert\" onclick=\"convertToInteractive('df-9a982d68-2bd9-4c9c-8472-224a5d71d929')\"\n",
              "              title=\"Convert this dataframe to an interactive table.\"\n",
              "              style=\"display:none;\">\n",
              "        \n",
              "  <svg xmlns=\"http://www.w3.org/2000/svg\" height=\"24px\"viewBox=\"0 0 24 24\"\n",
              "       width=\"24px\">\n",
              "    <path d=\"M0 0h24v24H0V0z\" fill=\"none\"/>\n",
              "    <path d=\"M18.56 5.44l.94 2.06.94-2.06 2.06-.94-2.06-.94-.94-2.06-.94 2.06-2.06.94zm-11 1L8.5 8.5l.94-2.06 2.06-.94-2.06-.94L8.5 2.5l-.94 2.06-2.06.94zm10 10l.94 2.06.94-2.06 2.06-.94-2.06-.94-.94-2.06-.94 2.06-2.06.94z\"/><path d=\"M17.41 7.96l-1.37-1.37c-.4-.4-.92-.59-1.43-.59-.52 0-1.04.2-1.43.59L10.3 9.45l-7.72 7.72c-.78.78-.78 2.05 0 2.83L4 21.41c.39.39.9.59 1.41.59.51 0 1.02-.2 1.41-.59l7.78-7.78 2.81-2.81c.8-.78.8-2.07 0-2.86zM5.41 20L4 18.59l7.72-7.72 1.47 1.35L5.41 20z\"/>\n",
              "  </svg>\n",
              "      </button>\n",
              "      \n",
              "  <style>\n",
              "    .colab-df-container {\n",
              "      display:flex;\n",
              "      flex-wrap:wrap;\n",
              "      gap: 12px;\n",
              "    }\n",
              "\n",
              "    .colab-df-convert {\n",
              "      background-color: #E8F0FE;\n",
              "      border: none;\n",
              "      border-radius: 50%;\n",
              "      cursor: pointer;\n",
              "      display: none;\n",
              "      fill: #1967D2;\n",
              "      height: 32px;\n",
              "      padding: 0 0 0 0;\n",
              "      width: 32px;\n",
              "    }\n",
              "\n",
              "    .colab-df-convert:hover {\n",
              "      background-color: #E2EBFA;\n",
              "      box-shadow: 0px 1px 2px rgba(60, 64, 67, 0.3), 0px 1px 3px 1px rgba(60, 64, 67, 0.15);\n",
              "      fill: #174EA6;\n",
              "    }\n",
              "\n",
              "    [theme=dark] .colab-df-convert {\n",
              "      background-color: #3B4455;\n",
              "      fill: #D2E3FC;\n",
              "    }\n",
              "\n",
              "    [theme=dark] .colab-df-convert:hover {\n",
              "      background-color: #434B5C;\n",
              "      box-shadow: 0px 1px 3px 1px rgba(0, 0, 0, 0.15);\n",
              "      filter: drop-shadow(0px 1px 2px rgba(0, 0, 0, 0.3));\n",
              "      fill: #FFFFFF;\n",
              "    }\n",
              "  </style>\n",
              "\n",
              "      <script>\n",
              "        const buttonEl =\n",
              "          document.querySelector('#df-9a982d68-2bd9-4c9c-8472-224a5d71d929 button.colab-df-convert');\n",
              "        buttonEl.style.display =\n",
              "          google.colab.kernel.accessAllowed ? 'block' : 'none';\n",
              "\n",
              "        async function convertToInteractive(key) {\n",
              "          const element = document.querySelector('#df-9a982d68-2bd9-4c9c-8472-224a5d71d929');\n",
              "          const dataTable =\n",
              "            await google.colab.kernel.invokeFunction('convertToInteractive',\n",
              "                                                     [key], {});\n",
              "          if (!dataTable) return;\n",
              "\n",
              "          const docLinkHtml = 'Like what you see? Visit the ' +\n",
              "            '<a target=\"_blank\" href=https://colab.research.google.com/notebooks/data_table.ipynb>data table notebook</a>'\n",
              "            + ' to learn more about interactive tables.';\n",
              "          element.innerHTML = '';\n",
              "          dataTable['output_type'] = 'display_data';\n",
              "          await google.colab.output.renderOutput(dataTable, element);\n",
              "          const docLink = document.createElement('div');\n",
              "          docLink.innerHTML = docLinkHtml;\n",
              "          element.appendChild(docLink);\n",
              "        }\n",
              "      </script>\n",
              "    </div>\n",
              "  </div>\n",
              "  "
            ],
            "text/plain": [
              "                              address  year  day  length    weight  count  \\\n",
              "0   111K8kZAEnJg245r2cM6y9zgJGHZtJPy6  2017   11      18  0.008333      1   \n",
              "1  1123pJv8jzeFQaCV4w644pzQJzVWay2zcA  2016  132      44  0.000244      1   \n",
              "2  112536im7hy6wtKbpH1qYDWtTyMRAcA2p7  2016  246       0  1.000000      1   \n",
              "3  1126eDRw2wqSkWosjTCre8cjjQW8sSeWH7  2016  322      72  0.003906      1   \n",
              "4  1129TSjKtx65E35GiUo4AYVeyo48twbrGX  2016  238     144  0.072848    456   \n",
              "\n",
              "   looped  neighbors       income            label  \n",
              "0       0          2  100050000.0  princetonCerber  \n",
              "1       0          1  100000000.0   princetonLocky  \n",
              "2       0          2  200000000.0  princetonCerber  \n",
              "3       0          2   71200000.0  princetonCerber  \n",
              "4       0          1  200000000.0   princetonLocky  "
            ]
          },
          "metadata": {},
          "execution_count": 2
        }
      ]
    },
    {
      "cell_type": "code",
      "source": [
        "# Global view for the data\n",
        "data.describe()"
      ],
      "metadata": {
        "colab": {
          "base_uri": "https://localhost:8080/",
          "height": 300
        },
        "id": "FandWkKDn_Cc",
        "outputId": "2262574f-cd2d-44d0-fbaa-031bb51276b8"
      },
      "execution_count": 3,
      "outputs": [
        {
          "output_type": "execute_result",
          "data": {
            "text/html": [
              "\n",
              "  <div id=\"df-eac95591-7447-4cb8-91f8-833cb84ffb78\">\n",
              "    <div class=\"colab-df-container\">\n",
              "      <div>\n",
              "<style scoped>\n",
              "    .dataframe tbody tr th:only-of-type {\n",
              "        vertical-align: middle;\n",
              "    }\n",
              "\n",
              "    .dataframe tbody tr th {\n",
              "        vertical-align: top;\n",
              "    }\n",
              "\n",
              "    .dataframe thead th {\n",
              "        text-align: right;\n",
              "    }\n",
              "</style>\n",
              "<table border=\"1\" class=\"dataframe\">\n",
              "  <thead>\n",
              "    <tr style=\"text-align: right;\">\n",
              "      <th></th>\n",
              "      <th>year</th>\n",
              "      <th>day</th>\n",
              "      <th>length</th>\n",
              "      <th>weight</th>\n",
              "      <th>count</th>\n",
              "      <th>looped</th>\n",
              "      <th>neighbors</th>\n",
              "      <th>income</th>\n",
              "    </tr>\n",
              "  </thead>\n",
              "  <tbody>\n",
              "    <tr>\n",
              "      <th>count</th>\n",
              "      <td>47631.000000</td>\n",
              "      <td>47631.000000</td>\n",
              "      <td>47631.000000</td>\n",
              "      <td>4.763100e+04</td>\n",
              "      <td>47631.000000</td>\n",
              "      <td>47631.000000</td>\n",
              "      <td>47631.000000</td>\n",
              "      <td>4.763100e+04</td>\n",
              "    </tr>\n",
              "    <tr>\n",
              "      <th>mean</th>\n",
              "      <td>2014.370809</td>\n",
              "      <td>152.522958</td>\n",
              "      <td>39.543575</td>\n",
              "      <td>6.108695e-01</td>\n",
              "      <td>521.719930</td>\n",
              "      <td>82.701497</td>\n",
              "      <td>2.061221</td>\n",
              "      <td>1.848409e+09</td>\n",
              "    </tr>\n",
              "    <tr>\n",
              "      <th>std</th>\n",
              "      <td>1.821298</td>\n",
              "      <td>104.870609</td>\n",
              "      <td>55.815881</td>\n",
              "      <td>2.498680e+00</td>\n",
              "      <td>1339.279342</td>\n",
              "      <td>490.971926</td>\n",
              "      <td>2.302722</td>\n",
              "      <td>2.049921e+10</td>\n",
              "    </tr>\n",
              "    <tr>\n",
              "      <th>min</th>\n",
              "      <td>2011.000000</td>\n",
              "      <td>1.000000</td>\n",
              "      <td>0.000000</td>\n",
              "      <td>4.719723e-42</td>\n",
              "      <td>1.000000</td>\n",
              "      <td>0.000000</td>\n",
              "      <td>1.000000</td>\n",
              "      <td>3.000000e+07</td>\n",
              "    </tr>\n",
              "    <tr>\n",
              "      <th>25%</th>\n",
              "      <td>2013.000000</td>\n",
              "      <td>75.000000</td>\n",
              "      <td>2.000000</td>\n",
              "      <td>5.000000e-02</td>\n",
              "      <td>1.000000</td>\n",
              "      <td>0.000000</td>\n",
              "      <td>1.000000</td>\n",
              "      <td>8.503056e+07</td>\n",
              "    </tr>\n",
              "    <tr>\n",
              "      <th>50%</th>\n",
              "      <td>2014.000000</td>\n",
              "      <td>141.000000</td>\n",
              "      <td>8.000000</td>\n",
              "      <td>3.906250e-01</td>\n",
              "      <td>1.000000</td>\n",
              "      <td>0.000000</td>\n",
              "      <td>2.000000</td>\n",
              "      <td>1.683200e+08</td>\n",
              "    </tr>\n",
              "    <tr>\n",
              "      <th>75%</th>\n",
              "      <td>2016.000000</td>\n",
              "      <td>244.000000</td>\n",
              "      <td>58.000000</td>\n",
              "      <td>1.000000e+00</td>\n",
              "      <td>6.000000</td>\n",
              "      <td>0.000000</td>\n",
              "      <td>2.000000</td>\n",
              "      <td>4.122742e+08</td>\n",
              "    </tr>\n",
              "    <tr>\n",
              "      <th>max</th>\n",
              "      <td>2018.000000</td>\n",
              "      <td>365.000000</td>\n",
              "      <td>144.000000</td>\n",
              "      <td>4.982885e+02</td>\n",
              "      <td>13462.000000</td>\n",
              "      <td>11693.000000</td>\n",
              "      <td>94.000000</td>\n",
              "      <td>2.595000e+12</td>\n",
              "    </tr>\n",
              "  </tbody>\n",
              "</table>\n",
              "</div>\n",
              "      <button class=\"colab-df-convert\" onclick=\"convertToInteractive('df-eac95591-7447-4cb8-91f8-833cb84ffb78')\"\n",
              "              title=\"Convert this dataframe to an interactive table.\"\n",
              "              style=\"display:none;\">\n",
              "        \n",
              "  <svg xmlns=\"http://www.w3.org/2000/svg\" height=\"24px\"viewBox=\"0 0 24 24\"\n",
              "       width=\"24px\">\n",
              "    <path d=\"M0 0h24v24H0V0z\" fill=\"none\"/>\n",
              "    <path d=\"M18.56 5.44l.94 2.06.94-2.06 2.06-.94-2.06-.94-.94-2.06-.94 2.06-2.06.94zm-11 1L8.5 8.5l.94-2.06 2.06-.94-2.06-.94L8.5 2.5l-.94 2.06-2.06.94zm10 10l.94 2.06.94-2.06 2.06-.94-2.06-.94-.94-2.06-.94 2.06-2.06.94z\"/><path d=\"M17.41 7.96l-1.37-1.37c-.4-.4-.92-.59-1.43-.59-.52 0-1.04.2-1.43.59L10.3 9.45l-7.72 7.72c-.78.78-.78 2.05 0 2.83L4 21.41c.39.39.9.59 1.41.59.51 0 1.02-.2 1.41-.59l7.78-7.78 2.81-2.81c.8-.78.8-2.07 0-2.86zM5.41 20L4 18.59l7.72-7.72 1.47 1.35L5.41 20z\"/>\n",
              "  </svg>\n",
              "      </button>\n",
              "      \n",
              "  <style>\n",
              "    .colab-df-container {\n",
              "      display:flex;\n",
              "      flex-wrap:wrap;\n",
              "      gap: 12px;\n",
              "    }\n",
              "\n",
              "    .colab-df-convert {\n",
              "      background-color: #E8F0FE;\n",
              "      border: none;\n",
              "      border-radius: 50%;\n",
              "      cursor: pointer;\n",
              "      display: none;\n",
              "      fill: #1967D2;\n",
              "      height: 32px;\n",
              "      padding: 0 0 0 0;\n",
              "      width: 32px;\n",
              "    }\n",
              "\n",
              "    .colab-df-convert:hover {\n",
              "      background-color: #E2EBFA;\n",
              "      box-shadow: 0px 1px 2px rgba(60, 64, 67, 0.3), 0px 1px 3px 1px rgba(60, 64, 67, 0.15);\n",
              "      fill: #174EA6;\n",
              "    }\n",
              "\n",
              "    [theme=dark] .colab-df-convert {\n",
              "      background-color: #3B4455;\n",
              "      fill: #D2E3FC;\n",
              "    }\n",
              "\n",
              "    [theme=dark] .colab-df-convert:hover {\n",
              "      background-color: #434B5C;\n",
              "      box-shadow: 0px 1px 3px 1px rgba(0, 0, 0, 0.15);\n",
              "      filter: drop-shadow(0px 1px 2px rgba(0, 0, 0, 0.3));\n",
              "      fill: #FFFFFF;\n",
              "    }\n",
              "  </style>\n",
              "\n",
              "      <script>\n",
              "        const buttonEl =\n",
              "          document.querySelector('#df-eac95591-7447-4cb8-91f8-833cb84ffb78 button.colab-df-convert');\n",
              "        buttonEl.style.display =\n",
              "          google.colab.kernel.accessAllowed ? 'block' : 'none';\n",
              "\n",
              "        async function convertToInteractive(key) {\n",
              "          const element = document.querySelector('#df-eac95591-7447-4cb8-91f8-833cb84ffb78');\n",
              "          const dataTable =\n",
              "            await google.colab.kernel.invokeFunction('convertToInteractive',\n",
              "                                                     [key], {});\n",
              "          if (!dataTable) return;\n",
              "\n",
              "          const docLinkHtml = 'Like what you see? Visit the ' +\n",
              "            '<a target=\"_blank\" href=https://colab.research.google.com/notebooks/data_table.ipynb>data table notebook</a>'\n",
              "            + ' to learn more about interactive tables.';\n",
              "          element.innerHTML = '';\n",
              "          dataTable['output_type'] = 'display_data';\n",
              "          await google.colab.output.renderOutput(dataTable, element);\n",
              "          const docLink = document.createElement('div');\n",
              "          docLink.innerHTML = docLinkHtml;\n",
              "          element.appendChild(docLink);\n",
              "        }\n",
              "      </script>\n",
              "    </div>\n",
              "  </div>\n",
              "  "
            ],
            "text/plain": [
              "               year           day        length        weight         count  \\\n",
              "count  47631.000000  47631.000000  47631.000000  4.763100e+04  47631.000000   \n",
              "mean    2014.370809    152.522958     39.543575  6.108695e-01    521.719930   \n",
              "std        1.821298    104.870609     55.815881  2.498680e+00   1339.279342   \n",
              "min     2011.000000      1.000000      0.000000  4.719723e-42      1.000000   \n",
              "25%     2013.000000     75.000000      2.000000  5.000000e-02      1.000000   \n",
              "50%     2014.000000    141.000000      8.000000  3.906250e-01      1.000000   \n",
              "75%     2016.000000    244.000000     58.000000  1.000000e+00      6.000000   \n",
              "max     2018.000000    365.000000    144.000000  4.982885e+02  13462.000000   \n",
              "\n",
              "             looped     neighbors        income  \n",
              "count  47631.000000  47631.000000  4.763100e+04  \n",
              "mean      82.701497      2.061221  1.848409e+09  \n",
              "std      490.971926      2.302722  2.049921e+10  \n",
              "min        0.000000      1.000000  3.000000e+07  \n",
              "25%        0.000000      1.000000  8.503056e+07  \n",
              "50%        0.000000      2.000000  1.683200e+08  \n",
              "75%        0.000000      2.000000  4.122742e+08  \n",
              "max    11693.000000     94.000000  2.595000e+12  "
            ]
          },
          "metadata": {},
          "execution_count": 3
        }
      ]
    },
    {
      "cell_type": "code",
      "source": [
        "print(data.shape)"
      ],
      "metadata": {
        "colab": {
          "base_uri": "https://localhost:8080/"
        },
        "id": "4SGf_LhWlR4L",
        "outputId": "f7f4cc52-5ff1-4c8e-c33d-ee8cef5402d9"
      },
      "execution_count": 4,
      "outputs": [
        {
          "output_type": "stream",
          "name": "stdout",
          "text": [
            "(47631, 10)\n"
          ]
        }
      ]
    },
    {
      "cell_type": "markdown",
      "source": [
        "Our dataset has roughly 2,000,000 rows and 10 columns. Out of these 10 columns, we have 9 predictors and one target column. Each row details a particular transaction with 9 features.\n",
        "\n",
        "Description of features : .................\n"
      ],
      "metadata": {
        "id": "9Dl_GmO8nAql"
      }
    },
    {
      "cell_type": "markdown",
      "source": [
        "## **Data Cleaning and Feature Engineering**"
      ],
      "metadata": {
        "id": "yaBAV7uenxM-"
      }
    },
    {
      "cell_type": "code",
      "source": [
        "for i in list(data.columns):\n",
        "    if any(data[i].isnull()):\n",
        "        print('Column: {} contains NaN'.format(i))\n",
        "    else:\n",
        "        print('No NaN found...')"
      ],
      "metadata": {
        "colab": {
          "base_uri": "https://localhost:8080/"
        },
        "id": "2midbveam__C",
        "outputId": "013abed6-689c-4390-f75b-ce03a6e841fe"
      },
      "execution_count": 5,
      "outputs": [
        {
          "output_type": "stream",
          "name": "stdout",
          "text": [
            "No NaN found...\n",
            "No NaN found...\n",
            "No NaN found...\n",
            "No NaN found...\n",
            "No NaN found...\n",
            "No NaN found...\n",
            "No NaN found...\n",
            "No NaN found...\n",
            "No NaN found...\n",
            "No NaN found...\n"
          ]
        }
      ]
    },
    {
      "cell_type": "markdown",
      "source": [
        "as we can see there are many columns containing NaN values so the easiest way is to drop those lines."
      ],
      "metadata": {
        "id": "06bTy0nEoDXh"
      }
    },
    {
      "cell_type": "code",
      "source": [
        "data.dropna(inplace=True)\n",
        "data = data.drop_duplicates()  #Drop duplicate Rows"
      ],
      "metadata": {
        "id": "uWtQPhuQoCuU"
      },
      "execution_count": 6,
      "outputs": []
    },
    {
      "cell_type": "code",
      "source": [
        "data['address'].value_counts()\n",
        "n_addresses = list(data['address'].value_counts())\n",
        "\n",
        "#plot to print distribution of n_addresses\n",
        "plt.title('Distribution plot of n_addresses')\n",
        "sns.distplot(n_addresses)\n",
        "plt.xlabel('n_addresses')\n",
        "plt.ylabel('PDF')\n",
        "plt.show()"
      ],
      "metadata": {
        "colab": {
          "base_uri": "https://localhost:8080/",
          "height": 295
        },
        "id": "E6_kMcoSoizh",
        "outputId": "36a2280f-3062-4d12-8940-dddcd291cc0c"
      },
      "execution_count": 7,
      "outputs": [
        {
          "output_type": "display_data",
          "data": {
            "image/png": "[encoded data removed]",
            "text/plain": [
              "<Figure size 432x288 with 1 Axes>"
            ]
          },
          "metadata": {
            "needs_background": "light"
          }
        }
      ]
    },
    {
      "cell_type": "code",
      "source": [
        "print('An address is repeated an average of {} number of times'.format(np.mean(n_addresses)))"
      ],
      "metadata": {
        "colab": {
          "base_uri": "https://localhost:8080/"
        },
        "id": "Gh6cJsMSvXTA",
        "outputId": "fc8e7a37-6cd8-47da-f6d3-2dc24a02d162"
      },
      "execution_count": 8,
      "outputs": [
        {
          "output_type": "stream",
          "name": "stdout",
          "text": [
            "An address is repeated an average of 1.8046146851557172 number of times\n"
          ]
        }
      ]
    },
    {
      "cell_type": "markdown",
      "source": [
        "We get an extremely skewed distribution, hence we will try to zoom-in for better inference so we will plot only points in the 5th percentile"
      ],
      "metadata": {
        "id": "OxyzgUx0qil_"
      }
    },
    {
      "cell_type": "code",
      "source": [
        "fifth_per = np.percentile(n_addresses, 99)\n",
        "n_addresses_fifthpercentile = np.array([element for element in n_addresses if element <=fifth_per ])\n",
        "#checking points only within 5th percentile\n",
        "\n",
        "plt.title('Distribution plot of points within 5th percentile')\n",
        "sns.distplot(n_addresses_fifthpercentile)\n",
        "plt.xlabel('n_addresses')\n",
        "plt.ylabel('PDF')\n",
        "plt.show()"
      ],
      "metadata": {
        "colab": {
          "base_uri": "https://localhost:8080/",
          "height": 295
        },
        "id": "MhYgXoERoqSh",
        "outputId": "030a4080-9168-4014-a819-653a851c6b23"
      },
      "execution_count": 9,
      "outputs": [
        {
          "output_type": "display_data",
          "data": {
            "image/png": "[encoded data removed]",
            "text/plain": [
              "<Figure size 432x288 with 1 Axes>"
            ]
          },
          "metadata": {
            "needs_background": "light"
          }
        }
      ]
    },
    {
      "cell_type": "markdown",
      "source": [
        "We see that most addresses are repeated only once and a small percentage of them are repeated twice and even a smaller number for the addresses repeated 3 times"
      ],
      "metadata": {
        "id": "rAWcJZGavf4y"
      }
    },
    {
      "cell_type": "code",
      "source": [
        "# Looking at its distribution\n",
        "plt.figure(figsize=(14, 5))\n",
        "\n",
        "\n",
        "plt.subplot(121)\n",
        "sns.distplot(data['length'])\n",
        "plt.title('Distribution of length')\n",
        "\n",
        "\n",
        "plt.subplot(122)\n",
        "sns.distplot(boxcox(np.array(data['length']) + 1e-6)[0], color='red')\n",
        "plt.title('Distribution of boxcox transformation over length')\n",
        "\n",
        "plt.tight_layout(pad=3.0)\n",
        "plt.show()\n"
      ],
      "metadata": {
        "colab": {
          "base_uri": "https://localhost:8080/",
          "height": 331
        },
        "id": "NIknmOX_qg9_",
        "outputId": "6603e9cd-339a-4190-bcc3-a39fc4d74814"
      },
      "execution_count": 10,
      "outputs": [
        {
          "output_type": "display_data",
          "data": {
            "image/png": "[encoded data removed]",
            "text/plain": [
              "<Figure size 1008x360 with 2 Axes>"
            ]
          },
          "metadata": {
            "needs_background": "light"
          }
        }
      ]
    },
    {
      "cell_type": "markdown",
      "source": [
        "In global view we can see that we have a skewness in mostly all features so to have a better modelling in our algorithm we are trying to fix the skewness and that's by doing complex functions like Sin/ Log and performing a boxcox operation on it."
      ],
      "metadata": {
        "id": "v0p-KRbf_yXO"
      }
    },
    {
      "cell_type": "code",
      "source": [
        "plt.figure(figsize=(14, 5))\n",
        "\n",
        "plt.subplot(121)\n",
        "sns.distplot(data['weight'])\n",
        "plt.title('Distribution of weight')\n",
        "\n",
        "plt.subplot(122)\n",
        "sns.distplot(boxcox(np.array(data['weight']))[0], color='red')\n",
        "plt.title('Boxcox transformation of weight')\n",
        "\n",
        "plt.tight_layout(pad=3.0)\n",
        "plt.show()"
      ],
      "metadata": {
        "id": "mcYNJPqcALzP",
        "colab": {
          "base_uri": "https://localhost:8080/",
          "height": 331
        },
        "outputId": "ab19eb3e-3366-42bc-a7f2-116852b5f47f"
      },
      "execution_count": 11,
      "outputs": [
        {
          "output_type": "display_data",
          "data": {
            "image/png": "[encoded data removed]",
            "text/plain": [
              "<Figure size 1008x360 with 2 Axes>"
            ]
          },
          "metadata": {
            "needs_background": "light"
          }
        }
      ]
    },
    {
      "cell_type": "code",
      "source": [
        "plt.figure(figsize=(14, 5))\n",
        "\n",
        "plt.subplot(121)\n",
        "sns.distplot(data['neighbors'])\n",
        "plt.title('Distribution of neighbors')\n",
        "\n",
        "plt.subplot(122)\n",
        "sns.distplot(boxcox(np.array(data['neighbors']) + 1e-6)[0], color='red')\n",
        "plt.title('Boxcox of neighbors')\n",
        "plt.show()"
      ],
      "metadata": {
        "colab": {
          "base_uri": "https://localhost:8080/",
          "height": 349
        },
        "id": "p-SgeeuSV-NG",
        "outputId": "f7614b8d-a6d4-431a-ecb9-3a67b9776177"
      },
      "execution_count": 12,
      "outputs": [
        {
          "output_type": "display_data",
          "data": {
            "image/png": "[encoded data removed]",
            "text/plain": [
              "<Figure size 1008x360 with 2 Axes>"
            ]
          },
          "metadata": {
            "needs_background": "light"
          }
        }
      ]
    },
    {
      "cell_type": "code",
      "source": [
        "plt.figure(figsize=(14, 5))\n",
        "\n",
        "plt.subplot(121)\n",
        "sns.distplot(data['income'])\n",
        "plt.title('Distribution of income')\n",
        "\n",
        "plt.subplot(122)\n",
        "sns.distplot(boxcox(np.array(data['income']) + 1e-6)[0], color='red')\n",
        "plt.title('Boxcox of income')\n",
        "plt.show()"
      ],
      "metadata": {
        "colab": {
          "base_uri": "https://localhost:8080/",
          "height": 349
        },
        "id": "IpgKpgXfaUXR",
        "outputId": "3ac68451-839e-4bd9-8743-a619d0a7e046"
      },
      "execution_count": 13,
      "outputs": [
        {
          "output_type": "display_data",
          "data": {
            "image/png": "[encoded data removed]",
            "text/plain": [
              "<Figure size 1008x360 with 2 Axes>"
            ]
          },
          "metadata": {
            "needs_background": "light"
          }
        }
      ]
    },
    {
      "cell_type": "markdown",
      "source": [
        "As we can see doing some transformation on the data makes it more suitable for algorithms. showing more guassian distributions will help in modelling.\n",
        "\n",
        "### Goal of using boxcox : \n",
        "Linear Regression, Gaussian Naive Bayes and other type of algorithms for classification are machine learning techniques that assume numerical variables have a Gaussian probability distribution.\n",
        "Our data might have a Gaussian-like distribution (e.g. almost Gaussian but with outliers or a skew) or a completely different distribution from a Gaussian distribution (e.g. exponential).\n",
        "As a result, by changing input and/or output variables to have a Gaussian or more-Gaussian distribution, you may be able to improve performance on a wide range of machine learning techniques.\n",
        "\n",
        "=> we will add other features of those transformations"
      ],
      "metadata": {
        "id": "eyWFjRH4e_Lv"
      }
    },
    {
      "cell_type": "markdown",
      "source": [
        "we can add also interaction features between the income and the neighbors which will represent complex features for the model that explains the correlation between both of them when comparing to each one mean"
      ],
      "metadata": {
        "id": "sms5Xt9mmmMD"
      }
    },
    {
      "cell_type": "code",
      "source": [
        "def get_income_neighbors(income, neighbor):\n",
        "    \"\"\"If botg of them is greater than the median then return 0\n",
        "        if only income is greater than median return 1\n",
        "        else return 2\"\"\"\n",
        "    \n",
        "    if income > median_income:\n",
        "        if neighbor > median_neighbors:\n",
        "            return 0\n",
        "        else:\n",
        "            return 1\n",
        "    return 2"
      ],
      "metadata": {
        "id": "RssS-kkhnrx-"
      },
      "execution_count": 14,
      "outputs": []
    },
    {
      "cell_type": "code",
      "source": [
        "median_neighbors = np.median(data['neighbors'])\n",
        "median_income = np.median(data['income'])\n",
        "\n",
        "interaction_income_neighbors = []\n",
        "for indice, ligne in tqdm(data.iterrows(), total=data.shape[0]):\n",
        "    interaction_income_neighbors.append(get_income_neighbors(ligne['income'], ligne['neighbors']))\n"
      ],
      "metadata": {
        "colab": {
          "base_uri": "https://localhost:8080/",
          "height": 49,
          "referenced_widgets": [
            "65e41a27c4a842c288725592093cb7a7",
            "a522c26381f04e57ac958095a38b0b48",
            "1e0564ef2da4449983a79e2482bd02e4",
            "b9ddf0af9cc745b998379a5562a17f41",
            "0a139aad825a47ca8ccf7fb458f456eb",
            "a6fc28f694884d539620bda5615624a9",
            "030adb5845384e7e9285eaf40fae9ad5",
            "de7a8883b40c4549bf1b78ae54a4a260",
            "6a475d2fb1024794a7d18ce78c54c16c",
            "04c3ab3b3dad4fdd8853e646eb253475",
            "be492f5d21e74e7faeb20abb1d988871"
          ]
        },
        "id": "bXEkdMATmfNo",
        "outputId": "86a091f5-3b92-4d0f-ff47-41c537230bc2"
      },
      "execution_count": 15,
      "outputs": [
        {
          "output_type": "display_data",
          "data": {
            "application/vnd.jupyter.widget-view+json": {
              "model_id": "65e41a27c4a842c288725592093cb7a7",
              "version_minor": 0,
              "version_major": 2
            },
            "text/plain": [
              "  0%|          | 0/47631 [00:00<?, ?it/s]"
            ]
          },
          "metadata": {}
        }
      ]
    },
    {
      "cell_type": "code",
      "source": [
        "def get_day_number(First_day, day_i):\n",
        "    #return day number (0 for monday, 6 for sunday) for day_i\n",
        "    return (First_day + day_i - 1) % 7\n",
        "\n",
        "data_day_of_week = np.array([])\n",
        "for indice, ligne in tqdm(data.iterrows()):\n",
        "    year_i, day_i = ligne['year'], ligne['day']\n",
        "    data_day_of_week = np.append(data_day_of_week, get_day_number(datetime.datetime(year_i, 1, 1).weekday(), day_i))"
      ],
      "metadata": {
        "colab": {
          "base_uri": "https://localhost:8080/",
          "height": 49,
          "referenced_widgets": [
            "ca86f525c3e549798e0651499371f947",
            "99ae8902037146adb7bfcdcfabad257f",
            "699fdaa0c16d4de5939f24d7da1b5a90",
            "78f19be86d2d488fb8adc4abbd6a03aa",
            "9a744bb8fdf34efb8db4e5b74d07e616",
            "e47260c664e04e0f9377b8870cba3072",
            "eb4874032fb54f46865a67df4c5ac3c0",
            "8f39f7dc0d2b4e92bd3200253ff6a184",
            "2776a4ef550249f897cb1385c02ab3e8",
            "080b3ca4fa94466d8fd174c9da08449b",
            "0792f1d4510a4b258eea1d6492965328"
          ]
        },
        "id": "JPdSmPZTqID2",
        "outputId": "b1082794-58e1-441d-8a65-210af8ae8558"
      },
      "execution_count": 16,
      "outputs": [
        {
          "output_type": "display_data",
          "data": {
            "application/vnd.jupyter.widget-view+json": {
              "model_id": "ca86f525c3e549798e0651499371f947",
              "version_minor": 0,
              "version_major": 2
            },
            "text/plain": [
              "0it [00:00, ?it/s]"
            ]
          },
          "metadata": {}
        }
      ]
    },
    {
      "cell_type": "code",
      "source": [
        "interaction_income_neighbors = np.array(interaction_income_neighbors)\n",
        "data_gaussian_weight = boxcox(np.array(data['weight']) + 1e-6)[0]\n",
        "data_gaussian_length = boxcox(np.array(data['length']) + 1e-6)[0]\n",
        "data_gaussian_neighbors = boxcox(np.array(data['neighbors']) + 1e-6)[0]\n",
        "data_gaussian_income = boxcox(np.array(data['income']) + 1e-6)[0]\n",
        "\n",
        "# Adding features\n",
        "data[\"data_gaussian_weight\"] = data_gaussian_weight\n",
        "data[\"data_gaussian_length\"] = data_gaussian_length\n",
        "data[\"data_gaussian_neighbors\"] = data_gaussian_neighbors\n",
        "data[\"data_gaussian_income\"] = data_gaussian_income\n",
        "data[\"interaction_income_neighbors\"] = interaction_income_neighbors\n",
        "data[\"data_day_of_week\"] = data_day_of_week\n",
        "\n"
      ],
      "metadata": {
        "id": "LNOeXw4yehLQ"
      },
      "execution_count": 17,
      "outputs": []
    },
    {
      "cell_type": "code",
      "source": [
        "data.head()"
      ],
      "metadata": {
        "id": "mYIOVO7HljFz",
        "colab": {
          "base_uri": "https://localhost:8080/",
          "height": 207
        },
        "outputId": "60a1277d-1049-4056-f2b6-020e47ee0e1c"
      },
      "execution_count": 18,
      "outputs": [
        {
          "output_type": "execute_result",
          "data": {
            "text/html": [
              "\n",
              "  <div id=\"df-ae927423-905b-42a0-b2e5-c63e2e202846\">\n",
              "    <div class=\"colab-df-container\">\n",
              "      <div>\n",
              "<style scoped>\n",
              "    .dataframe tbody tr th:only-of-type {\n",
              "        vertical-align: middle;\n",
              "    }\n",
              "\n",
              "    .dataframe tbody tr th {\n",
              "        vertical-align: top;\n",
              "    }\n",
              "\n",
              "    .dataframe thead th {\n",
              "        text-align: right;\n",
              "    }\n",
              "</style>\n",
              "<table border=\"1\" class=\"dataframe\">\n",
              "  <thead>\n",
              "    <tr style=\"text-align: right;\">\n",
              "      <th></th>\n",
              "      <th>address</th>\n",
              "      <th>year</th>\n",
              "      <th>day</th>\n",
              "      <th>length</th>\n",
              "      <th>weight</th>\n",
              "      <th>count</th>\n",
              "      <th>looped</th>\n",
              "      <th>neighbors</th>\n",
              "      <th>income</th>\n",
              "      <th>label</th>\n",
              "      <th>data_gaussian_weight</th>\n",
              "      <th>data_gaussian_length</th>\n",
              "      <th>data_gaussian_neighbors</th>\n",
              "      <th>data_gaussian_income</th>\n",
              "      <th>interaction_income_neighbors</th>\n",
              "      <th>data_day_of_week</th>\n",
              "    </tr>\n",
              "  </thead>\n",
              "  <tbody>\n",
              "    <tr>\n",
              "      <th>0</th>\n",
              "      <td>111K8kZAEnJg245r2cM6y9zgJGHZtJPy6</td>\n",
              "      <td>2017</td>\n",
              "      <td>11</td>\n",
              "      <td>18</td>\n",
              "      <td>0.008333</td>\n",
              "      <td>1</td>\n",
              "      <td>0</td>\n",
              "      <td>2</td>\n",
              "      <td>100050000.0</td>\n",
              "      <td>princetonCerber</td>\n",
              "      <td>-2.835961e+00</td>\n",
              "      <td>3.546355</td>\n",
              "      <td>5.507895e-01</td>\n",
              "      <td>2.969153</td>\n",
              "      <td>2</td>\n",
              "      <td>2.0</td>\n",
              "    </tr>\n",
              "    <tr>\n",
              "      <th>1</th>\n",
              "      <td>1123pJv8jzeFQaCV4w644pzQJzVWay2zcA</td>\n",
              "      <td>2016</td>\n",
              "      <td>132</td>\n",
              "      <td>44</td>\n",
              "      <td>0.000244</td>\n",
              "      <td>1</td>\n",
              "      <td>0</td>\n",
              "      <td>1</td>\n",
              "      <td>100000000.0</td>\n",
              "      <td>princetonLocky</td>\n",
              "      <td>-3.581495e+00</td>\n",
              "      <td>4.959223</td>\n",
              "      <td>9.999992e-07</td>\n",
              "      <td>2.969152</td>\n",
              "      <td>2</td>\n",
              "      <td>2.0</td>\n",
              "    </tr>\n",
              "    <tr>\n",
              "      <th>2</th>\n",
              "      <td>112536im7hy6wtKbpH1qYDWtTyMRAcA2p7</td>\n",
              "      <td>2016</td>\n",
              "      <td>246</td>\n",
              "      <td>0</td>\n",
              "      <td>1.000000</td>\n",
              "      <td>1</td>\n",
              "      <td>0</td>\n",
              "      <td>2</td>\n",
              "      <td>200000000.0</td>\n",
              "      <td>princetonCerber</td>\n",
              "      <td>9.999996e-07</td>\n",
              "      <td>-6.199172</td>\n",
              "      <td>5.507895e-01</td>\n",
              "      <td>2.970417</td>\n",
              "      <td>1</td>\n",
              "      <td>4.0</td>\n",
              "    </tr>\n",
              "    <tr>\n",
              "      <th>3</th>\n",
              "      <td>1126eDRw2wqSkWosjTCre8cjjQW8sSeWH7</td>\n",
              "      <td>2016</td>\n",
              "      <td>322</td>\n",
              "      <td>72</td>\n",
              "      <td>0.003906</td>\n",
              "      <td>1</td>\n",
              "      <td>0</td>\n",
              "      <td>2</td>\n",
              "      <td>71200000.0</td>\n",
              "      <td>princetonCerber</td>\n",
              "      <td>-3.053468e+00</td>\n",
              "      <td>5.814868</td>\n",
              "      <td>5.507895e-01</td>\n",
              "      <td>2.968415</td>\n",
              "      <td>2</td>\n",
              "      <td>3.0</td>\n",
              "    </tr>\n",
              "    <tr>\n",
              "      <th>4</th>\n",
              "      <td>1129TSjKtx65E35GiUo4AYVeyo48twbrGX</td>\n",
              "      <td>2016</td>\n",
              "      <td>238</td>\n",
              "      <td>144</td>\n",
              "      <td>0.072848</td>\n",
              "      <td>456</td>\n",
              "      <td>0</td>\n",
              "      <td>1</td>\n",
              "      <td>200000000.0</td>\n",
              "      <td>princetonLocky</td>\n",
              "      <td>-1.940392e+00</td>\n",
              "      <td>7.121308</td>\n",
              "      <td>9.999992e-07</td>\n",
              "      <td>2.970417</td>\n",
              "      <td>1</td>\n",
              "      <td>3.0</td>\n",
              "    </tr>\n",
              "  </tbody>\n",
              "</table>\n",
              "</div>\n",
              "      <button class=\"colab-df-convert\" onclick=\"convertToInteractive('df-ae927423-905b-42a0-b2e5-c63e2e202846')\"\n",
              "              title=\"Convert this dataframe to an interactive table.\"\n",
              "              style=\"display:none;\">\n",
              "        \n",
              "  <svg xmlns=\"http://www.w3.org/2000/svg\" height=\"24px\"viewBox=\"0 0 24 24\"\n",
              "       width=\"24px\">\n",
              "    <path d=\"M0 0h24v24H0V0z\" fill=\"none\"/>\n",
              "    <path d=\"M18.56 5.44l.94 2.06.94-2.06 2.06-.94-2.06-.94-.94-2.06-.94 2.06-2.06.94zm-11 1L8.5 8.5l.94-2.06 2.06-.94-2.06-.94L8.5 2.5l-.94 2.06-2.06.94zm10 10l.94 2.06.94-2.06 2.06-.94-2.06-.94-.94-2.06-.94 2.06-2.06.94z\"/><path d=\"M17.41 7.96l-1.37-1.37c-.4-.4-.92-.59-1.43-.59-.52 0-1.04.2-1.43.59L10.3 9.45l-7.72 7.72c-.78.78-.78 2.05 0 2.83L4 21.41c.39.39.9.59 1.41.59.51 0 1.02-.2 1.41-.59l7.78-7.78 2.81-2.81c.8-.78.8-2.07 0-2.86zM5.41 20L4 18.59l7.72-7.72 1.47 1.35L5.41 20z\"/>\n",
              "  </svg>\n",
              "      </button>\n",
              "      \n",
              "  <style>\n",
              "    .colab-df-container {\n",
              "      display:flex;\n",
              "      flex-wrap:wrap;\n",
              "      gap: 12px;\n",
              "    }\n",
              "\n",
              "    .colab-df-convert {\n",
              "      background-color: #E8F0FE;\n",
              "      border: none;\n",
              "      border-radius: 50%;\n",
              "      cursor: pointer;\n",
              "      display: none;\n",
              "      fill: #1967D2;\n",
              "      height: 32px;\n",
              "      padding: 0 0 0 0;\n",
              "      width: 32px;\n",
              "    }\n",
              "\n",
              "    .colab-df-convert:hover {\n",
              "      background-color: #E2EBFA;\n",
              "      box-shadow: 0px 1px 2px rgba(60, 64, 67, 0.3), 0px 1px 3px 1px rgba(60, 64, 67, 0.15);\n",
              "      fill: #174EA6;\n",
              "    }\n",
              "\n",
              "    [theme=dark] .colab-df-convert {\n",
              "      background-color: #3B4455;\n",
              "      fill: #D2E3FC;\n",
              "    }\n",
              "\n",
              "    [theme=dark] .colab-df-convert:hover {\n",
              "      background-color: #434B5C;\n",
              "      box-shadow: 0px 1px 3px 1px rgba(0, 0, 0, 0.15);\n",
              "      filter: drop-shadow(0px 1px 2px rgba(0, 0, 0, 0.3));\n",
              "      fill: #FFFFFF;\n",
              "    }\n",
              "  </style>\n",
              "\n",
              "      <script>\n",
              "        const buttonEl =\n",
              "          document.querySelector('#df-ae927423-905b-42a0-b2e5-c63e2e202846 button.colab-df-convert');\n",
              "        buttonEl.style.display =\n",
              "          google.colab.kernel.accessAllowed ? 'block' : 'none';\n",
              "\n",
              "        async function convertToInteractive(key) {\n",
              "          const element = document.querySelector('#df-ae927423-905b-42a0-b2e5-c63e2e202846');\n",
              "          const dataTable =\n",
              "            await google.colab.kernel.invokeFunction('convertToInteractive',\n",
              "                                                     [key], {});\n",
              "          if (!dataTable) return;\n",
              "\n",
              "          const docLinkHtml = 'Like what you see? Visit the ' +\n",
              "            '<a target=\"_blank\" href=https://colab.research.google.com/notebooks/data_table.ipynb>data table notebook</a>'\n",
              "            + ' to learn more about interactive tables.';\n",
              "          element.innerHTML = '';\n",
              "          dataTable['output_type'] = 'display_data';\n",
              "          await google.colab.output.renderOutput(dataTable, element);\n",
              "          const docLink = document.createElement('div');\n",
              "          docLink.innerHTML = docLinkHtml;\n",
              "          element.appendChild(docLink);\n",
              "        }\n",
              "      </script>\n",
              "    </div>\n",
              "  </div>\n",
              "  "
            ],
            "text/plain": [
              "                              address  year  day  length    weight  count  \\\n",
              "0   111K8kZAEnJg245r2cM6y9zgJGHZtJPy6  2017   11      18  0.008333      1   \n",
              "1  1123pJv8jzeFQaCV4w644pzQJzVWay2zcA  2016  132      44  0.000244      1   \n",
              "2  112536im7hy6wtKbpH1qYDWtTyMRAcA2p7  2016  246       0  1.000000      1   \n",
              "3  1126eDRw2wqSkWosjTCre8cjjQW8sSeWH7  2016  322      72  0.003906      1   \n",
              "4  1129TSjKtx65E35GiUo4AYVeyo48twbrGX  2016  238     144  0.072848    456   \n",
              "\n",
              "   looped  neighbors       income            label  data_gaussian_weight  \\\n",
              "0       0          2  100050000.0  princetonCerber         -2.835961e+00   \n",
              "1       0          1  100000000.0   princetonLocky         -3.581495e+00   \n",
              "2       0          2  200000000.0  princetonCerber          9.999996e-07   \n",
              "3       0          2   71200000.0  princetonCerber         -3.053468e+00   \n",
              "4       0          1  200000000.0   princetonLocky         -1.940392e+00   \n",
              "\n",
              "   data_gaussian_length  data_gaussian_neighbors  data_gaussian_income  \\\n",
              "0              3.546355             5.507895e-01              2.969153   \n",
              "1              4.959223             9.999992e-07              2.969152   \n",
              "2             -6.199172             5.507895e-01              2.970417   \n",
              "3              5.814868             5.507895e-01              2.968415   \n",
              "4              7.121308             9.999992e-07              2.970417   \n",
              "\n",
              "   interaction_income_neighbors  data_day_of_week  \n",
              "0                             2               2.0  \n",
              "1                             2               2.0  \n",
              "2                             1               4.0  \n",
              "3                             2               3.0  \n",
              "4                             1               3.0  "
            ]
          },
          "metadata": {},
          "execution_count": 18
        }
      ]
    },
    {
      "cell_type": "markdown",
      "source": [
        "we have 2 types of columns ones needs to be standerdized and the other needs to be encoded like interaction_income_neighbors/ data_day_of_week"
      ],
      "metadata": {
        "id": "Q1CKo4i0pJB-"
      }
    },
    {
      "cell_type": "markdown",
      "source": [
        "### Scale the data"
      ],
      "metadata": {
        "id": "rfAjfp7u0Vv_"
      }
    },
    {
      "cell_type": "code",
      "source": [
        "data.columns"
      ],
      "metadata": {
        "id": "23lGK9P00YI_",
        "colab": {
          "base_uri": "https://localhost:8080/"
        },
        "outputId": "03281758-4f21-42ae-b304-276c8e2434f1"
      },
      "execution_count": null,
      "outputs": [
        {
          "output_type": "execute_result",
          "data": {
            "text/plain": [
              "Index(['address', 'year', 'day', 'length', 'weight', 'count', 'looped',\n",
              "       'neighbors', 'income', 'label', 'data_gaussian_weight',\n",
              "       'data_gaussian_length', 'data_gaussian_neighbors',\n",
              "       'data_gaussian_income', 'interaction_income_neighbors',\n",
              "       'data_day_of_week'],\n",
              "      dtype='object')"
            ]
          },
          "metadata": {},
          "execution_count": 19
        }
      ]
    },
    {
      "cell_type": "code",
      "source": [
        "col_names_standardize = [\n",
        "    'year', 'day', 'length', 'weight', 'count', 'looped',\n",
        "    'neighbors', 'income', 'data_gaussian_weight',\n",
        "    'data_gaussian_length', 'data_gaussian_neighbors',\n",
        "    'data_gaussian_income']\n",
        "col_names_Encode = [\n",
        "       'interaction_income_neighbors',\n",
        "       'data_day_of_week']\n",
        "\n",
        "\n",
        "transformer = ColumnTransformer([\n",
        "    ('standardize', StandardScaler(), col_names_standardize),\n",
        "    ('encode', OneHotEncoder(), col_names_Encode)])\n",
        "\n",
        "transformer.fit(data)\n",
        "Data_scaled_Transformed = transformer.transform(data)"
      ],
      "metadata": {
        "id": "oGqf0brxo2He"
      },
      "execution_count": 19,
      "outputs": []
    },
    {
      "cell_type": "code",
      "source": [
        "pd.DataFrame(Data_scaled_Transformed).head()"
      ],
      "metadata": {
        "id": "EiQYr4Zp0rq-",
        "colab": {
          "base_uri": "https://localhost:8080/",
          "height": 235
        },
        "outputId": "41b78f14-f2a3-465d-a423-1da399ef6590"
      },
      "execution_count": null,
      "outputs": [
        {
          "output_type": "execute_result",
          "data": {
            "text/html": [
              "\n",
              "  <div id=\"df-4ba4c211-6db9-4ac7-b588-bb1d19c7e6c2\">\n",
              "    <div class=\"colab-df-container\">\n",
              "      <div>\n",
              "<style scoped>\n",
              "    .dataframe tbody tr th:only-of-type {\n",
              "        vertical-align: middle;\n",
              "    }\n",
              "\n",
              "    .dataframe tbody tr th {\n",
              "        vertical-align: top;\n",
              "    }\n",
              "\n",
              "    .dataframe thead th {\n",
              "        text-align: right;\n",
              "    }\n",
              "</style>\n",
              "<table border=\"1\" class=\"dataframe\">\n",
              "  <thead>\n",
              "    <tr style=\"text-align: right;\">\n",
              "      <th></th>\n",
              "      <th>0</th>\n",
              "      <th>1</th>\n",
              "      <th>2</th>\n",
              "      <th>3</th>\n",
              "      <th>4</th>\n",
              "      <th>5</th>\n",
              "      <th>6</th>\n",
              "      <th>7</th>\n",
              "      <th>8</th>\n",
              "      <th>9</th>\n",
              "      <th>...</th>\n",
              "      <th>12</th>\n",
              "      <th>13</th>\n",
              "      <th>14</th>\n",
              "      <th>15</th>\n",
              "      <th>16</th>\n",
              "      <th>17</th>\n",
              "      <th>18</th>\n",
              "      <th>19</th>\n",
              "      <th>20</th>\n",
              "      <th>21</th>\n",
              "    </tr>\n",
              "  </thead>\n",
              "  <tbody>\n",
              "    <tr>\n",
              "      <th>0</th>\n",
              "      <td>1.962683</td>\n",
              "      <td>-0.901961</td>\n",
              "      <td>-0.249168</td>\n",
              "      <td>-0.285864</td>\n",
              "      <td>-0.275940</td>\n",
              "      <td>-0.122618</td>\n",
              "      <td>0.000452</td>\n",
              "      <td>-0.034182</td>\n",
              "      <td>-1.231011</td>\n",
              "      <td>0.479602</td>\n",
              "      <td>...</td>\n",
              "      <td>0.0</td>\n",
              "      <td>0.0</td>\n",
              "      <td>1.0</td>\n",
              "      <td>0.0</td>\n",
              "      <td>0.0</td>\n",
              "      <td>1.0</td>\n",
              "      <td>0.0</td>\n",
              "      <td>0.0</td>\n",
              "      <td>0.0</td>\n",
              "      <td>0.0</td>\n",
              "    </tr>\n",
              "    <tr>\n",
              "      <th>1</th>\n",
              "      <td>1.496111</td>\n",
              "      <td>0.351969</td>\n",
              "      <td>0.320771</td>\n",
              "      <td>-0.290108</td>\n",
              "      <td>-0.275940</td>\n",
              "      <td>-0.122618</td>\n",
              "      <td>-0.465119</td>\n",
              "      <td>-0.034182</td>\n",
              "      <td>-1.777391</td>\n",
              "      <td>0.820886</td>\n",
              "      <td>...</td>\n",
              "      <td>0.0</td>\n",
              "      <td>0.0</td>\n",
              "      <td>1.0</td>\n",
              "      <td>0.0</td>\n",
              "      <td>0.0</td>\n",
              "      <td>1.0</td>\n",
              "      <td>0.0</td>\n",
              "      <td>0.0</td>\n",
              "      <td>0.0</td>\n",
              "      <td>0.0</td>\n",
              "    </tr>\n",
              "    <tr>\n",
              "      <th>2</th>\n",
              "      <td>1.496111</td>\n",
              "      <td>1.533358</td>\n",
              "      <td>-0.643741</td>\n",
              "      <td>0.234386</td>\n",
              "      <td>-0.275940</td>\n",
              "      <td>-0.122618</td>\n",
              "      <td>0.000452</td>\n",
              "      <td>-0.033620</td>\n",
              "      <td>0.932820</td>\n",
              "      <td>-1.648383</td>\n",
              "      <td>...</td>\n",
              "      <td>0.0</td>\n",
              "      <td>0.0</td>\n",
              "      <td>1.0</td>\n",
              "      <td>0.0</td>\n",
              "      <td>0.0</td>\n",
              "      <td>0.0</td>\n",
              "      <td>0.0</td>\n",
              "      <td>1.0</td>\n",
              "      <td>0.0</td>\n",
              "      <td>0.0</td>\n",
              "    </tr>\n",
              "    <tr>\n",
              "      <th>3</th>\n",
              "      <td>1.496111</td>\n",
              "      <td>2.320950</td>\n",
              "      <td>0.934551</td>\n",
              "      <td>-0.288186</td>\n",
              "      <td>-0.275940</td>\n",
              "      <td>-0.122618</td>\n",
              "      <td>0.000452</td>\n",
              "      <td>-0.034344</td>\n",
              "      <td>-1.392107</td>\n",
              "      <td>1.030094</td>\n",
              "      <td>...</td>\n",
              "      <td>0.0</td>\n",
              "      <td>0.0</td>\n",
              "      <td>1.0</td>\n",
              "      <td>0.0</td>\n",
              "      <td>0.0</td>\n",
              "      <td>0.0</td>\n",
              "      <td>1.0</td>\n",
              "      <td>0.0</td>\n",
              "      <td>0.0</td>\n",
              "      <td>0.0</td>\n",
              "    </tr>\n",
              "    <tr>\n",
              "      <th>4</th>\n",
              "      <td>1.496111</td>\n",
              "      <td>1.450453</td>\n",
              "      <td>2.512843</td>\n",
              "      <td>-0.252018</td>\n",
              "      <td>0.174386</td>\n",
              "      <td>-0.122618</td>\n",
              "      <td>-0.465119</td>\n",
              "      <td>-0.033620</td>\n",
              "      <td>-0.558169</td>\n",
              "      <td>1.352903</td>\n",
              "      <td>...</td>\n",
              "      <td>0.0</td>\n",
              "      <td>0.0</td>\n",
              "      <td>1.0</td>\n",
              "      <td>0.0</td>\n",
              "      <td>0.0</td>\n",
              "      <td>0.0</td>\n",
              "      <td>1.0</td>\n",
              "      <td>0.0</td>\n",
              "      <td>0.0</td>\n",
              "      <td>0.0</td>\n",
              "    </tr>\n",
              "  </tbody>\n",
              "</table>\n",
              "<p>5 rows × 22 columns</p>\n",
              "</div>\n",
              "      <button class=\"colab-df-convert\" onclick=\"convertToInteractive('df-4ba4c211-6db9-4ac7-b588-bb1d19c7e6c2')\"\n",
              "              title=\"Convert this dataframe to an interactive table.\"\n",
              "              style=\"display:none;\">\n",
              "        \n",
              "  <svg xmlns=\"http://www.w3.org/2000/svg\" height=\"24px\"viewBox=\"0 0 24 24\"\n",
              "       width=\"24px\">\n",
              "    <path d=\"M0 0h24v24H0V0z\" fill=\"none\"/>\n",
              "    <path d=\"M18.56 5.44l.94 2.06.94-2.06 2.06-.94-2.06-.94-.94-2.06-.94 2.06-2.06.94zm-11 1L8.5 8.5l.94-2.06 2.06-.94-2.06-.94L8.5 2.5l-.94 2.06-2.06.94zm10 10l.94 2.06.94-2.06 2.06-.94-2.06-.94-.94-2.06-.94 2.06-2.06.94z\"/><path d=\"M17.41 7.96l-1.37-1.37c-.4-.4-.92-.59-1.43-.59-.52 0-1.04.2-1.43.59L10.3 9.45l-7.72 7.72c-.78.78-.78 2.05 0 2.83L4 21.41c.39.39.9.59 1.41.59.51 0 1.02-.2 1.41-.59l7.78-7.78 2.81-2.81c.8-.78.8-2.07 0-2.86zM5.41 20L4 18.59l7.72-7.72 1.47 1.35L5.41 20z\"/>\n",
              "  </svg>\n",
              "      </button>\n",
              "      \n",
              "  <style>\n",
              "    .colab-df-container {\n",
              "      display:flex;\n",
              "      flex-wrap:wrap;\n",
              "      gap: 12px;\n",
              "    }\n",
              "\n",
              "    .colab-df-convert {\n",
              "      background-color: #E8F0FE;\n",
              "      border: none;\n",
              "      border-radius: 50%;\n",
              "      cursor: pointer;\n",
              "      display: none;\n",
              "      fill: #1967D2;\n",
              "      height: 32px;\n",
              "      padding: 0 0 0 0;\n",
              "      width: 32px;\n",
              "    }\n",
              "\n",
              "    .colab-df-convert:hover {\n",
              "      background-color: #E2EBFA;\n",
              "      box-shadow: 0px 1px 2px rgba(60, 64, 67, 0.3), 0px 1px 3px 1px rgba(60, 64, 67, 0.15);\n",
              "      fill: #174EA6;\n",
              "    }\n",
              "\n",
              "    [theme=dark] .colab-df-convert {\n",
              "      background-color: #3B4455;\n",
              "      fill: #D2E3FC;\n",
              "    }\n",
              "\n",
              "    [theme=dark] .colab-df-convert:hover {\n",
              "      background-color: #434B5C;\n",
              "      box-shadow: 0px 1px 3px 1px rgba(0, 0, 0, 0.15);\n",
              "      filter: drop-shadow(0px 1px 2px rgba(0, 0, 0, 0.3));\n",
              "      fill: #FFFFFF;\n",
              "    }\n",
              "  </style>\n",
              "\n",
              "      <script>\n",
              "        const buttonEl =\n",
              "          document.querySelector('#df-4ba4c211-6db9-4ac7-b588-bb1d19c7e6c2 button.colab-df-convert');\n",
              "        buttonEl.style.display =\n",
              "          google.colab.kernel.accessAllowed ? 'block' : 'none';\n",
              "\n",
              "        async function convertToInteractive(key) {\n",
              "          const element = document.querySelector('#df-4ba4c211-6db9-4ac7-b588-bb1d19c7e6c2');\n",
              "          const dataTable =\n",
              "            await google.colab.kernel.invokeFunction('convertToInteractive',\n",
              "                                                     [key], {});\n",
              "          if (!dataTable) return;\n",
              "\n",
              "          const docLinkHtml = 'Like what you see? Visit the ' +\n",
              "            '<a target=\"_blank\" href=https://colab.research.google.com/notebooks/data_table.ipynb>data table notebook</a>'\n",
              "            + ' to learn more about interactive tables.';\n",
              "          element.innerHTML = '';\n",
              "          dataTable['output_type'] = 'display_data';\n",
              "          await google.colab.output.renderOutput(dataTable, element);\n",
              "          const docLink = document.createElement('div');\n",
              "          docLink.innerHTML = docLinkHtml;\n",
              "          element.appendChild(docLink);\n",
              "        }\n",
              "      </script>\n",
              "    </div>\n",
              "  </div>\n",
              "  "
            ],
            "text/plain": [
              "         0         1         2         3         4         5         6   \\\n",
              "0  1.962683 -0.901961 -0.249168 -0.285864 -0.275940 -0.122618  0.000452   \n",
              "1  1.496111  0.351969  0.320771 -0.290108 -0.275940 -0.122618 -0.465119   \n",
              "2  1.496111  1.533358 -0.643741  0.234386 -0.275940 -0.122618  0.000452   \n",
              "3  1.496111  2.320950  0.934551 -0.288186 -0.275940 -0.122618  0.000452   \n",
              "4  1.496111  1.450453  2.512843 -0.252018  0.174386 -0.122618 -0.465119   \n",
              "\n",
              "         7         8         9   ...   12   13   14   15   16   17   18   19  \\\n",
              "0 -0.034182 -1.231011  0.479602  ...  0.0  0.0  1.0  0.0  0.0  1.0  0.0  0.0   \n",
              "1 -0.034182 -1.777391  0.820886  ...  0.0  0.0  1.0  0.0  0.0  1.0  0.0  0.0   \n",
              "2 -0.033620  0.932820 -1.648383  ...  0.0  0.0  1.0  0.0  0.0  0.0  0.0  1.0   \n",
              "3 -0.034344 -1.392107  1.030094  ...  0.0  0.0  1.0  0.0  0.0  0.0  1.0  0.0   \n",
              "4 -0.033620 -0.558169  1.352903  ...  0.0  0.0  1.0  0.0  0.0  0.0  1.0  0.0   \n",
              "\n",
              "    20   21  \n",
              "0  0.0  0.0  \n",
              "1  0.0  0.0  \n",
              "2  0.0  0.0  \n",
              "3  0.0  0.0  \n",
              "4  0.0  0.0  \n",
              "\n",
              "[5 rows x 22 columns]"
            ]
          },
          "metadata": {},
          "execution_count": 21
        }
      ]
    },
    {
      "cell_type": "markdown",
      "source": [
        "Feature indicates what year the transaction had taken place in.\n",
        "\n",
        "Now let us look at its distribution and how it affects the target variable."
      ],
      "metadata": {
        "id": "ht8kdvWm-R9V"
      }
    },
    {
      "cell_type": "markdown",
      "source": [
        "## Day"
      ],
      "metadata": {
        "id": "DGsivjxADzCu"
      }
    },
    {
      "cell_type": "code",
      "source": [
        "#Displaying histogram of year feature\n",
        "plt.figure(figsize=(16, 8))\n",
        "\n",
        "plt.subplot(121)\n",
        "data['year'].plot(kind = 'hist', bins=15)\n",
        "plt.xlabel('year')\n",
        "plt.title('Distribution of year')\n",
        "\n",
        "plt.subplot(122)\n",
        "#displaying pie-chart\n",
        "data['year'].value_counts().plot(kind='pie')\n",
        "plt.axis('equal')\n",
        "plt.title('Years in whole training set')\n",
        "plt.show()\n"
      ],
      "metadata": {
        "id": "LbU-Ka0D1Xix",
        "colab": {
          "base_uri": "https://localhost:8080/",
          "height": 513
        },
        "outputId": "e3f3da0e-6203-49fd-bb4f-96c70c52000d"
      },
      "execution_count": 20,
      "outputs": [
        {
          "output_type": "display_data",
          "data": {
            "image/png": "[encoded data removed]",
            "text/plain": [
              "<Figure size 1152x576 with 2 Axes>"
            ]
          },
          "metadata": {
            "needs_background": "light"
          }
        }
      ]
    },
    {
      "cell_type": "markdown",
      "source": [
        "we can see that the years are not distributed uniformly the majority are present in early years from 2011-2013"
      ],
      "metadata": {
        "id": "hanFnDm7_Jr5"
      }
    },
    {
      "cell_type": "code",
      "source": [
        "# Splitting data two white and ransomware in order to have a general view on the distribution of the features\n",
        "Ransomware = data[data['label']!= \"white\"]\n",
        "clean = data[data['label']==\"white\"]"
      ],
      "metadata": {
        "id": "iwhE4Dv4DW1s"
      },
      "execution_count": null,
      "outputs": []
    },
    {
      "cell_type": "code",
      "source": [
        "#checking to see if the year in which the transaction has been made has any correlation with the transaction\n",
        "\n",
        "clean['year'].plot(kind = 'hist', bins=15, label='White')\n",
        "Ransomware['year'].plot(kind = 'hist', bins=15, label='Ransomware')\n",
        "plt.xlabel('year')\n",
        "plt.title('PDF of white and ransomware transactions [Year]')\n",
        "plt.xlabel('Year')\n",
        "plt.legend()\n",
        "plt.show()"
      ],
      "metadata": {
        "id": "3m9Q6AEk-Wym",
        "colab": {
          "base_uri": "https://localhost:8080/",
          "height": 295
        },
        "outputId": "c90e7cf4-01b0-48a1-c6b4-a4e9838a4ef0"
      },
      "execution_count": null,
      "outputs": [
        {
          "output_type": "display_data",
          "data": {
            "image/png": "[encoded data removed]",
            "text/plain": [
              "<Figure size 432x288 with 1 Axes>"
            ]
          },
          "metadata": {
            "needs_background": "light"
          }
        }
      ]
    },
    {
      "cell_type": "markdown",
      "source": [
        "Transactions made in 2011 and 2012 are far more likely to be white rather than ransomware and for the rest the majority is ransomware"
      ],
      "metadata": {
        "id": "B5cG80pFDlJc"
      }
    },
    {
      "cell_type": "markdown",
      "source": [
        "## Day\n",
        "\n",
        "**The day number of the year in which the transaction took place is shown by this feature.**\n",
        "\n",
        "**Now consider its distribution and how it influences the target variable.**"
      ],
      "metadata": {
        "id": "7K58-H-ND4au"
      }
    },
    {
      "cell_type": "code",
      "source": [
        "#plotting pdfs of white and ransomware\n",
        "\n",
        "sns.distplot(clean['day'], label = 'White')\n",
        "sns.distplot(Ransomware['day'], label = 'Ransomware')\n",
        "plt.legend()\n",
        "plt.title('PDF of white and ransomware transactions [Day]')\n",
        "plt.show()"
      ],
      "metadata": {
        "id": "cKhQlYwTCP_9",
        "colab": {
          "base_uri": "https://localhost:8080/",
          "height": 295
        },
        "outputId": "99ee479d-6451-445c-df80-bca4e76bf0cb"
      },
      "execution_count": null,
      "outputs": [
        {
          "output_type": "display_data",
          "data": {
            "image/png": "[encoded data removed]",
            "text/plain": [
              "<Figure size 432x288 with 1 Axes>"
            ]
          },
          "metadata": {
            "needs_background": "light"
          }
        }
      ]
    },
    {
      "cell_type": "markdown",
      "source": [
        "On certain days, the two roles appear to be separable. On day 95, for example, ransomeware transactions are considerably more probable than white transactions.\n",
        "it is the same for the days around 150 and 300."
      ],
      "metadata": {
        "id": "iuFnwRFKM2m1"
      }
    },
    {
      "cell_type": "markdown",
      "source": [
        "### Length\n",
        "\n",
        "The mixing rounds on Bitcoin are when transactions receive and distribute comparable sums of bitcoin in numerous rounds using freshly established addresses in order to conceal the coin's origin.\n",
        "Now consider its distribution and how it influences the target variable."
      ],
      "metadata": {
        "id": "pvb88H0oQzQA"
      }
    },
    {
      "cell_type": "code",
      "source": [
        "#plotting pdfs of white and ransomware\n",
        "\n",
        "sns.distplot(clean['length'], label = 'White')\n",
        "sns.distplot(Ransomware['length'], label = 'Ransomware')\n",
        "plt.legend()\n",
        "plt.title('PDF of white and ransomware transactions [Length]')\n",
        "plt.show()"
      ],
      "metadata": {
        "id": "ML1HwFcdQ1jp",
        "colab": {
          "base_uri": "https://localhost:8080/",
          "height": 295
        },
        "outputId": "46d80dd2-9d3d-4e79-98d5-2d1bea3a476a"
      },
      "execution_count": null,
      "outputs": [
        {
          "output_type": "display_data",
          "data": {
            "image/png": "[encoded data removed]",
            "text/plain": [
              "<Figure size 432x288 with 1 Axes>"
            ]
          },
          "metadata": {
            "needs_background": "light"
          }
        }
      ]
    },
    {
      "cell_type": "markdown",
      "source": [
        "we can see here that the distribtion of both the White and Ransomware data are indistinguishable so we can not separate well the target using only the Length feature. "
      ],
      "metadata": {
        "id": "ZnyLkCUVRj5O"
      }
    },
    {
      "cell_type": "markdown",
      "source": [
        "### Neighbors\n",
        "\n",
        "The number of neighbors a transaction had is shown by this feature.\n",
        "Now consider its distribution and how it influences the target variable.\n"
      ],
      "metadata": {
        "id": "lmcVGGa5R53i"
      }
    },
    {
      "cell_type": "code",
      "source": [
        "plt.figure(figsize=(15, 7))\n",
        "\n",
        "#plotting piechart of negative class\n",
        "plt.subplot(121)\n",
        "clean.neighbors.value_counts().plot(kind='pie')\n",
        "plt.axis('equal')\n",
        "plt.title('Negative class')\n",
        "plt.plot()\n",
        "\n",
        "\n",
        "plt.subplot(122)\n",
        "Ransomware.neighbors.value_counts().plot(kind='pie')\n",
        "plt.axis('equal')\n",
        "plt.title('Positive class')\n",
        "plt.plot()"
      ],
      "metadata": {
        "id": "f0n_CYZVRD03",
        "colab": {
          "base_uri": "https://localhost:8080/",
          "height": 445
        },
        "outputId": "28f1c96a-5143-48f5-bc2a-0d521ea768c7"
      },
      "execution_count": null,
      "outputs": [
        {
          "output_type": "execute_result",
          "data": {
            "text/plain": [
              "[]"
            ]
          },
          "metadata": {},
          "execution_count": 27
        },
        {
          "output_type": "display_data",
          "data": {
            "image/png": "[encoded data removed]",
            "text/plain": [
              "<Figure size 1080x504 with 2 Axes>"
            ]
          },
          "metadata": {}
        }
      ]
    },
    {
      "cell_type": "markdown",
      "source": [
        "it is clear from the pies that the ransomeware and clean datasets follow different distributions on the neighbors features"
      ],
      "metadata": {
        "id": "jAkT_RHhU-SK"
      }
    },
    {
      "cell_type": "markdown",
      "source": [
        "### Day of the week\n"
      ],
      "metadata": {
        "id": "vFRClDpIVtIA"
      }
    },
    {
      "cell_type": "code",
      "source": [
        "#Displaying histogram of day_of_week feature\n",
        "\n",
        "clean['data_day_of_week'].plot(kind = 'hist', bins=13, label='White')\n",
        "Ransomware['data_day_of_week'].plot(kind = 'hist', bins=13, label='Ransomware')\n",
        "plt.xlabel('data_day_of_week')\n",
        "plt.title('Distribution of day_of_week')\n",
        "plt.xlabel('Days')\n",
        "plt.legend()\n",
        "plt.show()"
      ],
      "metadata": {
        "id": "dRejHBV4UH3-",
        "colab": {
          "base_uri": "https://localhost:8080/",
          "height": 295
        },
        "outputId": "4fc04a3f-2dd6-43cc-8dba-4f53a8f442b9"
      },
      "execution_count": null,
      "outputs": [
        {
          "output_type": "display_data",
          "data": {
            "image/png": "[encoded data removed]",
            "text/plain": [
              "<Figure size 432x288 with 1 Axes>"
            ]
          },
          "metadata": {
            "needs_background": "light"
          }
        }
      ]
    },
    {
      "cell_type": "markdown",
      "source": [
        "From the data available we can deduce that the Ransomeware activity is the lowest on the Sundays but on the other days it is still present with the same rate across all the week"
      ],
      "metadata": {
        "id": "hvySRglyWNPf"
      }
    },
    {
      "cell_type": "markdown",
      "source": [
        "## Gaussian income"
      ],
      "metadata": {
        "id": "pvrzAEtlWq9t"
      }
    },
    {
      "cell_type": "code",
      "source": [
        "sns.distplot(clean['data_gaussian_income'], label = 'White')\n",
        "sns.distplot(Ransomware['data_gaussian_income'], label = 'Ransomware')\n",
        "plt.legend()\n",
        "plt.title('PDF of white and ransomware transactions [gaussian_income]')\n",
        "plt.show()"
      ],
      "metadata": {
        "id": "l0A7yD8yWo0l",
        "colab": {
          "base_uri": "https://localhost:8080/",
          "height": 295
        },
        "outputId": "2d302347-1e20-4b35-eccc-b658c1e99052"
      },
      "execution_count": null,
      "outputs": [
        {
          "output_type": "display_data",
          "data": {
            "image/png": "[encoded data removed]",
            "text/plain": [
              "<Figure size 432x288 with 1 Axes>"
            ]
          },
          "metadata": {
            "needs_background": "light"
          }
        }
      ]
    },
    {
      "cell_type": "markdown",
      "source": [
        "There is a significant difference between the two distributions. so this will be a huge plus in our modelling especially when starting from 7.8"
      ],
      "metadata": {
        "id": "tWwqunntYF-j"
      }
    },
    {
      "cell_type": "code",
      "source": [
        "clean.columns"
      ],
      "metadata": {
        "id": "WLvk6tCTYAHr",
        "colab": {
          "base_uri": "https://localhost:8080/"
        },
        "outputId": "f7b86ce5-41f5-415c-b7a6-fe2b24625732"
      },
      "execution_count": null,
      "outputs": [
        {
          "output_type": "execute_result",
          "data": {
            "text/plain": [
              "Index(['address', 'year', 'day', 'length', 'weight', 'count', 'looped',\n",
              "       'neighbors', 'income', 'label', 'data_gaussian_weight',\n",
              "       'data_gaussian_length', 'data_gaussian_neighbors',\n",
              "       'data_gaussian_income', 'interaction_income_neighbors',\n",
              "       'data_day_of_week'],\n",
              "      dtype='object')"
            ]
          },
          "metadata": {},
          "execution_count": 30
        }
      ]
    },
    {
      "cell_type": "markdown",
      "source": [
        "## Interaction: income and neighbors\n",
        "\n",
        "The feature was created by combining and applying transformation functions to income and neighbors. Let's have a look at how it impacts our main variable."
      ],
      "metadata": {
        "id": "-uqidq6uYyEC"
      }
    },
    {
      "cell_type": "code",
      "source": [
        "sns.distplot(clean['interaction_income_neighbors'], label = 'White')\n",
        "sns.distplot(Ransomware['interaction_income_neighbors'], label = 'Ransomware')\n",
        "plt.legend()\n",
        "plt.title('PDF of white and ransomware transactions [gaussian_income]')\n",
        "plt.show()"
      ],
      "metadata": {
        "id": "5EZiVHXVYW9T",
        "colab": {
          "base_uri": "https://localhost:8080/",
          "height": 295
        },
        "outputId": "a7bead57-507b-48d1-8356-70ba22dccbbf"
      },
      "execution_count": null,
      "outputs": [
        {
          "output_type": "display_data",
          "data": {
            "image/png": "[encoded data removed]",
            "text/plain": [
              "<Figure size 432x288 with 1 Axes>"
            ]
          },
          "metadata": {
            "needs_background": "light"
          }
        }
      ]
    },
    {
      "cell_type": "code",
      "source": [
        "#displaying pie-chart\n",
        "\n",
        "data['interaction_income_neighbors'].value_counts().plot(kind='pie')\n",
        "plt.axis('equal')\n",
        "plt.title('interaction_income_neighbors')\n",
        "plt.show()"
      ],
      "metadata": {
        "id": "nCa5jX48Ya7M",
        "colab": {
          "base_uri": "https://localhost:8080/",
          "height": 265
        },
        "outputId": "16583d9a-b963-48da-85e5-4e348e52d39d"
      },
      "execution_count": null,
      "outputs": [
        {
          "output_type": "display_data",
          "data": {
            "image/png": "[encoded data removed]",
            "text/plain": [
              "<Figure size 432x288 with 1 Axes>"
            ]
          },
          "metadata": {}
        }
      ]
    },
    {
      "cell_type": "code",
      "source": [
        "clean['interaction_income_neighbors'].plot(kind = 'hist', bins=5, label='White')\n",
        "Ransomware['interaction_income_neighbors'].plot(kind = 'hist', bins=5, label='Ransomware')\n",
        "plt.xlabel('interaction_income_neighbors')\n",
        "plt.title('Distribution of interaction_income_neighbors')\n",
        "plt.xlabel('Interaction feature between income and neighbors')\n",
        "plt.xticks([0, 1, 2])\n",
        "plt.legend()\n",
        "plt.show()"
      ],
      "metadata": {
        "id": "nsdPEVPGZBWh",
        "colab": {
          "base_uri": "https://localhost:8080/",
          "height": 295
        },
        "outputId": "956cc449-e275-4df0-b29d-c271f39f45fa"
      },
      "execution_count": null,
      "outputs": [
        {
          "output_type": "display_data",
          "data": {
            "image/png": "[encoded data removed]",
            "text/plain": [
              "<Figure size 432x288 with 1 Axes>"
            ]
          },
          "metadata": {
            "needs_background": "light"
          }
        }
      ]
    },
    {
      "cell_type": "markdown",
      "source": [
        "Transactions with this feature being equal to 0 and 1 is significanly more probable to be white than ransomware"
      ],
      "metadata": {
        "id": "DYu-nOuyZPdi"
      }
    },
    {
      "cell_type": "markdown",
      "source": [
        "# Multi-variate Analysis\n",
        "\n"
      ],
      "metadata": {
        "id": "808nsRhUZdFL"
      }
    },
    {
      "cell_type": "markdown",
      "source": [
        "## Correlations\n",
        "A measure of the strength of a linear link between two quantitative variables is called correlation (e.g., height, weight)."
      ],
      "metadata": {
        "id": "V1TMbLZUaAj6"
      }
    },
    {
      "cell_type": "code",
      "source": [
        "#plotting correlation map\n",
        "# +1 and -1 mean fully-correlated features\n",
        "\n",
        "corr = data.corr()\n",
        "plt.figure(figsize=(14, 14))\n",
        "ax = sns.heatmap(\n",
        "    corr, \n",
        "    vmin=-1, vmax=1, center=0,\n",
        "    cmap=sns.diverging_palette(20, 220, n=200),\n",
        "    square=True\n",
        ")\n",
        "ax.set_xticklabels(\n",
        "    ax.get_xticklabels(),\n",
        "    rotation=45,\n",
        "    horizontalalignment='right'\n",
        ");"
      ],
      "metadata": {
        "id": "zJastH3DYp5n",
        "colab": {
          "base_uri": "https://localhost:8080/",
          "height": 849
        },
        "outputId": "ce424e7e-8091-4b54-9561-65874aa0298b"
      },
      "execution_count": null,
      "outputs": [
        {
          "output_type": "display_data",
          "data": {
            "image/png": "[encoded data removed]",
            "text/plain": [
              "<Figure size 1008x1008 with 2 Axes>"
            ]
          },
          "metadata": {
            "needs_background": "light"
          }
        }
      ]
    },
    {
      "cell_type": "markdown",
      "source": [
        "# Modelling"
      ],
      "metadata": {
        "id": "DxZFSG_5rtQ_"
      }
    },
    {
      "cell_type": "markdown",
      "source": [
        "## Metrics\n",
        "\n",
        "# Key Performance Indicator : **Recall**\n",
        "\n",
        "Recall shows us what proportion of the data points in the data set are actually positive that we projected to be positive.\n",
        "Why?\n",
        "\n",
        "We aim to accurately categorize as many positive data points (ransomware transactions) as feasible, even if this implies incorrectly classifying a few white transactions as well. A domain expert can verify our findings and eliminate false positives. We want as much recall as possible.\n",
        "\n",
        "\n",
        "Other metrics:\n",
        "\n",
        "**Log-loss**: A loss function that has no specific range. Lower is better.\n",
        "\n",
        "\n",
        "**Precision**: Tells us what percentage of data-points that we classified as positive, are infact positive. Higher is better.\n",
        "\n",
        "**ROCAUC**: Uses True Positive Rate and False Positive Rate to get area under the curve. Higher is better.\n",
        "\n",
        "**F1-Score**: Harmonic mean of precision and recall. Higher is better.\n",
        "\n",
        "**Accuracy**: Tells us how accurate our predictions are. Higher is better"
      ],
      "metadata": {
        "id": "OtLCKkv5rhv8"
      }
    },
    {
      "cell_type": "code",
      "source": [
        "data.head()"
      ],
      "metadata": {
        "colab": {
          "base_uri": "https://localhost:8080/",
          "height": 207
        },
        "id": "Bn_cozhHZv9Y",
        "outputId": "04c33226-cfdb-4cda-db95-9ead2470958e"
      },
      "execution_count": null,
      "outputs": [
        {
          "output_type": "execute_result",
          "data": {
            "text/html": [
              "\n",
              "  <div id=\"df-c3590f2a-211f-4d7b-a043-54d551d2c452\">\n",
              "    <div class=\"colab-df-container\">\n",
              "      <div>\n",
              "<style scoped>\n",
              "    .dataframe tbody tr th:only-of-type {\n",
              "        vertical-align: middle;\n",
              "    }\n",
              "\n",
              "    .dataframe tbody tr th {\n",
              "        vertical-align: top;\n",
              "    }\n",
              "\n",
              "    .dataframe thead th {\n",
              "        text-align: right;\n",
              "    }\n",
              "</style>\n",
              "<table border=\"1\" class=\"dataframe\">\n",
              "  <thead>\n",
              "    <tr style=\"text-align: right;\">\n",
              "      <th></th>\n",
              "      <th>address</th>\n",
              "      <th>year</th>\n",
              "      <th>day</th>\n",
              "      <th>length</th>\n",
              "      <th>weight</th>\n",
              "      <th>count</th>\n",
              "      <th>looped</th>\n",
              "      <th>neighbors</th>\n",
              "      <th>income</th>\n",
              "      <th>label</th>\n",
              "      <th>data_gaussian_weight</th>\n",
              "      <th>data_gaussian_length</th>\n",
              "      <th>data_gaussian_neighbors</th>\n",
              "      <th>data_gaussian_income</th>\n",
              "      <th>interaction_income_neighbors</th>\n",
              "      <th>data_day_of_week</th>\n",
              "    </tr>\n",
              "  </thead>\n",
              "  <tbody>\n",
              "    <tr>\n",
              "      <th>0</th>\n",
              "      <td>111K8kZAEnJg245r2cM6y9zgJGHZtJPy6</td>\n",
              "      <td>2017</td>\n",
              "      <td>11</td>\n",
              "      <td>18</td>\n",
              "      <td>0.008333</td>\n",
              "      <td>1</td>\n",
              "      <td>0</td>\n",
              "      <td>2</td>\n",
              "      <td>100050000.0</td>\n",
              "      <td>princetonCerber</td>\n",
              "      <td>-2.785796e+00</td>\n",
              "      <td>3.644625</td>\n",
              "      <td>5.732651e-01</td>\n",
              "      <td>6.544684</td>\n",
              "      <td>2</td>\n",
              "      <td>2.0</td>\n",
              "    </tr>\n",
              "    <tr>\n",
              "      <th>1</th>\n",
              "      <td>1123pJv8jzeFQaCV4w644pzQJzVWay2zcA</td>\n",
              "      <td>2016</td>\n",
              "      <td>132</td>\n",
              "      <td>44</td>\n",
              "      <td>0.000244</td>\n",
              "      <td>1</td>\n",
              "      <td>0</td>\n",
              "      <td>1</td>\n",
              "      <td>100000000.0</td>\n",
              "      <td>princetonLocky</td>\n",
              "      <td>-3.489227e+00</td>\n",
              "      <td>5.143599</td>\n",
              "      <td>9.999992e-07</td>\n",
              "      <td>6.544647</td>\n",
              "      <td>2</td>\n",
              "      <td>2.0</td>\n",
              "    </tr>\n",
              "    <tr>\n",
              "      <th>2</th>\n",
              "      <td>112536im7hy6wtKbpH1qYDWtTyMRAcA2p7</td>\n",
              "      <td>2016</td>\n",
              "      <td>246</td>\n",
              "      <td>0</td>\n",
              "      <td>1.000000</td>\n",
              "      <td>1</td>\n",
              "      <td>0</td>\n",
              "      <td>2</td>\n",
              "      <td>200000000.0</td>\n",
              "      <td>princetonCerber</td>\n",
              "      <td>9.999996e-07</td>\n",
              "      <td>-5.701817</td>\n",
              "      <td>5.732651e-01</td>\n",
              "      <td>6.593341</td>\n",
              "      <td>2</td>\n",
              "      <td>4.0</td>\n",
              "    </tr>\n",
              "    <tr>\n",
              "      <th>3</th>\n",
              "      <td>1126eDRw2wqSkWosjTCre8cjjQW8sSeWH7</td>\n",
              "      <td>2016</td>\n",
              "      <td>322</td>\n",
              "      <td>72</td>\n",
              "      <td>0.003906</td>\n",
              "      <td>1</td>\n",
              "      <td>0</td>\n",
              "      <td>2</td>\n",
              "      <td>71200000.0</td>\n",
              "      <td>princetonCerber</td>\n",
              "      <td>-2.993198e+00</td>\n",
              "      <td>6.062471</td>\n",
              "      <td>5.732651e-01</td>\n",
              "      <td>6.518982</td>\n",
              "      <td>2</td>\n",
              "      <td>3.0</td>\n",
              "    </tr>\n",
              "    <tr>\n",
              "      <th>4</th>\n",
              "      <td>1129TSjKtx65E35GiUo4AYVeyo48twbrGX</td>\n",
              "      <td>2016</td>\n",
              "      <td>238</td>\n",
              "      <td>144</td>\n",
              "      <td>0.072848</td>\n",
              "      <td>456</td>\n",
              "      <td>0</td>\n",
              "      <td>1</td>\n",
              "      <td>200000000.0</td>\n",
              "      <td>princetonLocky</td>\n",
              "      <td>-1.919555e+00</td>\n",
              "      <td>7.480299</td>\n",
              "      <td>9.999992e-07</td>\n",
              "      <td>6.593341</td>\n",
              "      <td>2</td>\n",
              "      <td>3.0</td>\n",
              "    </tr>\n",
              "  </tbody>\n",
              "</table>\n",
              "</div>\n",
              "      <button class=\"colab-df-convert\" onclick=\"convertToInteractive('df-c3590f2a-211f-4d7b-a043-54d551d2c452')\"\n",
              "              title=\"Convert this dataframe to an interactive table.\"\n",
              "              style=\"display:none;\">\n",
              "        \n",
              "  <svg xmlns=\"http://www.w3.org/2000/svg\" height=\"24px\"viewBox=\"0 0 24 24\"\n",
              "       width=\"24px\">\n",
              "    <path d=\"M0 0h24v24H0V0z\" fill=\"none\"/>\n",
              "    <path d=\"M18.56 5.44l.94 2.06.94-2.06 2.06-.94-2.06-.94-.94-2.06-.94 2.06-2.06.94zm-11 1L8.5 8.5l.94-2.06 2.06-.94-2.06-.94L8.5 2.5l-.94 2.06-2.06.94zm10 10l.94 2.06.94-2.06 2.06-.94-2.06-.94-.94-2.06-.94 2.06-2.06.94z\"/><path d=\"M17.41 7.96l-1.37-1.37c-.4-.4-.92-.59-1.43-.59-.52 0-1.04.2-1.43.59L10.3 9.45l-7.72 7.72c-.78.78-.78 2.05 0 2.83L4 21.41c.39.39.9.59 1.41.59.51 0 1.02-.2 1.41-.59l7.78-7.78 2.81-2.81c.8-.78.8-2.07 0-2.86zM5.41 20L4 18.59l7.72-7.72 1.47 1.35L5.41 20z\"/>\n",
              "  </svg>\n",
              "      </button>\n",
              "      \n",
              "  <style>\n",
              "    .colab-df-container {\n",
              "      display:flex;\n",
              "      flex-wrap:wrap;\n",
              "      gap: 12px;\n",
              "    }\n",
              "\n",
              "    .colab-df-convert {\n",
              "      background-color: #E8F0FE;\n",
              "      border: none;\n",
              "      border-radius: 50%;\n",
              "      cursor: pointer;\n",
              "      display: none;\n",
              "      fill: #1967D2;\n",
              "      height: 32px;\n",
              "      padding: 0 0 0 0;\n",
              "      width: 32px;\n",
              "    }\n",
              "\n",
              "    .colab-df-convert:hover {\n",
              "      background-color: #E2EBFA;\n",
              "      box-shadow: 0px 1px 2px rgba(60, 64, 67, 0.3), 0px 1px 3px 1px rgba(60, 64, 67, 0.15);\n",
              "      fill: #174EA6;\n",
              "    }\n",
              "\n",
              "    [theme=dark] .colab-df-convert {\n",
              "      background-color: #3B4455;\n",
              "      fill: #D2E3FC;\n",
              "    }\n",
              "\n",
              "    [theme=dark] .colab-df-convert:hover {\n",
              "      background-color: #434B5C;\n",
              "      box-shadow: 0px 1px 3px 1px rgba(0, 0, 0, 0.15);\n",
              "      filter: drop-shadow(0px 1px 2px rgba(0, 0, 0, 0.3));\n",
              "      fill: #FFFFFF;\n",
              "    }\n",
              "  </style>\n",
              "\n",
              "      <script>\n",
              "        const buttonEl =\n",
              "          document.querySelector('#df-c3590f2a-211f-4d7b-a043-54d551d2c452 button.colab-df-convert');\n",
              "        buttonEl.style.display =\n",
              "          google.colab.kernel.accessAllowed ? 'block' : 'none';\n",
              "\n",
              "        async function convertToInteractive(key) {\n",
              "          const element = document.querySelector('#df-c3590f2a-211f-4d7b-a043-54d551d2c452');\n",
              "          const dataTable =\n",
              "            await google.colab.kernel.invokeFunction('convertToInteractive',\n",
              "                                                     [key], {});\n",
              "          if (!dataTable) return;\n",
              "\n",
              "          const docLinkHtml = 'Like what you see? Visit the ' +\n",
              "            '<a target=\"_blank\" href=https://colab.research.google.com/notebooks/data_table.ipynb>data table notebook</a>'\n",
              "            + ' to learn more about interactive tables.';\n",
              "          element.innerHTML = '';\n",
              "          dataTable['output_type'] = 'display_data';\n",
              "          await google.colab.output.renderOutput(dataTable, element);\n",
              "          const docLink = document.createElement('div');\n",
              "          docLink.innerHTML = docLinkHtml;\n",
              "          element.appendChild(docLink);\n",
              "        }\n",
              "      </script>\n",
              "    </div>\n",
              "  </div>\n",
              "  "
            ],
            "text/plain": [
              "                              address  year  day  length    weight  count  \\\n",
              "0   111K8kZAEnJg245r2cM6y9zgJGHZtJPy6  2017   11      18  0.008333      1   \n",
              "1  1123pJv8jzeFQaCV4w644pzQJzVWay2zcA  2016  132      44  0.000244      1   \n",
              "2  112536im7hy6wtKbpH1qYDWtTyMRAcA2p7  2016  246       0  1.000000      1   \n",
              "3  1126eDRw2wqSkWosjTCre8cjjQW8sSeWH7  2016  322      72  0.003906      1   \n",
              "4  1129TSjKtx65E35GiUo4AYVeyo48twbrGX  2016  238     144  0.072848    456   \n",
              "\n",
              "   looped  neighbors       income            label  data_gaussian_weight  \\\n",
              "0       0          2  100050000.0  princetonCerber         -2.785796e+00   \n",
              "1       0          1  100000000.0   princetonLocky         -3.489227e+00   \n",
              "2       0          2  200000000.0  princetonCerber          9.999996e-07   \n",
              "3       0          2   71200000.0  princetonCerber         -2.993198e+00   \n",
              "4       0          1  200000000.0   princetonLocky         -1.919555e+00   \n",
              "\n",
              "   data_gaussian_length  data_gaussian_neighbors  data_gaussian_income  \\\n",
              "0              3.644625             5.732651e-01              6.544684   \n",
              "1              5.143599             9.999992e-07              6.544647   \n",
              "2             -5.701817             5.732651e-01              6.593341   \n",
              "3              6.062471             5.732651e-01              6.518982   \n",
              "4              7.480299             9.999992e-07              6.593341   \n",
              "\n",
              "   interaction_income_neighbors  data_day_of_week  \n",
              "0                             2               2.0  \n",
              "1                             2               2.0  \n",
              "2                             2               4.0  \n",
              "3                             2               3.0  \n",
              "4                             2               3.0  "
            ]
          },
          "metadata": {},
          "execution_count": 41
        }
      ]
    },
    {
      "cell_type": "markdown",
      "source": [
        "## Train test split"
      ],
      "metadata": {
        "id": "_b1l8lfKsOWu"
      }
    },
    {
      "cell_type": "code",
      "source": [
        "#Converting multi-class classification to binary classification\n",
        "labels = np.array([])\n",
        "for label_i in tqdm(data['label']):\n",
        "    if label_i == 'white':\n",
        "        labels = np.append(labels, 0) #not ransomware\n",
        "    else:\n",
        "        # All ransomware types will be classified the same\n",
        "        labels = np.append(labels, 1) #ransomware\n"
      ],
      "metadata": {
        "colab": {
          "base_uri": "https://localhost:8080/",
          "height": 49,
          "referenced_widgets": [
            "91ee5e0357dd40a7a424862bffc45503",
            "9c60124f87b248b4a6482cac044ce52d",
            "ce14c321cdad4bd0b8f4e3848e8e2c13",
            "14f21560a9284b7abf88c777a431d36f",
            "104f9e8b3a5f41cca9d22a86d843f3d7",
            "937f7f5306c640f694152cf9b2980561",
            "f26b8e7eda344acc8f319d0ce37c5b1c",
            "cbfae91b1fc6483c8283067273fbaf93",
            "37a3eb6819484da39ac11932e413aa27",
            "876e15399abb4e78939f7363a5a28feb",
            "2f007fb3ebca4557b27f2638c5022001"
          ]
        },
        "id": "_kn8DlqXsO_C",
        "outputId": "e9ff7684-dfc4-4163-d6da-3a6b9cd91c23"
      },
      "execution_count": 21,
      "outputs": [
        {
          "output_type": "display_data",
          "data": {
            "application/vnd.jupyter.widget-view+json": {
              "model_id": "91ee5e0357dd40a7a424862bffc45503",
              "version_minor": 0,
              "version_major": 2
            },
            "text/plain": [
              "  0%|          | 0/47631 [00:00<?, ?it/s]"
            ]
          },
          "metadata": {}
        }
      ]
    },
    {
      "cell_type": "code",
      "source": [
        "X_train, X_test, y_train, y_test = train_test_split(\n",
        "    data.drop(['address','label'], axis=1), \n",
        "    labels,\n",
        "    stratify = labels, #Having equal number of positive class in both training and testing\n",
        "    random_state = 42,\n",
        "    test_size = 0.2\n",
        ")"
      ],
      "metadata": {
        "id": "8Ipj3JlesZrs"
      },
      "execution_count": 22,
      "outputs": []
    },
    {
      "cell_type": "code",
      "source": [
        "from sklearn.metrics import confusion_matrix\n",
        "from sklearn.metrics import confusion_matrix, ConfusionMatrixDisplay\n",
        "\n",
        "cm = confusion_matrix(y_test, lr_preds, labels=lr_sgd.classes_)\n",
        "disp = ConfusionMatrixDisplay(confusion_matrix=cm,\n",
        "                              display_labels=lr_sgd.classes_)\n",
        "disp.plot()\n",
        "plt.show()"
      ],
      "metadata": {
        "colab": {
          "base_uri": "https://localhost:8080/",
          "height": 279
        },
        "id": "ghUsQE2Z5Oxy",
        "outputId": "9d975e17-26bf-4ea8-d577-043ce5457198"
      },
      "execution_count": 51,
      "outputs": [
        {
          "output_type": "display_data",
          "data": {
            "image/png": "[encoded data removed]",
            "text/plain": [
              "<Figure size 432x288 with 2 Axes>"
            ]
          },
          "metadata": {
            "needs_background": "light"
          }
        }
      ]
    },
    {
      "cell_type": "code",
      "source": [
        "from sklearn.linear_model import SGDClassifier\n",
        "\n",
        "lr_sgd = SGDClassifier(loss = 'hinge')\n",
        "lr_sgd.fit(X_train, y_train)\n",
        "lr_preds = lr_sgd.predict(X_test)\n",
        "lr_sgd.score(X_train, y_train)"
      ],
      "metadata": {
        "colab": {
          "base_uri": "https://localhost:8080/"
        },
        "id": "68VLSz_-shAi",
        "outputId": "0e8af418-c1e1-46b4-b808-2c7961e2dddd"
      },
      "execution_count": 38,
      "outputs": [
        {
          "output_type": "execute_result",
          "data": {
            "text/plain": [
              "0.1305112324165442"
            ]
          },
          "metadata": {},
          "execution_count": 38
        }
      ]
    },
    {
      "cell_type": "code",
      "source": [
        "from sklearn.linear_model import Perceptron\n",
        "\n",
        "perc = Perceptron(tol=1e-3, random_state=0)\n",
        "perc.fit(X_train, y_train)\n",
        "perc_preds = perc.predict(X_test)\n",
        "perc.score(X_train, y_train)"
      ],
      "metadata": {
        "colab": {
          "base_uri": "https://localhost:8080/"
        },
        "id": "zPYWWqj505ly",
        "outputId": "f38c8945-b0de-4482-9769-ea3c690658bb"
      },
      "execution_count": 39,
      "outputs": [
        {
          "output_type": "execute_result",
          "data": {
            "text/plain": [
              "0.8694887675834558"
            ]
          },
          "metadata": {},
          "execution_count": 39
        }
      ]
    },
    {
      "cell_type": "code",
      "source": [
        "from sklearn.linear_model import LogisticRegression\n",
        "\n",
        "logis = LogisticRegression(random_state=0).fit(X_train, y_train)\n",
        "logis_preds = logis.predict(X_test)\n",
        "logis.score(X_train, y_train)"
      ],
      "metadata": {
        "colab": {
          "base_uri": "https://localhost:8080/"
        },
        "id": "YUhGYnjM1ibX",
        "outputId": "76e524e2-b591-48a0-9527-08b314dd41a1"
      },
      "execution_count": 40,
      "outputs": [
        {
          "output_type": "execute_result",
          "data": {
            "text/plain": [
              "0.1305112324165442"
            ]
          },
          "metadata": {},
          "execution_count": 40
        }
      ]
    },
    {
      "cell_type": "code",
      "source": [
        "from sklearn.svm import LinearSVC\n",
        "\n",
        "svm = LinearSVC(random_state=0, tol=1e-5)\n",
        "svm.fit(X_train, y_train)\n",
        "svm_preds = svm.predict(X_test)\n",
        "svm.score(X_train, y_train)"
      ],
      "metadata": {
        "colab": {
          "base_uri": "https://localhost:8080/"
        },
        "id": "vNLe6WfA35sj",
        "outputId": "2acdef46-12fe-4c68-bc7a-356cc610204e"
      },
      "execution_count": 44,
      "outputs": [
        {
          "output_type": "execute_result",
          "data": {
            "text/plain": [
              "0.8694887675834558"
            ]
          },
          "metadata": {},
          "execution_count": 44
        }
      ]
    },
    {
      "cell_type": "code",
      "source": [
        "from sklearn.metrics import PrecisionRecallDisplay\n",
        "\n",
        "display = PrecisionRecallDisplay.from_estimator(\n",
        "    perc, X_test, y_test, name=\"perceptron\"\n",
        ")\n",
        "_ = display.ax_.set_title(\"Perceptron Precision-Recall curve\")\n",
        "\n",
        "display = PrecisionRecallDisplay.from_estimator(\n",
        "    logis, X_test, y_test, name=\"logis\"\n",
        ")\n",
        "_ = display.ax_.set_title(\"LogisticRegression Precision-Recall curve\")\n",
        "\n",
        "display = PrecisionRecallDisplay.from_estimator(\n",
        "    lr_sgd, X_test, y_test, name=\"lr_sgd\"\n",
        ")\n",
        "_ = display.ax_.set_title(\"LinearSVC Precision-Recall curve\")\n",
        "\n",
        "display = PrecisionRecallDisplay.from_estimator(\n",
        "    svm, X_test, y_test, name=\"svm\"\n",
        ")\n",
        "_ = display.ax_.set_title(\"svm Precision-Recall curve\")\n",
        "\n",
        "\n"
      ],
      "metadata": {
        "id": "T3ap9Lzy26VG"
      },
      "execution_count": null,
      "outputs": []
    },
    {
      "cell_type": "code",
      "source": [
        "lr_table = PrettyTable()\n",
        "lr_table.field_names = ['Model Name', 'Accuracy', 'F1-Score', 'Precision', 'Recall', 'Log-loss' ]\n",
        "\n",
        "lr_table.add_row([\n",
        "    'SGDClassifier',\n",
        "    accuracy_score(y_true = y_test, y_pred = lr_preds),\n",
        "    f1_score(y_true = y_test, y_pred = lr_preds),\n",
        "    precision_score(y_true = y_test, y_pred = lr_preds),\n",
        "    recall_score(y_true = y_test, y_pred = lr_preds),\n",
        "    log_loss(y_true = y_test, y_pred = lr_preds)\n",
        "])\n",
        "\n",
        "lr_table.add_row([\n",
        "    'SVM',\n",
        "    accuracy_score(y_true = y_test, y_pred = svm_preds),\n",
        "    f1_score(y_true = y_test, y_pred = svm_preds),\n",
        "    precision_score(y_true = y_test, y_pred = svm_preds),\n",
        "    recall_score(y_true = y_test, y_pred = svm_preds),\n",
        "    log_loss(y_true = y_test, y_pred = svm_preds)\n",
        "])\n",
        "\n",
        "lr_table.add_row([\n",
        "    'Logistic Regression',\n",
        "    accuracy_score(y_true = y_test, y_pred = logis_preds),\n",
        "    f1_score(y_true = y_test, y_pred = logis_preds),\n",
        "    precision_score(y_true = y_test, y_pred = logis_preds),\n",
        "    recall_score(y_true = y_test, y_pred = logis_preds),\n",
        "    log_loss(y_true = y_test, y_pred = logis_preds)\n",
        "])\n",
        "\n",
        "\n",
        "lr_table.add_row([\n",
        "    'Perceptron',\n",
        "    accuracy_score(y_true = y_test, y_pred = perc_preds),\n",
        "    f1_score(y_true = y_test, y_pred = perc_preds),\n",
        "    precision_score(y_true = y_test, y_pred = perc_preds),\n",
        "    recall_score(y_true = y_test, y_pred = perc_preds),\n",
        "    log_loss(y_true = y_test, y_pred = perc_preds)\n",
        "])\n",
        "\n",
        "\n",
        "print(lr_table)"
      ],
      "metadata": {
        "colab": {
          "base_uri": "https://localhost:8080/"
        },
        "id": "7zQKf-ZS0QKV",
        "outputId": "ca7c65d3-8866-446c-ceef-6fa974ce0738"
      },
      "execution_count": 54,
      "outputs": [
        {
          "output_type": "stream",
          "name": "stdout",
          "text": [
            "+---------------------+---------------------+-------------------+--------------------+--------+--------------------+\n",
            "|      Model Name     |       Accuracy      |      F1-Score     |     Precision      | Recall |      Log-loss      |\n",
            "+---------------------+---------------------+-------------------+--------------------+--------+--------------------+\n",
            "|    SGDClassifier    | 0.13057625695392044 |        0.0        |        0.0         |  0.0   | 30.028832253494816 |\n",
            "|         SVM         |  0.8694237430460796 | 0.930151600224593 | 0.8694237430460796 |  1.0   | 4.510048549855365  |\n",
            "| Logistic Regression | 0.13057625695392044 |        0.0        |        0.0         |  0.0   | 30.028832253494816 |\n",
            "|      Perceptron     |  0.8694237430460796 | 0.930151600224593 | 0.8694237430460796 |  1.0   | 4.510048549855365  |\n",
            "+---------------------+---------------------+-------------------+--------------------+--------+--------------------+\n"
          ]
        }
      ]
    }
  ]
}