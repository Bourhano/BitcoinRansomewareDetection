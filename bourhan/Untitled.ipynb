{
 "cells": [
  {
   "cell_type": "code",
   "execution_count": 22,
   "id": "7d9ccdac-8825-4f6b-bb45-9ddbc7371543",
   "metadata": {},
   "outputs": [],
   "source": [
    "import pandas as pd\n",
    "import numpy as np\n",
    "from sklearn import preprocessing \n",
    "from sklearn.model_selection import train_test_split\n",
    "from sklearn.ensemble import GradientBoostingClassifier\n",
    "from sklearn.feature_extraction import FeatureHasher"
   ]
  },
  {
   "cell_type": "code",
   "execution_count": 63,
   "id": "6d65ba61-c903-4b71-8d22-e0c11b413125",
   "metadata": {},
   "outputs": [
    {
     "name": "stdout",
     "output_type": "stream",
     "text": [
      "there are 1079963 entries and 10 features.\n"
     ]
    }
   ],
   "source": [
    "dataset = pd.read_csv('BitcoinHeistData.csv',delimiter=',').dropna()\n",
    "dataset.dataframeName='BitcoinHeistData.csv'\n",
    "nRow, nCol = dataset.shape\n",
    "print(f'there are {nRow} entries and {nCol} features.')"
   ]
  },
  {
   "cell_type": "code",
   "execution_count": 64,
   "id": "d38c3b67-0d8a-4494-a602-d12931d6560f",
   "metadata": {},
   "outputs": [
    {
     "data": {
      "text/html": [
       "<div>\n",
       "<style scoped>\n",
       "    .dataframe tbody tr th:only-of-type {\n",
       "        vertical-align: middle;\n",
       "    }\n",
       "\n",
       "    .dataframe tbody tr th {\n",
       "        vertical-align: top;\n",
       "    }\n",
       "\n",
       "    .dataframe thead th {\n",
       "        text-align: right;\n",
       "    }\n",
       "</style>\n",
       "<table border=\"1\" class=\"dataframe\">\n",
       "  <thead>\n",
       "    <tr style=\"text-align: right;\">\n",
       "      <th></th>\n",
       "      <th>address</th>\n",
       "      <th>year</th>\n",
       "      <th>day</th>\n",
       "      <th>length</th>\n",
       "      <th>weight</th>\n",
       "      <th>count</th>\n",
       "      <th>looped</th>\n",
       "      <th>neighbors</th>\n",
       "      <th>income</th>\n",
       "      <th>label</th>\n",
       "    </tr>\n",
       "  </thead>\n",
       "  <tbody>\n",
       "    <tr>\n",
       "      <th>0</th>\n",
       "      <td>111K8kZAEnJg245r2cM6y9zgJGHZtJPy6</td>\n",
       "      <td>2017</td>\n",
       "      <td>11</td>\n",
       "      <td>18</td>\n",
       "      <td>0.008333</td>\n",
       "      <td>1.0</td>\n",
       "      <td>0.0</td>\n",
       "      <td>2.0</td>\n",
       "      <td>1.000500e+08</td>\n",
       "      <td>princetonCerber</td>\n",
       "    </tr>\n",
       "    <tr>\n",
       "      <th>1</th>\n",
       "      <td>1123pJv8jzeFQaCV4w644pzQJzVWay2zcA</td>\n",
       "      <td>2016</td>\n",
       "      <td>132</td>\n",
       "      <td>44</td>\n",
       "      <td>0.000244</td>\n",
       "      <td>1.0</td>\n",
       "      <td>0.0</td>\n",
       "      <td>1.0</td>\n",
       "      <td>1.000000e+08</td>\n",
       "      <td>princetonLocky</td>\n",
       "    </tr>\n",
       "    <tr>\n",
       "      <th>2</th>\n",
       "      <td>112536im7hy6wtKbpH1qYDWtTyMRAcA2p7</td>\n",
       "      <td>2016</td>\n",
       "      <td>246</td>\n",
       "      <td>0</td>\n",
       "      <td>1.000000</td>\n",
       "      <td>1.0</td>\n",
       "      <td>0.0</td>\n",
       "      <td>2.0</td>\n",
       "      <td>2.000000e+08</td>\n",
       "      <td>princetonCerber</td>\n",
       "    </tr>\n",
       "    <tr>\n",
       "      <th>3</th>\n",
       "      <td>1126eDRw2wqSkWosjTCre8cjjQW8sSeWH7</td>\n",
       "      <td>2016</td>\n",
       "      <td>322</td>\n",
       "      <td>72</td>\n",
       "      <td>0.003906</td>\n",
       "      <td>1.0</td>\n",
       "      <td>0.0</td>\n",
       "      <td>2.0</td>\n",
       "      <td>7.120000e+07</td>\n",
       "      <td>princetonCerber</td>\n",
       "    </tr>\n",
       "    <tr>\n",
       "      <th>4</th>\n",
       "      <td>1129TSjKtx65E35GiUo4AYVeyo48twbrGX</td>\n",
       "      <td>2016</td>\n",
       "      <td>238</td>\n",
       "      <td>144</td>\n",
       "      <td>0.072848</td>\n",
       "      <td>456.0</td>\n",
       "      <td>0.0</td>\n",
       "      <td>1.0</td>\n",
       "      <td>2.000000e+08</td>\n",
       "      <td>princetonLocky</td>\n",
       "    </tr>\n",
       "    <tr>\n",
       "      <th>...</th>\n",
       "      <td>...</td>\n",
       "      <td>...</td>\n",
       "      <td>...</td>\n",
       "      <td>...</td>\n",
       "      <td>...</td>\n",
       "      <td>...</td>\n",
       "      <td>...</td>\n",
       "      <td>...</td>\n",
       "      <td>...</td>\n",
       "      <td>...</td>\n",
       "    </tr>\n",
       "    <tr>\n",
       "      <th>1079958</th>\n",
       "      <td>1sfQz7NsNqwrRxSt55f969Gb8Ps9797T4</td>\n",
       "      <td>2013</td>\n",
       "      <td>319</td>\n",
       "      <td>6</td>\n",
       "      <td>0.250000</td>\n",
       "      <td>1.0</td>\n",
       "      <td>0.0</td>\n",
       "      <td>1.0</td>\n",
       "      <td>1.500000e+08</td>\n",
       "      <td>white</td>\n",
       "    </tr>\n",
       "    <tr>\n",
       "      <th>1079959</th>\n",
       "      <td>15d2gorPZK24StQgME1M3rMgTNgtfjrz42</td>\n",
       "      <td>2013</td>\n",
       "      <td>319</td>\n",
       "      <td>4</td>\n",
       "      <td>0.125000</td>\n",
       "      <td>1.0</td>\n",
       "      <td>0.0</td>\n",
       "      <td>2.0</td>\n",
       "      <td>4.111800e+09</td>\n",
       "      <td>white</td>\n",
       "    </tr>\n",
       "    <tr>\n",
       "      <th>1079960</th>\n",
       "      <td>1PSTya5xeaCMjMpb9PAmqUMo1GM8i7uFYh</td>\n",
       "      <td>2013</td>\n",
       "      <td>319</td>\n",
       "      <td>0</td>\n",
       "      <td>0.500000</td>\n",
       "      <td>1.0</td>\n",
       "      <td>0.0</td>\n",
       "      <td>1.0</td>\n",
       "      <td>1.245662e+08</td>\n",
       "      <td>white</td>\n",
       "    </tr>\n",
       "    <tr>\n",
       "      <th>1079961</th>\n",
       "      <td>19VWG5Meocycq2Uauyai63JRZbdmxPy7Xn</td>\n",
       "      <td>2013</td>\n",
       "      <td>319</td>\n",
       "      <td>0</td>\n",
       "      <td>0.500000</td>\n",
       "      <td>1.0</td>\n",
       "      <td>0.0</td>\n",
       "      <td>1.0</td>\n",
       "      <td>4.000000e+07</td>\n",
       "      <td>white</td>\n",
       "    </tr>\n",
       "    <tr>\n",
       "      <th>1079962</th>\n",
       "      <td>1LoJMA2wj6DqFZwErBGX7z2vTsdyMg1EWb</td>\n",
       "      <td>2013</td>\n",
       "      <td>319</td>\n",
       "      <td>10</td>\n",
       "      <td>0.015625</td>\n",
       "      <td>1.0</td>\n",
       "      <td>0.0</td>\n",
       "      <td>2.0</td>\n",
       "      <td>1.137718e+09</td>\n",
       "      <td>white</td>\n",
       "    </tr>\n",
       "  </tbody>\n",
       "</table>\n",
       "<p>1079963 rows × 10 columns</p>\n",
       "</div>"
      ],
      "text/plain": [
       "                                    address  year  day  length    weight  \\\n",
       "0         111K8kZAEnJg245r2cM6y9zgJGHZtJPy6  2017   11      18  0.008333   \n",
       "1        1123pJv8jzeFQaCV4w644pzQJzVWay2zcA  2016  132      44  0.000244   \n",
       "2        112536im7hy6wtKbpH1qYDWtTyMRAcA2p7  2016  246       0  1.000000   \n",
       "3        1126eDRw2wqSkWosjTCre8cjjQW8sSeWH7  2016  322      72  0.003906   \n",
       "4        1129TSjKtx65E35GiUo4AYVeyo48twbrGX  2016  238     144  0.072848   \n",
       "...                                     ...   ...  ...     ...       ...   \n",
       "1079958   1sfQz7NsNqwrRxSt55f969Gb8Ps9797T4  2013  319       6  0.250000   \n",
       "1079959  15d2gorPZK24StQgME1M3rMgTNgtfjrz42  2013  319       4  0.125000   \n",
       "1079960  1PSTya5xeaCMjMpb9PAmqUMo1GM8i7uFYh  2013  319       0  0.500000   \n",
       "1079961  19VWG5Meocycq2Uauyai63JRZbdmxPy7Xn  2013  319       0  0.500000   \n",
       "1079962  1LoJMA2wj6DqFZwErBGX7z2vTsdyMg1EWb  2013  319      10  0.015625   \n",
       "\n",
       "         count  looped  neighbors        income            label  \n",
       "0          1.0     0.0        2.0  1.000500e+08  princetonCerber  \n",
       "1          1.0     0.0        1.0  1.000000e+08   princetonLocky  \n",
       "2          1.0     0.0        2.0  2.000000e+08  princetonCerber  \n",
       "3          1.0     0.0        2.0  7.120000e+07  princetonCerber  \n",
       "4        456.0     0.0        1.0  2.000000e+08   princetonLocky  \n",
       "...        ...     ...        ...           ...              ...  \n",
       "1079958    1.0     0.0        1.0  1.500000e+08            white  \n",
       "1079959    1.0     0.0        2.0  4.111800e+09            white  \n",
       "1079960    1.0     0.0        1.0  1.245662e+08            white  \n",
       "1079961    1.0     0.0        1.0  4.000000e+07            white  \n",
       "1079962    1.0     0.0        2.0  1.137718e+09            white  \n",
       "\n",
       "[1079963 rows x 10 columns]"
      ]
     },
     "execution_count": 64,
     "metadata": {},
     "output_type": "execute_result"
    }
   ],
   "source": [
    "dataset"
   ]
  },
  {
   "cell_type": "code",
   "execution_count": 65,
   "id": "b3034d4c-236f-4bd2-b54c-d1497cafe574",
   "metadata": {},
   "outputs": [
    {
     "data": {
      "text/plain": [
       "Index(['address', 'year', 'day', 'length', 'weight', 'count', 'looped',\n",
       "       'neighbors', 'income', 'label'],\n",
       "      dtype='object')"
      ]
     },
     "execution_count": 65,
     "metadata": {},
     "output_type": "execute_result"
    }
   ],
   "source": [
    "dataset.columns"
   ]
  },
  {
   "cell_type": "code",
   "execution_count": 66,
   "id": "6144e7da-1c03-4775-9583-15158c0e1d86",
   "metadata": {},
   "outputs": [
    {
     "name": "stdout",
     "output_type": "stream",
     "text": [
      "                               address  year  day  length        weight  \\\n",
      "0    111K8kZAEnJg245r2cM6y9zgJGHZtJPy6  2017   11      18  8.333333e-03   \n",
      "1   1123pJv8jzeFQaCV4w644pzQJzVWay2zcA  2016  132      44  2.441406e-04   \n",
      "2   112536im7hy6wtKbpH1qYDWtTyMRAcA2p7  2016  246       0  1.000000e+00   \n",
      "3   1126eDRw2wqSkWosjTCre8cjjQW8sSeWH7  2016  322      72  3.906250e-03   \n",
      "4   1129TSjKtx65E35GiUo4AYVeyo48twbrGX  2016  238     144  7.284841e-02   \n",
      "5   112AmFATxzhuSpvtz1hfpa3Zrw3BG276pc  2016   96     144  8.461400e-02   \n",
      "6   112E91jxS2qrQY1z78LPWUWrLVFGqbYPQ1  2016  225     142  2.088519e-03   \n",
      "7   112eFykaD53KEkKeYW9KW8eWebZYSbt2f5  2016  324      78  3.906250e-03   \n",
      "8   112FTiRdJjMrNgEtd4fvdoq3TC33Ah5Dep  2016  298     144  2.302828e+00   \n",
      "9   112GocBgFSnaote6krx828qaockFraD8mp  2016   62     112  3.725290e-09   \n",
      "10  112gXL4AeJ62DX3htuLhBc3MtY5U6X5J28  2013  317       4  7.142857e-03   \n",
      "11  112nEBUadWiMxzUUASNZpQ9AvePtrJVuca  2016  247       0  1.000000e+00   \n",
      "12  112Ns49UobQn1cX1G1axs1cmGvjFBxVxvf  2016  146     144  8.774848e-01   \n",
      "13  112vq2Wt7Mo8RD5jCKMR2PFNxAoT17ffxD  2017    3       4  1.562500e-02   \n",
      "14  112wED5uHhY1aiSaWAzgeMDaCKFcCvj9Pn  2016  158      56  3.051758e-05   \n",
      "15  112wED5uHhY1aiSaWAzgeMDaCKFcCvj9Pn  2016  156       8  7.500000e-01   \n",
      "16  112wjYgWapZU8gTPR7hLoKq8iEh496vKxP  2016  273     144  8.746752e-03   \n",
      "17  1131P1hjj7h9NinHRCkNwGFifK4gGoe5EF  2016   56       4  1.458333e-01   \n",
      "18  1132fapAqQVQJjZipWzJPKYxF4LNSDEvuc  2016  165      10  1.190476e-02   \n",
      "19  1136MFiqBmoVWpqWr1okF3D5XMabwVLB5z  2016  109       0  5.000000e-01   \n",
      "\n",
      "     count  looped  neighbors       income                 label  \\\n",
      "0      1.0     0.0        2.0  100050000.0       princetonCerber   \n",
      "1      1.0     0.0        1.0  100000000.0        princetonLocky   \n",
      "2      1.0     0.0        2.0  200000000.0       princetonCerber   \n",
      "3      1.0     0.0        2.0   71200000.0       princetonCerber   \n",
      "4    456.0     0.0        1.0  200000000.0        princetonLocky   \n",
      "5   2821.0     0.0        1.0   50000000.0        princetonLocky   \n",
      "6    881.0     0.0        2.0  100000000.0       princetonCerber   \n",
      "7      1.0     0.0        2.0  100990000.0       princetonCerber   \n",
      "8   4220.0     0.0        2.0   80000000.0       princetonCerber   \n",
      "9      1.0     0.0        1.0   50000000.0        princetonLocky   \n",
      "10     2.0     0.0        1.0  100000000.0  montrealCryptoLocker   \n",
      "11     1.0     0.0        2.0  108560000.0       princetonCerber   \n",
      "12  4817.0     0.0        1.0  104020000.0      montrealCryptXXX   \n",
      "13     1.0     0.0        2.0   56000000.0       princetonCerber   \n",
      "14     1.0     0.0        1.0  120000000.0      montrealCryptXXX   \n",
      "15     2.0     0.0        4.0  240000000.0      montrealCryptXXX   \n",
      "16  1168.0     0.0        1.0  550000000.0        princetonLocky   \n",
      "17     4.0     0.0        1.0  500000000.0        princetonLocky   \n",
      "18     1.0     0.0        2.0  200000000.0       princetonCerber   \n",
      "19     1.0     0.0        1.0  101000000.0        princetonLocky   \n",
      "\n",
      "             address_enc  label_enc  \n",
      "0   13114125381228956993         26  \n",
      "1   16633218838797155864         27  \n",
      "2    4241065506906516076         26  \n",
      "3    6529234379544632934         26  \n",
      "4    1857035109674162764         27  \n",
      "5   14980956195494761695         27  \n",
      "6    5193824315809040904         26  \n",
      "7   15220062855340157013         26  \n",
      "8    3465181100331611663         26  \n",
      "9     987289249021340566         27  \n",
      "10   1864634422983213405          4  \n",
      "11   3680036218585690115         26  \n",
      "12    487349474644615853          3  \n",
      "13  14720196932671765723         26  \n",
      "14  14957631202545097998          3  \n",
      "15  14409326031851908094          3  \n",
      "16   4900584348657723968         27  \n",
      "17   2284781007962971915         27  \n",
      "18   1779047806718096020         26  \n",
      "19   3355105321757442916         27  \n"
     ]
    }
   ],
   "source": [
    "label_encoder = preprocessing.LabelEncoder()\n",
    "dataset['address_enc'] = pd.util.hash_pandas_object(dataset['address'])\n",
    "dataset['label_enc'] = label_encoder.fit_transform(dataset['label'])\n",
    "\n",
    "\n",
    "print(dataset.head(3))"
   ]
  },
  {
   "cell_type": "code",
   "execution_count": 67,
   "id": "1ebcd119-e852-46e3-9275-c2fba5b28fe0",
   "metadata": {},
   "outputs": [],
   "source": [
    "X = dataset.drop(['address', 'label', 'label_enc'], axis=1)\n",
    "y = dataset['label_enc']\n",
    "X_train, X_test, y_train, y_test = train_test_split(X, y, test_size=0.25, random_state=0)"
   ]
  },
  {
   "cell_type": "code",
   "execution_count": 68,
   "id": "0ea7e2f7-b0f4-4d81-827f-586b3affe48e",
   "metadata": {},
   "outputs": [
    {
     "data": {
      "text/plain": [
       "(array([ 0,  1,  2,  3,  4,  5,  6,  7,  8,  9, 10, 11, 12, 13, 14, 15, 16,\n",
       "        17, 18, 19, 20, 21, 22, 23, 24, 25, 26, 27, 28]),\n",
       " array([     11,       1,       7,    2419,    9315,      55,     251,\n",
       "            354,       6,       9,      32,      55,      34,       4,\n",
       "            483,      13,       1,      62,       7,      28,       1,\n",
       "              7,       8,   12390,       2,      10,    9223,    6625,\n",
       "        1038550], dtype=int64))"
      ]
     },
     "execution_count": 68,
     "metadata": {},
     "output_type": "execute_result"
    }
   ],
   "source": [
    "np.unique(y, return_counts=True)"
   ]
  },
  {
   "cell_type": "code",
   "execution_count": 69,
   "id": "ab4d4b9e-7735-492d-bcf6-15554d619b30",
   "metadata": {},
   "outputs": [
    {
     "name": "stdout",
     "output_type": "stream",
     "text": [
      "<class 'pandas.core.frame.DataFrame'>\n",
      "Int64Index: 1079963 entries, 0 to 1079962\n",
      "Data columns (total 9 columns):\n",
      " #   Column       Non-Null Count    Dtype  \n",
      "---  ------       --------------    -----  \n",
      " 0   year         1079963 non-null  int64  \n",
      " 1   day          1079963 non-null  int64  \n",
      " 2   length       1079963 non-null  int64  \n",
      " 3   weight       1079963 non-null  float64\n",
      " 4   count        1079963 non-null  float64\n",
      " 5   looped       1079963 non-null  float64\n",
      " 6   neighbors    1079963 non-null  float64\n",
      " 7   income       1079963 non-null  float64\n",
      " 8   address_enc  1079963 non-null  uint64 \n",
      "dtypes: float64(5), int64(3), uint64(1)\n",
      "memory usage: 82.4 MB\n"
     ]
    }
   ],
   "source": [
    "X.info()"
   ]
  },
  {
   "cell_type": "code",
   "execution_count": 70,
   "id": "aa377cf2-a343-45f8-b501-8c1616286c08",
   "metadata": {},
   "outputs": [
    {
     "data": {
      "text/plain": [
       "0.9745361882433118"
      ]
     },
     "execution_count": 70,
     "metadata": {},
     "output_type": "execute_result"
    }
   ],
   "source": [
    "gb=GradientBoostingClassifier(random_state=0)\n",
    "gb=gb.fit(X_train,y_train)\n",
    "gb.score(X_test,y_test)"
   ]
  },
  {
   "cell_type": "code",
   "execution_count": 84,
   "id": "a126e356-6644-49fa-aec9-d27086dd8ca9",
   "metadata": {},
   "outputs": [
    {
     "data": {
      "text/plain": [
       "year           2.012000e+03\n",
       "day            9.500000e+01\n",
       "length         6.000000e+00\n",
       "weight         6.250000e-02\n",
       "count          1.000000e+00\n",
       "looped         0.000000e+00\n",
       "neighbors      2.000000e+00\n",
       "income         5.650895e+07\n",
       "address_enc    1.540581e+18\n",
       "Name: 490766, dtype: float64"
      ]
     },
     "execution_count": 84,
     "metadata": {},
     "output_type": "execute_result"
    }
   ],
   "source": [
    "X_test.iloc[1]"
   ]
  },
  {
   "cell_type": "code",
   "execution_count": 91,
   "id": "9b39b7ff-9ffd-40a1-ae35-e7aff11b5e53",
   "metadata": {},
   "outputs": [
    {
     "data": {
      "text/plain": [
       "{'ccp_alpha': 0.0,\n",
       " 'criterion': 'friedman_mse',\n",
       " 'init': None,\n",
       " 'learning_rate': 0.1,\n",
       " 'loss': 'deviance',\n",
       " 'max_depth': 3,\n",
       " 'max_features': None,\n",
       " 'max_leaf_nodes': None,\n",
       " 'min_impurity_decrease': 0.0,\n",
       " 'min_samples_leaf': 1,\n",
       " 'min_samples_split': 2,\n",
       " 'min_weight_fraction_leaf': 0.0,\n",
       " 'n_estimators': 100,\n",
       " 'n_iter_no_change': None,\n",
       " 'random_state': 0,\n",
       " 'subsample': 1.0,\n",
       " 'tol': 0.0001,\n",
       " 'validation_fraction': 0.1,\n",
       " 'verbose': 0,\n",
       " 'warm_start': False}"
      ]
     },
     "execution_count": 91,
     "metadata": {},
     "output_type": "execute_result"
    }
   ],
   "source": [
    "gb.get_params()"
   ]
  },
  {
   "cell_type": "code",
   "execution_count": 88,
   "id": "2538a842-e6f6-4737-a7dd-8054326fda19",
   "metadata": {},
   "outputs": [
    {
     "data": {
      "text/plain": [
       "array([[-2.09495393e+01, -2.32476129e+01, -2.18613208e+01,\n",
       "        -1.57299362e+01,  1.17940998e+03, -3.95804337e+58,\n",
       "        -1.78385484e+01, -1.76756670e+01, -2.16381784e+01,\n",
       "        -2.11380114e+01, -2.01121363e+01, -1.55842838e+01,\n",
       "        -1.99517968e+01, -2.25544665e+01, -1.17461981e+01,\n",
       "        -1.11105308e+01, -2.32476129e+01, -1.93975021e+01,\n",
       "        -2.13017076e+01, -2.01565876e+01, -2.16381781e+01,\n",
       "        -2.11543244e+01, -8.28965978e+00, -2.32476129e+01,\n",
       "        -2.11681770e+01, -1.44101213e+01, -1.47364154e+01,\n",
       "         1.07718389e+00]])"
      ]
     },
     "execution_count": 88,
     "metadata": {},
     "output_type": "execute_result"
    }
   ],
   "source": [
    "gb.decision_function(X_test.iloc[0:1])"
   ]
  },
  {
   "cell_type": "code",
   "execution_count": 73,
   "id": "d00fe57f-6056-4fe3-87c4-65d5e1c36486",
   "metadata": {},
   "outputs": [
    {
     "data": {
      "text/plain": [
       "{'ccp_alpha': 0.0,\n",
       " 'criterion': 'friedman_mse',\n",
       " 'init': None,\n",
       " 'learning_rate': 0.1,\n",
       " 'loss': 'deviance',\n",
       " 'max_depth': 3,\n",
       " 'max_features': None,\n",
       " 'max_leaf_nodes': None,\n",
       " 'min_impurity_decrease': 0.0,\n",
       " 'min_samples_leaf': 1,\n",
       " 'min_samples_split': 2,\n",
       " 'min_weight_fraction_leaf': 0.0,\n",
       " 'n_estimators': 100,\n",
       " 'n_iter_no_change': None,\n",
       " 'random_state': 0,\n",
       " 'subsample': 1.0,\n",
       " 'tol': 0.0001,\n",
       " 'validation_fraction': 0.1,\n",
       " 'verbose': 0,\n",
       " 'warm_start': False}"
      ]
     },
     "execution_count": 73,
     "metadata": {},
     "output_type": "execute_result"
    }
   ],
   "source": [
    "gb.get_params()"
   ]
  },
  {
   "cell_type": "code",
   "execution_count": null,
   "id": "9a76036a-2eda-4a6b-be59-5bd32f726294",
   "metadata": {},
   "outputs": [],
   "source": []
  },
  {
   "cell_type": "code",
   "execution_count": null,
   "id": "f37cf21a-d904-4a61-b525-56c60fb81743",
   "metadata": {},
   "outputs": [],
   "source": []
  }
 ],
 "metadata": {
  "kernelspec": {
   "display_name": "Python 3 (ipykernel)",
   "language": "python",
   "name": "python3"
  },
  "language_info": {
   "codemirror_mode": {
    "name": "ipython",
    "version": 3
   },
   "file_extension": ".py",
   "mimetype": "text/x-python",
   "name": "python",
   "nbconvert_exporter": "python",
   "pygments_lexer": "ipython3",
   "version": "3.8.12"
  }
 },
 "nbformat": 4,
 "nbformat_minor": 5
}
