{
 "cells": [
  {
   "cell_type": "markdown",
   "id": "40b4bcd7",
   "metadata": {},
   "source": [
    "In the context of unbalanced dataset, we should choose a metric that takes this issue into consideration. The accuracy value is not informative in this case. \n",
    "\n",
    "As we want to have high values of recall and precision. We chose simply the roc_auc_score for our problem that calculates the area under the curve of the points (1-Precision, Recall) for different threshholds. \n",
    "\n",
    "Other metrics can also be adapted to our case as the F-score."
   ]
  },
  {
   "cell_type": "markdown",
   "id": "f4fd6742",
   "metadata": {},
   "source": [
    "## MLP Classifier"
   ]
  },
  {
   "cell_type": "code",
   "execution_count": null,
   "id": "693de09c",
   "metadata": {},
   "outputs": [],
   "source": [
    "from sklearn.neural_network import MLPClassifier\n",
    "\n",
    "model = MLPClassifier(\n",
    "    solver=\"adam\", hidden_layer_sizes=(30,15), max_iter=42,\n",
    "    batch_size=100, random_state=57)"
   ]
  },
  {
   "cell_type": "code",
   "execution_count": null,
   "id": "7926314e",
   "metadata": {},
   "outputs": [],
   "source": [
    "model.fit(X_train, Y_train)"
   ]
  },
  {
   "cell_type": "code",
   "execution_count": null,
   "id": "abf70b21",
   "metadata": {},
   "outputs": [],
   "source": [
    "y_pred = model.predict(X_test)\n",
    "from sklearn.metrics import roc_auc_score\n",
    "\n",
    "print(f\"roc_auc_score: {roc_auc_score(Y_test.values[:,0],y_pred):.4f}\")"
   ]
  },
  {
   "cell_type": "markdown",
   "id": "17ed2bf3",
   "metadata": {},
   "source": [
    "We can see that the roc_auc_score is not good. It's close to a value of $0.5$ of a naive classifier. "
   ]
  },
  {
   "cell_type": "markdown",
   "id": "664d4132",
   "metadata": {},
   "source": [
    "## Random forest"
   ]
  },
  {
   "cell_type": "code",
   "execution_count": null,
   "id": "abb78788",
   "metadata": {},
   "outputs": [],
   "source": [
    "from sklearn.ensemble import RandomForestClassifier\n",
    "rf_clf = RandomForestClassifier(n_estimators=100, random_state=42)"
   ]
  },
  {
   "cell_type": "code",
   "execution_count": null,
   "id": "2898ae6a",
   "metadata": {},
   "outputs": [],
   "source": [
    "rf_clf.fit(X_train, Y_train)"
   ]
  },
  {
   "cell_type": "code",
   "execution_count": null,
   "id": "f8d81f49",
   "metadata": {},
   "outputs": [],
   "source": [
    "y_pred = model.predict(X_test)\n",
    "print(f\"roc_auc_score: {roc_auc_score(Y_test.values[:,0],y_pred):.4f}\")"
   ]
  },
  {
   "cell_type": "markdown",
   "id": "efa2e879",
   "metadata": {},
   "source": [
    "We have the same roc_auc_value with a random forest model. We should think of taking into account the imbalance in the training dataset.\n",
    "\n",
    "We will keep the random forest model and set the \"class_weight\" parameter to \"balanced\" to account for the imbalance in the training dataset and see the results."
   ]
  },
  {
   "cell_type": "code",
   "execution_count": 9,
   "id": "JrR7TUHwILmy",
   "metadata": {
    "id": "JrR7TUHwILmy"
   },
   "outputs": [],
   "source": [
    "from sklearn.ensemble import RandomForestClassifier\n",
    "rf_clf = RandomForestClassifier(n_estimators=100, random_state=42,class_weight='balanced')"
   ]
  },
  {
   "cell_type": "code",
   "execution_count": 10,
   "id": "-okaN7h-EHEi",
   "metadata": {
    "colab": {
     "base_uri": "https://localhost:8080/"
    },
    "id": "-okaN7h-EHEi",
    "outputId": "415c103f-7c40-4bc2-d9cc-8537607dda4f"
   },
   "outputs": [
    {
     "data": {
      "text/plain": [
       "RandomForestClassifier(class_weight='balanced', random_state=42)"
      ]
     },
     "execution_count": 10,
     "metadata": {},
     "output_type": "execute_result"
    }
   ],
   "source": [
    "rf_clf.fit(X_train, Y_train)"
   ]
  },
  {
   "cell_type": "code",
   "execution_count": null,
   "id": "a7ab13b5",
   "metadata": {
    "id": "a7ab13b5"
   },
   "outputs": [],
   "source": [
    "y_pred = rf_clf.predict(X_test)"
   ]
  },
  {
   "cell_type": "code",
   "execution_count": null,
   "id": "5adf8114",
   "metadata": {},
   "outputs": [],
   "source": [
    "from sklearn.metrics import roc_auc_score\n",
    "\n",
    "print(f\"roc_auc_score: {roc_auc_score(Y_test.values[:,0],y_pred):.4f}\")"
   ]
  },
  {
   "cell_type": "markdown",
   "id": "8afdd68a",
   "metadata": {},
   "source": [
    "We can see that by taking into consideration the data imbalance we could obtain better roc_auc_score on test dataset. A good machine learning algorithm should account for this imbalance and shoulf at least beat this score."
   ]
  }
 ],
 "metadata": {
  "colab": {
   "collapsed_sections": [],
   "name": "feature_extractor.ipynb",
   "provenance": []
  },
  "kernelspec": {
   "display_name": "Python 3 (ipykernel)",
   "language": "python",
   "name": "python3"
  },
  "language_info": {
   "codemirror_mode": {
    "name": "ipython",
    "version": 3
   },
   "file_extension": ".py",
   "mimetype": "text/x-python",
   "name": "python",
   "nbconvert_exporter": "python",
   "pygments_lexer": "ipython3",
   "version": "3.8.12"
  }
 },
 "nbformat": 4,
 "nbformat_minor": 5
}
