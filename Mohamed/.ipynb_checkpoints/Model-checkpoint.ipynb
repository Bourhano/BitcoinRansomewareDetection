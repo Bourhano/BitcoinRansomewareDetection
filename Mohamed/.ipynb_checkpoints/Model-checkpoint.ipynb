{
 "cells": [
  {
   "cell_type": "markdown",
   "id": "efa2e879",
   "metadata": {},
   "source": [
    "We will try a random forest model and set the \"class_weight\" parameter to \"balanced\" to account for the imbalance in the training dataset."
   ]
  },
  {
   "cell_type": "code",
   "execution_count": 9,
   "id": "JrR7TUHwILmy",
   "metadata": {
    "id": "JrR7TUHwILmy"
   },
   "outputs": [],
   "source": [
    "from sklearn.ensemble import RandomForestClassifier\n",
    "rf_clf = RandomForestClassifier(n_estimators=100, random_state=42,class_weight='balanced')"
   ]
  },
  {
   "cell_type": "code",
   "execution_count": 10,
   "id": "-okaN7h-EHEi",
   "metadata": {
    "colab": {
     "base_uri": "https://localhost:8080/"
    },
    "id": "-okaN7h-EHEi",
    "outputId": "415c103f-7c40-4bc2-d9cc-8537607dda4f"
   },
   "outputs": [
    {
     "data": {
      "text/plain": [
       "RandomForestClassifier(class_weight='balanced', random_state=42)"
      ]
     },
     "execution_count": 10,
     "metadata": {},
     "output_type": "execute_result"
    }
   ],
   "source": [
    "rf_clf.fit(X_train, Y_train)"
   ]
  },
  {
   "cell_type": "code",
   "execution_count": null,
   "id": "a7ab13b5",
   "metadata": {
    "id": "a7ab13b5"
   },
   "outputs": [],
   "source": [
    "y_pred = rf_clf.predict(X_test)"
   ]
  },
  {
   "cell_type": "code",
   "execution_count": null,
   "id": "5adf8114",
   "metadata": {},
   "outputs": [],
   "source": [
    "from sklearn.metrics import roc_auc_score\n",
    "\n",
    "print(f\"roc_auc_score: {roc_auc_score(Y_test.values[:,0],y_pred):.4f}\")"
   ]
  },
  {
   "cell_type": "markdown",
   "id": "020c2547",
   "metadata": {},
   "source": [
    "A proposed machine learning algorithm should at least beat this number."
   ]
  }
 ],
 "metadata": {
  "colab": {
   "collapsed_sections": [],
   "name": "feature_extractor.ipynb",
   "provenance": []
  },
  "kernelspec": {
   "display_name": "Python 3 (ipykernel)",
   "language": "python",
   "name": "python3"
  },
  "language_info": {
   "codemirror_mode": {
    "name": "ipython",
    "version": 3
   },
   "file_extension": ".py",
   "mimetype": "text/x-python",
   "name": "python",
   "nbconvert_exporter": "python",
   "pygments_lexer": "ipython3",
   "version": "3.8.12"
  }
 },
 "nbformat": 4,
 "nbformat_minor": 5
}
