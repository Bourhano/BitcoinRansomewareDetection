{
  "cells": [
    {
      "cell_type": "code",
      "source": [
        "from sklearn.ensemble import RandomForestClassifier\n",
        "rf_clf = RandomForestClassifier(n_estimators=100, random_state=42,class_weight='balanced')"
      ],
      "metadata": {
        "id": "JrR7TUHwILmy"
      },
      "id": "JrR7TUHwILmy",
      "execution_count": 9,
      "outputs": []
    },
    {
      "cell_type": "code",
      "source": [
        "rf_clf.fit(X_train, Y_train)"
      ],
      "metadata": {
        "colab": {
          "base_uri": "https://localhost:8080/"
        },
        "id": "-okaN7h-EHEi",
        "outputId": "415c103f-7c40-4bc2-d9cc-8537607dda4f"
      },
      "id": "-okaN7h-EHEi",
      "execution_count": 10,
      "outputs": [
        {
          "output_type": "execute_result",
          "data": {
            "text/plain": [
              "RandomForestClassifier(class_weight='balanced', random_state=42)"
            ]
          },
          "metadata": {},
          "execution_count": 10
        }
      ]
    },
    {
      "cell_type": "code",
      "execution_count": null,
      "id": "a7ab13b5",
      "metadata": {
        "id": "a7ab13b5"
      },
      "outputs": [],
      "source": [
        "y_pred = rf_clf.predict(X_test)"
      ]
    },
    {
      "cell_type": "code",
      "execution_count": null,
      "id": "9aa70969",
      "metadata": {
        "colab": {
          "base_uri": "https://localhost:8080/"
        },
        "id": "9aa70969",
        "outputId": "c2c25e3e-d576-4c40-8bdb-2ecd564f2588"
      },
      "outputs": [
        {
          "output_type": "stream",
          "name": "stdout",
          "text": [
            "0.3327136703695307\n",
            "0.6841907410232403\n",
            "              precision    recall  f1-score   support\n",
            "\n",
            "          -1       0.97      0.95      0.96    181143\n",
            "           1       0.27      0.42      0.33      8697\n",
            "\n",
            "    accuracy                           0.92    189840\n",
            "   macro avg       0.62      0.68      0.65    189840\n",
            "weighted avg       0.94      0.92      0.93    189840\n",
            "\n"
          ]
        }
      ],
      "source": [
        "from sklearn.metrics import roc_auc_score,classification_report,f1_score\n",
        "\n",
        "print(f1_score(Y_test.values[:,0],y_pred))\n",
        "print(roc_auc_score(Y_test.values[:,0],y_pred))\n",
        "print(classification_report(Y_test.values[:,0], y_pred))"
      ]
    }
  ],
  "metadata": {
    "kernelspec": {
      "display_name": "Python 3 (ipykernel)",
      "language": "python",
      "name": "python3"
    },
    "language_info": {
      "codemirror_mode": {
        "name": "ipython",
        "version": 3
      },
      "file_extension": ".py",
      "mimetype": "text/x-python",
      "name": "python",
      "nbconvert_exporter": "python",
      "pygments_lexer": "ipython3",
      "version": "3.8.12"
    },
    "colab": {
      "name": "feature_extractor.ipynb",
      "provenance": [],
      "collapsed_sections": []
    }
  },
  "nbformat": 4,
  "nbformat_minor": 5
}