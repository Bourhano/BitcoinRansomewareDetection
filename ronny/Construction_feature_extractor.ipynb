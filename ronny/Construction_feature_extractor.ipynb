{
  "cells": [
    {
      "cell_type": "markdown",
      "metadata": {
        "id": "fWhReRJ_kV1r"
      },
      "source": [
        "# Prediction of Ransome Activity \n",
        "\n",
        "Rihem Mansri, Mohamed Issa, Mootez Dakhlaoui, Bourhan Dernayka, Joel Pascal Soffo, Ronny Tonato"
      ]
    },
    {
      "cell_type": "code",
      "execution_count": 1,
      "metadata": {
        "id": "Jn-PDoDnkurp"
      },
      "outputs": [],
      "source": [
        "import os\n",
        "import warnings\n",
        "import pickle\n",
        "import pandas as pd\n",
        "import numpy as np\n",
        "\n",
        "import matplotlib.pyplot as plt\n",
        "import seaborn as sns\n",
        "from scipy.stats import boxcox\n",
        "from tqdm.notebook import tqdm\n",
        "\n",
        "from sklearn.model_selection import train_test_split\n",
        "import pdb\n",
        "import datetime\n",
        "from scipy.stats import pearsonr\n",
        "\n",
        "from sklearn.preprocessing import StandardScaler, OneHotEncoder\n",
        "from sklearn.compose import ColumnTransformer\n",
        "from sklearn.metrics import accuracy_score, log_loss, plot_roc_curve, f1_score, precision_score, recall_score\n",
        "from sklearn.model_selection import RandomizedSearchCV\n",
        "import matplotlib\n",
        "from prettytable import PrettyTable\n",
        "from pprint import pprint\n",
        "\n",
        "warnings.filterwarnings(\"ignore\")"
      ]
    },
    {
      "cell_type": "code",
      "source": [
        "from google.colab import drive\n",
        "drive.mount('/content/drive')"
      ],
      "metadata": {
        "colab": {
          "base_uri": "https://localhost:8080/"
        },
        "id": "OykpwfdhHM1U",
        "outputId": "b0ebfad5-0ce8-4c6f-e336-e8b3b2976494"
      },
      "execution_count": 2,
      "outputs": [
        {
          "output_type": "stream",
          "name": "stdout",
          "text": [
            "Mounted at /content/drive\n"
          ]
        }
      ]
    },
    {
      "cell_type": "code",
      "source": [
        "cd /content/drive/MyDrive/Data Camp/Data Camp group project"
      ],
      "metadata": {
        "colab": {
          "base_uri": "https://localhost:8080/"
        },
        "id": "qjuEbtg4HPNf",
        "outputId": "dcbb5619-720c-4a77-bde7-0dbbccc9c8eb"
      },
      "execution_count": 3,
      "outputs": [
        {
          "output_type": "stream",
          "name": "stdout",
          "text": [
            "/content/drive/MyDrive/Data Camp/Data Camp group project\n"
          ]
        }
      ]
    },
    {
      "cell_type": "code",
      "source": [
        ""
      ],
      "metadata": {
        "id": "1Zni-SUMTjuI"
      },
      "execution_count": null,
      "outputs": []
    },
    {
      "cell_type": "code",
      "source": [
        "# !python download_data.py"
      ],
      "metadata": {
        "id": "rYOfW1c6Hlij"
      },
      "execution_count": 12,
      "outputs": []
    },
    {
      "cell_type": "markdown",
      "metadata": {
        "id": "UHaJ_8bTmzGO"
      },
      "source": [
        "## **Importing Data**"
      ]
    },
    {
      "cell_type": "markdown",
      "source": [
        "TO DO LIST : \n",
        "<br>\n",
        "-Treat the address column\n",
        "<br>\n",
        "-Treat year and day columns\n",
        "<br>\n",
        "-normalize the data"
      ],
      "metadata": {
        "id": "J4IXjtXmTfJG"
      }
    },
    {
      "cell_type": "code",
      "execution_count": 29,
      "metadata": {
        "id": "7YB-ueJBk9ti"
      },
      "outputs": [],
      "source": [
        "data = pd.read_csv(\"BitcoinHeistData.csv\")"
      ]
    },
    {
      "cell_type": "code",
      "source": [
        "data.head(n=15)"
      ],
      "metadata": {
        "colab": {
          "base_uri": "https://localhost:8080/",
          "height": 520
        },
        "id": "Eltw-WdVKHB0",
        "outputId": "12b27250-3663-4f5b-ac3a-60c03086f73f"
      },
      "execution_count": 30,
      "outputs": [
        {
          "output_type": "execute_result",
          "data": {
            "text/plain": [
              "                               address  year  day  length        weight  \\\n",
              "0    111K8kZAEnJg245r2cM6y9zgJGHZtJPy6  2017   11      18  8.333333e-03   \n",
              "1   1123pJv8jzeFQaCV4w644pzQJzVWay2zcA  2016  132      44  2.441406e-04   \n",
              "2   112536im7hy6wtKbpH1qYDWtTyMRAcA2p7  2016  246       0  1.000000e+00   \n",
              "3   1126eDRw2wqSkWosjTCre8cjjQW8sSeWH7  2016  322      72  3.906250e-03   \n",
              "4   1129TSjKtx65E35GiUo4AYVeyo48twbrGX  2016  238     144  7.284841e-02   \n",
              "5   112AmFATxzhuSpvtz1hfpa3Zrw3BG276pc  2016   96     144  8.461400e-02   \n",
              "6   112E91jxS2qrQY1z78LPWUWrLVFGqbYPQ1  2016  225     142  2.088519e-03   \n",
              "7   112eFykaD53KEkKeYW9KW8eWebZYSbt2f5  2016  324      78  3.906250e-03   \n",
              "8   112FTiRdJjMrNgEtd4fvdoq3TC33Ah5Dep  2016  298     144  2.302828e+00   \n",
              "9   112GocBgFSnaote6krx828qaockFraD8mp  2016   62     112  3.725290e-09   \n",
              "10  112gXL4AeJ62DX3htuLhBc3MtY5U6X5J28  2013  317       4  7.142857e-03   \n",
              "11  112nEBUadWiMxzUUASNZpQ9AvePtrJVuca  2016  247       0  1.000000e+00   \n",
              "12  112Ns49UobQn1cX1G1axs1cmGvjFBxVxvf  2016  146     144  8.774848e-01   \n",
              "13  112vq2Wt7Mo8RD5jCKMR2PFNxAoT17ffxD  2017    3       4  1.562500e-02   \n",
              "14  112wED5uHhY1aiSaWAzgeMDaCKFcCvj9Pn  2016  158      56  3.051758e-05   \n",
              "\n",
              "    count  looped  neighbors       income                 label  \n",
              "0       1       0          2  100050000.0       princetonCerber  \n",
              "1       1       0          1  100000000.0        princetonLocky  \n",
              "2       1       0          2  200000000.0       princetonCerber  \n",
              "3       1       0          2   71200000.0       princetonCerber  \n",
              "4     456       0          1  200000000.0        princetonLocky  \n",
              "5    2821       0          1   50000000.0        princetonLocky  \n",
              "6     881       0          2  100000000.0       princetonCerber  \n",
              "7       1       0          2  100990000.0       princetonCerber  \n",
              "8    4220       0          2   80000000.0       princetonCerber  \n",
              "9       1       0          1   50000000.0        princetonLocky  \n",
              "10      2       0          1  100000000.0  montrealCryptoLocker  \n",
              "11      1       0          2  108560000.0       princetonCerber  \n",
              "12   4817       0          1  104020000.0      montrealCryptXXX  \n",
              "13      1       0          2   56000000.0       princetonCerber  \n",
              "14      1       0          1  120000000.0      montrealCryptXXX  "
            ],
            "text/html": [
              "\n",
              "  <div id=\"df-f7fc2744-e38a-45b8-a721-cdabca7d104d\">\n",
              "    <div class=\"colab-df-container\">\n",
              "      <div>\n",
              "<style scoped>\n",
              "    .dataframe tbody tr th:only-of-type {\n",
              "        vertical-align: middle;\n",
              "    }\n",
              "\n",
              "    .dataframe tbody tr th {\n",
              "        vertical-align: top;\n",
              "    }\n",
              "\n",
              "    .dataframe thead th {\n",
              "        text-align: right;\n",
              "    }\n",
              "</style>\n",
              "<table border=\"1\" class=\"dataframe\">\n",
              "  <thead>\n",
              "    <tr style=\"text-align: right;\">\n",
              "      <th></th>\n",
              "      <th>address</th>\n",
              "      <th>year</th>\n",
              "      <th>day</th>\n",
              "      <th>length</th>\n",
              "      <th>weight</th>\n",
              "      <th>count</th>\n",
              "      <th>looped</th>\n",
              "      <th>neighbors</th>\n",
              "      <th>income</th>\n",
              "      <th>label</th>\n",
              "    </tr>\n",
              "  </thead>\n",
              "  <tbody>\n",
              "    <tr>\n",
              "      <th>0</th>\n",
              "      <td>111K8kZAEnJg245r2cM6y9zgJGHZtJPy6</td>\n",
              "      <td>2017</td>\n",
              "      <td>11</td>\n",
              "      <td>18</td>\n",
              "      <td>8.333333e-03</td>\n",
              "      <td>1</td>\n",
              "      <td>0</td>\n",
              "      <td>2</td>\n",
              "      <td>100050000.0</td>\n",
              "      <td>princetonCerber</td>\n",
              "    </tr>\n",
              "    <tr>\n",
              "      <th>1</th>\n",
              "      <td>1123pJv8jzeFQaCV4w644pzQJzVWay2zcA</td>\n",
              "      <td>2016</td>\n",
              "      <td>132</td>\n",
              "      <td>44</td>\n",
              "      <td>2.441406e-04</td>\n",
              "      <td>1</td>\n",
              "      <td>0</td>\n",
              "      <td>1</td>\n",
              "      <td>100000000.0</td>\n",
              "      <td>princetonLocky</td>\n",
              "    </tr>\n",
              "    <tr>\n",
              "      <th>2</th>\n",
              "      <td>112536im7hy6wtKbpH1qYDWtTyMRAcA2p7</td>\n",
              "      <td>2016</td>\n",
              "      <td>246</td>\n",
              "      <td>0</td>\n",
              "      <td>1.000000e+00</td>\n",
              "      <td>1</td>\n",
              "      <td>0</td>\n",
              "      <td>2</td>\n",
              "      <td>200000000.0</td>\n",
              "      <td>princetonCerber</td>\n",
              "    </tr>\n",
              "    <tr>\n",
              "      <th>3</th>\n",
              "      <td>1126eDRw2wqSkWosjTCre8cjjQW8sSeWH7</td>\n",
              "      <td>2016</td>\n",
              "      <td>322</td>\n",
              "      <td>72</td>\n",
              "      <td>3.906250e-03</td>\n",
              "      <td>1</td>\n",
              "      <td>0</td>\n",
              "      <td>2</td>\n",
              "      <td>71200000.0</td>\n",
              "      <td>princetonCerber</td>\n",
              "    </tr>\n",
              "    <tr>\n",
              "      <th>4</th>\n",
              "      <td>1129TSjKtx65E35GiUo4AYVeyo48twbrGX</td>\n",
              "      <td>2016</td>\n",
              "      <td>238</td>\n",
              "      <td>144</td>\n",
              "      <td>7.284841e-02</td>\n",
              "      <td>456</td>\n",
              "      <td>0</td>\n",
              "      <td>1</td>\n",
              "      <td>200000000.0</td>\n",
              "      <td>princetonLocky</td>\n",
              "    </tr>\n",
              "    <tr>\n",
              "      <th>5</th>\n",
              "      <td>112AmFATxzhuSpvtz1hfpa3Zrw3BG276pc</td>\n",
              "      <td>2016</td>\n",
              "      <td>96</td>\n",
              "      <td>144</td>\n",
              "      <td>8.461400e-02</td>\n",
              "      <td>2821</td>\n",
              "      <td>0</td>\n",
              "      <td>1</td>\n",
              "      <td>50000000.0</td>\n",
              "      <td>princetonLocky</td>\n",
              "    </tr>\n",
              "    <tr>\n",
              "      <th>6</th>\n",
              "      <td>112E91jxS2qrQY1z78LPWUWrLVFGqbYPQ1</td>\n",
              "      <td>2016</td>\n",
              "      <td>225</td>\n",
              "      <td>142</td>\n",
              "      <td>2.088519e-03</td>\n",
              "      <td>881</td>\n",
              "      <td>0</td>\n",
              "      <td>2</td>\n",
              "      <td>100000000.0</td>\n",
              "      <td>princetonCerber</td>\n",
              "    </tr>\n",
              "    <tr>\n",
              "      <th>7</th>\n",
              "      <td>112eFykaD53KEkKeYW9KW8eWebZYSbt2f5</td>\n",
              "      <td>2016</td>\n",
              "      <td>324</td>\n",
              "      <td>78</td>\n",
              "      <td>3.906250e-03</td>\n",
              "      <td>1</td>\n",
              "      <td>0</td>\n",
              "      <td>2</td>\n",
              "      <td>100990000.0</td>\n",
              "      <td>princetonCerber</td>\n",
              "    </tr>\n",
              "    <tr>\n",
              "      <th>8</th>\n",
              "      <td>112FTiRdJjMrNgEtd4fvdoq3TC33Ah5Dep</td>\n",
              "      <td>2016</td>\n",
              "      <td>298</td>\n",
              "      <td>144</td>\n",
              "      <td>2.302828e+00</td>\n",
              "      <td>4220</td>\n",
              "      <td>0</td>\n",
              "      <td>2</td>\n",
              "      <td>80000000.0</td>\n",
              "      <td>princetonCerber</td>\n",
              "    </tr>\n",
              "    <tr>\n",
              "      <th>9</th>\n",
              "      <td>112GocBgFSnaote6krx828qaockFraD8mp</td>\n",
              "      <td>2016</td>\n",
              "      <td>62</td>\n",
              "      <td>112</td>\n",
              "      <td>3.725290e-09</td>\n",
              "      <td>1</td>\n",
              "      <td>0</td>\n",
              "      <td>1</td>\n",
              "      <td>50000000.0</td>\n",
              "      <td>princetonLocky</td>\n",
              "    </tr>\n",
              "    <tr>\n",
              "      <th>10</th>\n",
              "      <td>112gXL4AeJ62DX3htuLhBc3MtY5U6X5J28</td>\n",
              "      <td>2013</td>\n",
              "      <td>317</td>\n",
              "      <td>4</td>\n",
              "      <td>7.142857e-03</td>\n",
              "      <td>2</td>\n",
              "      <td>0</td>\n",
              "      <td>1</td>\n",
              "      <td>100000000.0</td>\n",
              "      <td>montrealCryptoLocker</td>\n",
              "    </tr>\n",
              "    <tr>\n",
              "      <th>11</th>\n",
              "      <td>112nEBUadWiMxzUUASNZpQ9AvePtrJVuca</td>\n",
              "      <td>2016</td>\n",
              "      <td>247</td>\n",
              "      <td>0</td>\n",
              "      <td>1.000000e+00</td>\n",
              "      <td>1</td>\n",
              "      <td>0</td>\n",
              "      <td>2</td>\n",
              "      <td>108560000.0</td>\n",
              "      <td>princetonCerber</td>\n",
              "    </tr>\n",
              "    <tr>\n",
              "      <th>12</th>\n",
              "      <td>112Ns49UobQn1cX1G1axs1cmGvjFBxVxvf</td>\n",
              "      <td>2016</td>\n",
              "      <td>146</td>\n",
              "      <td>144</td>\n",
              "      <td>8.774848e-01</td>\n",
              "      <td>4817</td>\n",
              "      <td>0</td>\n",
              "      <td>1</td>\n",
              "      <td>104020000.0</td>\n",
              "      <td>montrealCryptXXX</td>\n",
              "    </tr>\n",
              "    <tr>\n",
              "      <th>13</th>\n",
              "      <td>112vq2Wt7Mo8RD5jCKMR2PFNxAoT17ffxD</td>\n",
              "      <td>2017</td>\n",
              "      <td>3</td>\n",
              "      <td>4</td>\n",
              "      <td>1.562500e-02</td>\n",
              "      <td>1</td>\n",
              "      <td>0</td>\n",
              "      <td>2</td>\n",
              "      <td>56000000.0</td>\n",
              "      <td>princetonCerber</td>\n",
              "    </tr>\n",
              "    <tr>\n",
              "      <th>14</th>\n",
              "      <td>112wED5uHhY1aiSaWAzgeMDaCKFcCvj9Pn</td>\n",
              "      <td>2016</td>\n",
              "      <td>158</td>\n",
              "      <td>56</td>\n",
              "      <td>3.051758e-05</td>\n",
              "      <td>1</td>\n",
              "      <td>0</td>\n",
              "      <td>1</td>\n",
              "      <td>120000000.0</td>\n",
              "      <td>montrealCryptXXX</td>\n",
              "    </tr>\n",
              "  </tbody>\n",
              "</table>\n",
              "</div>\n",
              "      <button class=\"colab-df-convert\" onclick=\"convertToInteractive('df-f7fc2744-e38a-45b8-a721-cdabca7d104d')\"\n",
              "              title=\"Convert this dataframe to an interactive table.\"\n",
              "              style=\"display:none;\">\n",
              "        \n",
              "  <svg xmlns=\"http://www.w3.org/2000/svg\" height=\"24px\"viewBox=\"0 0 24 24\"\n",
              "       width=\"24px\">\n",
              "    <path d=\"M0 0h24v24H0V0z\" fill=\"none\"/>\n",
              "    <path d=\"M18.56 5.44l.94 2.06.94-2.06 2.06-.94-2.06-.94-.94-2.06-.94 2.06-2.06.94zm-11 1L8.5 8.5l.94-2.06 2.06-.94-2.06-.94L8.5 2.5l-.94 2.06-2.06.94zm10 10l.94 2.06.94-2.06 2.06-.94-2.06-.94-.94-2.06-.94 2.06-2.06.94z\"/><path d=\"M17.41 7.96l-1.37-1.37c-.4-.4-.92-.59-1.43-.59-.52 0-1.04.2-1.43.59L10.3 9.45l-7.72 7.72c-.78.78-.78 2.05 0 2.83L4 21.41c.39.39.9.59 1.41.59.51 0 1.02-.2 1.41-.59l7.78-7.78 2.81-2.81c.8-.78.8-2.07 0-2.86zM5.41 20L4 18.59l7.72-7.72 1.47 1.35L5.41 20z\"/>\n",
              "  </svg>\n",
              "      </button>\n",
              "      \n",
              "  <style>\n",
              "    .colab-df-container {\n",
              "      display:flex;\n",
              "      flex-wrap:wrap;\n",
              "      gap: 12px;\n",
              "    }\n",
              "\n",
              "    .colab-df-convert {\n",
              "      background-color: #E8F0FE;\n",
              "      border: none;\n",
              "      border-radius: 50%;\n",
              "      cursor: pointer;\n",
              "      display: none;\n",
              "      fill: #1967D2;\n",
              "      height: 32px;\n",
              "      padding: 0 0 0 0;\n",
              "      width: 32px;\n",
              "    }\n",
              "\n",
              "    .colab-df-convert:hover {\n",
              "      background-color: #E2EBFA;\n",
              "      box-shadow: 0px 1px 2px rgba(60, 64, 67, 0.3), 0px 1px 3px 1px rgba(60, 64, 67, 0.15);\n",
              "      fill: #174EA6;\n",
              "    }\n",
              "\n",
              "    [theme=dark] .colab-df-convert {\n",
              "      background-color: #3B4455;\n",
              "      fill: #D2E3FC;\n",
              "    }\n",
              "\n",
              "    [theme=dark] .colab-df-convert:hover {\n",
              "      background-color: #434B5C;\n",
              "      box-shadow: 0px 1px 3px 1px rgba(0, 0, 0, 0.15);\n",
              "      filter: drop-shadow(0px 1px 2px rgba(0, 0, 0, 0.3));\n",
              "      fill: #FFFFFF;\n",
              "    }\n",
              "  </style>\n",
              "\n",
              "      <script>\n",
              "        const buttonEl =\n",
              "          document.querySelector('#df-f7fc2744-e38a-45b8-a721-cdabca7d104d button.colab-df-convert');\n",
              "        buttonEl.style.display =\n",
              "          google.colab.kernel.accessAllowed ? 'block' : 'none';\n",
              "\n",
              "        async function convertToInteractive(key) {\n",
              "          const element = document.querySelector('#df-f7fc2744-e38a-45b8-a721-cdabca7d104d');\n",
              "          const dataTable =\n",
              "            await google.colab.kernel.invokeFunction('convertToInteractive',\n",
              "                                                     [key], {});\n",
              "          if (!dataTable) return;\n",
              "\n",
              "          const docLinkHtml = 'Like what you see? Visit the ' +\n",
              "            '<a target=\"_blank\" href=https://colab.research.google.com/notebooks/data_table.ipynb>data table notebook</a>'\n",
              "            + ' to learn more about interactive tables.';\n",
              "          element.innerHTML = '';\n",
              "          dataTable['output_type'] = 'display_data';\n",
              "          await google.colab.output.renderOutput(dataTable, element);\n",
              "          const docLink = document.createElement('div');\n",
              "          docLink.innerHTML = docLinkHtml;\n",
              "          element.appendChild(docLink);\n",
              "        }\n",
              "      </script>\n",
              "    </div>\n",
              "  </div>\n",
              "  "
            ]
          },
          "metadata": {},
          "execution_count": 30
        }
      ]
    },
    {
      "cell_type": "code",
      "execution_count": 18,
      "metadata": {
        "colab": {
          "base_uri": "https://localhost:8080/",
          "height": 300
        },
        "id": "FandWkKDn_Cc",
        "outputId": "2f313bea-4e6c-4cc3-dd6c-b73958ef092d"
      },
      "outputs": [
        {
          "output_type": "execute_result",
          "data": {
            "text/plain": [
              "               year           day        length        weight         count  \\\n",
              "count  2.916697e+06  2.916697e+06  2.916697e+06  2.916697e+06  2.916697e+06   \n",
              "mean   2.014475e+03  1.814572e+02  4.500859e+01  5.455192e-01  7.216446e+02   \n",
              "std    2.257398e+00  1.040118e+02  5.898236e+01  3.674255e+00  1.689676e+03   \n",
              "min    2.011000e+03  1.000000e+00  0.000000e+00  3.606469e-94  1.000000e+00   \n",
              "25%    2.013000e+03  9.200000e+01  2.000000e+00  2.148438e-02  1.000000e+00   \n",
              "50%    2.014000e+03  1.810000e+02  8.000000e+00  2.500000e-01  1.000000e+00   \n",
              "75%    2.016000e+03  2.710000e+02  1.080000e+02  8.819482e-01  5.600000e+01   \n",
              "max    2.018000e+03  3.650000e+02  1.440000e+02  1.943749e+03  1.449700e+04   \n",
              "\n",
              "             looped     neighbors        income  \n",
              "count  2.916697e+06  2.916697e+06  2.916697e+06  \n",
              "mean   2.385067e+02  2.206516e+00  4.464889e+09  \n",
              "std    9.663217e+02  1.791877e+01  1.626860e+11  \n",
              "min    0.000000e+00  1.000000e+00  3.000000e+07  \n",
              "25%    0.000000e+00  1.000000e+00  7.428559e+07  \n",
              "50%    0.000000e+00  2.000000e+00  1.999985e+08  \n",
              "75%    0.000000e+00  2.000000e+00  9.940000e+08  \n",
              "max    1.449600e+04  1.292000e+04  4.996440e+13  "
            ],
            "text/html": [
              "\n",
              "  <div id=\"df-7a6bc447-80d7-4856-a75b-bffd3ff79b42\">\n",
              "    <div class=\"colab-df-container\">\n",
              "      <div>\n",
              "<style scoped>\n",
              "    .dataframe tbody tr th:only-of-type {\n",
              "        vertical-align: middle;\n",
              "    }\n",
              "\n",
              "    .dataframe tbody tr th {\n",
              "        vertical-align: top;\n",
              "    }\n",
              "\n",
              "    .dataframe thead th {\n",
              "        text-align: right;\n",
              "    }\n",
              "</style>\n",
              "<table border=\"1\" class=\"dataframe\">\n",
              "  <thead>\n",
              "    <tr style=\"text-align: right;\">\n",
              "      <th></th>\n",
              "      <th>year</th>\n",
              "      <th>day</th>\n",
              "      <th>length</th>\n",
              "      <th>weight</th>\n",
              "      <th>count</th>\n",
              "      <th>looped</th>\n",
              "      <th>neighbors</th>\n",
              "      <th>income</th>\n",
              "    </tr>\n",
              "  </thead>\n",
              "  <tbody>\n",
              "    <tr>\n",
              "      <th>count</th>\n",
              "      <td>2.916697e+06</td>\n",
              "      <td>2.916697e+06</td>\n",
              "      <td>2.916697e+06</td>\n",
              "      <td>2.916697e+06</td>\n",
              "      <td>2.916697e+06</td>\n",
              "      <td>2.916697e+06</td>\n",
              "      <td>2.916697e+06</td>\n",
              "      <td>2.916697e+06</td>\n",
              "    </tr>\n",
              "    <tr>\n",
              "      <th>mean</th>\n",
              "      <td>2.014475e+03</td>\n",
              "      <td>1.814572e+02</td>\n",
              "      <td>4.500859e+01</td>\n",
              "      <td>5.455192e-01</td>\n",
              "      <td>7.216446e+02</td>\n",
              "      <td>2.385067e+02</td>\n",
              "      <td>2.206516e+00</td>\n",
              "      <td>4.464889e+09</td>\n",
              "    </tr>\n",
              "    <tr>\n",
              "      <th>std</th>\n",
              "      <td>2.257398e+00</td>\n",
              "      <td>1.040118e+02</td>\n",
              "      <td>5.898236e+01</td>\n",
              "      <td>3.674255e+00</td>\n",
              "      <td>1.689676e+03</td>\n",
              "      <td>9.663217e+02</td>\n",
              "      <td>1.791877e+01</td>\n",
              "      <td>1.626860e+11</td>\n",
              "    </tr>\n",
              "    <tr>\n",
              "      <th>min</th>\n",
              "      <td>2.011000e+03</td>\n",
              "      <td>1.000000e+00</td>\n",
              "      <td>0.000000e+00</td>\n",
              "      <td>3.606469e-94</td>\n",
              "      <td>1.000000e+00</td>\n",
              "      <td>0.000000e+00</td>\n",
              "      <td>1.000000e+00</td>\n",
              "      <td>3.000000e+07</td>\n",
              "    </tr>\n",
              "    <tr>\n",
              "      <th>25%</th>\n",
              "      <td>2.013000e+03</td>\n",
              "      <td>9.200000e+01</td>\n",
              "      <td>2.000000e+00</td>\n",
              "      <td>2.148438e-02</td>\n",
              "      <td>1.000000e+00</td>\n",
              "      <td>0.000000e+00</td>\n",
              "      <td>1.000000e+00</td>\n",
              "      <td>7.428559e+07</td>\n",
              "    </tr>\n",
              "    <tr>\n",
              "      <th>50%</th>\n",
              "      <td>2.014000e+03</td>\n",
              "      <td>1.810000e+02</td>\n",
              "      <td>8.000000e+00</td>\n",
              "      <td>2.500000e-01</td>\n",
              "      <td>1.000000e+00</td>\n",
              "      <td>0.000000e+00</td>\n",
              "      <td>2.000000e+00</td>\n",
              "      <td>1.999985e+08</td>\n",
              "    </tr>\n",
              "    <tr>\n",
              "      <th>75%</th>\n",
              "      <td>2.016000e+03</td>\n",
              "      <td>2.710000e+02</td>\n",
              "      <td>1.080000e+02</td>\n",
              "      <td>8.819482e-01</td>\n",
              "      <td>5.600000e+01</td>\n",
              "      <td>0.000000e+00</td>\n",
              "      <td>2.000000e+00</td>\n",
              "      <td>9.940000e+08</td>\n",
              "    </tr>\n",
              "    <tr>\n",
              "      <th>max</th>\n",
              "      <td>2.018000e+03</td>\n",
              "      <td>3.650000e+02</td>\n",
              "      <td>1.440000e+02</td>\n",
              "      <td>1.943749e+03</td>\n",
              "      <td>1.449700e+04</td>\n",
              "      <td>1.449600e+04</td>\n",
              "      <td>1.292000e+04</td>\n",
              "      <td>4.996440e+13</td>\n",
              "    </tr>\n",
              "  </tbody>\n",
              "</table>\n",
              "</div>\n",
              "      <button class=\"colab-df-convert\" onclick=\"convertToInteractive('df-7a6bc447-80d7-4856-a75b-bffd3ff79b42')\"\n",
              "              title=\"Convert this dataframe to an interactive table.\"\n",
              "              style=\"display:none;\">\n",
              "        \n",
              "  <svg xmlns=\"http://www.w3.org/2000/svg\" height=\"24px\"viewBox=\"0 0 24 24\"\n",
              "       width=\"24px\">\n",
              "    <path d=\"M0 0h24v24H0V0z\" fill=\"none\"/>\n",
              "    <path d=\"M18.56 5.44l.94 2.06.94-2.06 2.06-.94-2.06-.94-.94-2.06-.94 2.06-2.06.94zm-11 1L8.5 8.5l.94-2.06 2.06-.94-2.06-.94L8.5 2.5l-.94 2.06-2.06.94zm10 10l.94 2.06.94-2.06 2.06-.94-2.06-.94-.94-2.06-.94 2.06-2.06.94z\"/><path d=\"M17.41 7.96l-1.37-1.37c-.4-.4-.92-.59-1.43-.59-.52 0-1.04.2-1.43.59L10.3 9.45l-7.72 7.72c-.78.78-.78 2.05 0 2.83L4 21.41c.39.39.9.59 1.41.59.51 0 1.02-.2 1.41-.59l7.78-7.78 2.81-2.81c.8-.78.8-2.07 0-2.86zM5.41 20L4 18.59l7.72-7.72 1.47 1.35L5.41 20z\"/>\n",
              "  </svg>\n",
              "      </button>\n",
              "      \n",
              "  <style>\n",
              "    .colab-df-container {\n",
              "      display:flex;\n",
              "      flex-wrap:wrap;\n",
              "      gap: 12px;\n",
              "    }\n",
              "\n",
              "    .colab-df-convert {\n",
              "      background-color: #E8F0FE;\n",
              "      border: none;\n",
              "      border-radius: 50%;\n",
              "      cursor: pointer;\n",
              "      display: none;\n",
              "      fill: #1967D2;\n",
              "      height: 32px;\n",
              "      padding: 0 0 0 0;\n",
              "      width: 32px;\n",
              "    }\n",
              "\n",
              "    .colab-df-convert:hover {\n",
              "      background-color: #E2EBFA;\n",
              "      box-shadow: 0px 1px 2px rgba(60, 64, 67, 0.3), 0px 1px 3px 1px rgba(60, 64, 67, 0.15);\n",
              "      fill: #174EA6;\n",
              "    }\n",
              "\n",
              "    [theme=dark] .colab-df-convert {\n",
              "      background-color: #3B4455;\n",
              "      fill: #D2E3FC;\n",
              "    }\n",
              "\n",
              "    [theme=dark] .colab-df-convert:hover {\n",
              "      background-color: #434B5C;\n",
              "      box-shadow: 0px 1px 3px 1px rgba(0, 0, 0, 0.15);\n",
              "      filter: drop-shadow(0px 1px 2px rgba(0, 0, 0, 0.3));\n",
              "      fill: #FFFFFF;\n",
              "    }\n",
              "  </style>\n",
              "\n",
              "      <script>\n",
              "        const buttonEl =\n",
              "          document.querySelector('#df-7a6bc447-80d7-4856-a75b-bffd3ff79b42 button.colab-df-convert');\n",
              "        buttonEl.style.display =\n",
              "          google.colab.kernel.accessAllowed ? 'block' : 'none';\n",
              "\n",
              "        async function convertToInteractive(key) {\n",
              "          const element = document.querySelector('#df-7a6bc447-80d7-4856-a75b-bffd3ff79b42');\n",
              "          const dataTable =\n",
              "            await google.colab.kernel.invokeFunction('convertToInteractive',\n",
              "                                                     [key], {});\n",
              "          if (!dataTable) return;\n",
              "\n",
              "          const docLinkHtml = 'Like what you see? Visit the ' +\n",
              "            '<a target=\"_blank\" href=https://colab.research.google.com/notebooks/data_table.ipynb>data table notebook</a>'\n",
              "            + ' to learn more about interactive tables.';\n",
              "          element.innerHTML = '';\n",
              "          dataTable['output_type'] = 'display_data';\n",
              "          await google.colab.output.renderOutput(dataTable, element);\n",
              "          const docLink = document.createElement('div');\n",
              "          docLink.innerHTML = docLinkHtml;\n",
              "          element.appendChild(docLink);\n",
              "        }\n",
              "      </script>\n",
              "    </div>\n",
              "  </div>\n",
              "  "
            ]
          },
          "metadata": {},
          "execution_count": 18
        }
      ],
      "source": [
        "# Global view for the data\n",
        "data.describe()"
      ]
    },
    {
      "cell_type": "markdown",
      "metadata": {
        "id": "yaBAV7uenxM-"
      },
      "source": [
        "## **Feature Engineering**"
      ]
    },
    {
      "cell_type": "markdown",
      "source": [
        "Checking missing values"
      ],
      "metadata": {
        "id": "ccI-6OG8S1Ui"
      }
    },
    {
      "cell_type": "code",
      "execution_count": 21,
      "metadata": {
        "id": "Auxc3KBPZ5sA",
        "colab": {
          "base_uri": "https://localhost:8080/"
        },
        "outputId": "917e4d73-cce3-40a0-bc12-230b4db4dff8"
      },
      "outputs": [
        {
          "output_type": "stream",
          "name": "stdout",
          "text": [
            "<class 'pandas.core.frame.DataFrame'>\n",
            "RangeIndex: 2916697 entries, 0 to 2916696\n",
            "Data columns (total 10 columns):\n",
            " #   Column     Dtype  \n",
            "---  ------     -----  \n",
            " 0   address    object \n",
            " 1   year       int64  \n",
            " 2   day        int64  \n",
            " 3   length     int64  \n",
            " 4   weight     float64\n",
            " 5   count      int64  \n",
            " 6   looped     int64  \n",
            " 7   neighbors  int64  \n",
            " 8   income     float64\n",
            " 9   label      object \n",
            "dtypes: float64(2), int64(6), object(2)\n",
            "memory usage: 222.5+ MB\n"
          ]
        }
      ],
      "source": [
        "data.info()"
      ]
    },
    {
      "cell_type": "code",
      "source": [
        "data.isnull().sum()"
      ],
      "metadata": {
        "colab": {
          "base_uri": "https://localhost:8080/"
        },
        "id": "vLO6_YOwPYpu",
        "outputId": "03551cf4-cd2d-4d8c-eb3d-8f9da778d800"
      },
      "execution_count": 22,
      "outputs": [
        {
          "output_type": "execute_result",
          "data": {
            "text/plain": [
              "address      0\n",
              "year         0\n",
              "day          0\n",
              "length       0\n",
              "weight       0\n",
              "count        0\n",
              "looped       0\n",
              "neighbors    0\n",
              "income       0\n",
              "label        0\n",
              "dtype: int64"
            ]
          },
          "metadata": {},
          "execution_count": 22
        }
      ]
    },
    {
      "cell_type": "code",
      "source": [
        "data[data.isnull().any(axis=\"columns\")].style.highlight_null()"
      ],
      "metadata": {
        "colab": {
          "base_uri": "https://localhost:8080/",
          "height": 50
        },
        "id": "wKU-1w_FPYtK",
        "outputId": "85cf72b0-5933-48c4-ddce-9c574c040f16"
      },
      "execution_count": 24,
      "outputs": [
        {
          "output_type": "execute_result",
          "data": {
            "text/plain": [
              "<pandas.io.formats.style.Styler at 0x7ffa69971c90>"
            ],
            "text/html": [
              "<style type=\"text/css\">\n",
              "</style>\n",
              "<table id=\"T_62b20_\" class=\"dataframe\">\n",
              "  <thead>\n",
              "    <tr>\n",
              "      <th class=\"blank level0\" >&nbsp;</th>\n",
              "      <th class=\"col_heading level0 col0\" >address</th>\n",
              "      <th class=\"col_heading level0 col1\" >year</th>\n",
              "      <th class=\"col_heading level0 col2\" >day</th>\n",
              "      <th class=\"col_heading level0 col3\" >length</th>\n",
              "      <th class=\"col_heading level0 col4\" >weight</th>\n",
              "      <th class=\"col_heading level0 col5\" >count</th>\n",
              "      <th class=\"col_heading level0 col6\" >looped</th>\n",
              "      <th class=\"col_heading level0 col7\" >neighbors</th>\n",
              "      <th class=\"col_heading level0 col8\" >income</th>\n",
              "      <th class=\"col_heading level0 col9\" >label</th>\n",
              "    </tr>\n",
              "  </thead>\n",
              "  <tbody>\n",
              "  </tbody>\n",
              "</table>\n"
            ]
          },
          "metadata": {},
          "execution_count": 24
        }
      ]
    },
    {
      "cell_type": "code",
      "source": [
        "income = data['income'].copy()\n",
        "np.isnan(income).sum()"
      ],
      "metadata": {
        "colab": {
          "base_uri": "https://localhost:8080/"
        },
        "id": "CPvnwNIZRaXQ",
        "outputId": "d7c3513a-b531-46ac-d19a-4b4006b21b44"
      },
      "execution_count": 26,
      "outputs": [
        {
          "output_type": "execute_result",
          "data": {
            "text/plain": [
              "0"
            ]
          },
          "metadata": {},
          "execution_count": 26
        }
      ]
    },
    {
      "cell_type": "markdown",
      "source": [
        "Treating columns day and year"
      ],
      "metadata": {
        "id": "nGHKOLB3S4b1"
      }
    },
    {
      "cell_type": "markdown",
      "source": [
        "We create a function that given the year and the day in that year, outputs the day/month/year corresponding\n",
        "<br>\n",
        "For example, (year:2016, day:132) => (12/05/2016))"
      ],
      "metadata": {
        "id": "tIMg-rbXWBWo"
      }
    },
    {
      "cell_type": "code",
      "source": [
        "import datetime\n",
        "\n",
        "year = 1996\n",
        "days = 32\n",
        "\n",
        "date = datetime.date(year, 1, 1) #Will give 1996-01-01\n",
        "delta = datetime.timedelta(days - 1) #str(delta) will be '31 days, 0:00:00'\n",
        "newdate = date + delta\n",
        "\n",
        "str(newdate)"
      ],
      "metadata": {
        "colab": {
          "base_uri": "https://localhost:8080/",
          "height": 35
        },
        "id": "J29YnkUERzKn",
        "outputId": "451f26ac-c5e7-446d-f1b5-8cd96587d181"
      },
      "execution_count": 34,
      "outputs": [
        {
          "output_type": "execute_result",
          "data": {
            "text/plain": [
              "'1996-02-01'"
            ],
            "application/vnd.google.colaboratory.intrinsic+json": {
              "type": "string"
            }
          },
          "metadata": {},
          "execution_count": 34
        }
      ]
    },
    {
      "cell_type": "code",
      "source": [
        "years = np.array(data['year'].copy())\n",
        "days = np.array(data['day'].copy())\n",
        "years_and_days = np.zeros((len(years), 2))\n",
        "years_and_days[:,0] = years\n",
        "years_and_days[:,1] = days"
      ],
      "metadata": {
        "id": "cfzzMz4EYxKj"
      },
      "execution_count": 57,
      "outputs": []
    },
    {
      "cell_type": "code",
      "source": [
        "# dates = []\n",
        "# for year, day in years_and_days:\n",
        "#   year = int(year)\n",
        "#   days = int(day)\n",
        "#   date = datetime.date(year, 1, 1) \n",
        "#   delta = datetime.timedelta(days - 1) #str(delta) will be '31 days, 0:00:00'\n",
        "#   newdate = date + delta\n",
        "#   dates = dates + [newdate]"
      ],
      "metadata": {
        "id": "--OQ64VkZQ9E"
      },
      "execution_count": 61,
      "outputs": []
    },
    {
      "cell_type": "code",
      "source": [
        "# sub_data = data[['year', 'day']]"
      ],
      "metadata": {
        "id": "S6PoWVPqZv_I"
      },
      "execution_count": 74,
      "outputs": []
    },
    {
      "cell_type": "code",
      "source": [
        "# sub_data_modif = sub_data.drop_duplicates()"
      ],
      "metadata": {
        "id": "9jnaHQAPdk6F"
      },
      "execution_count": 75,
      "outputs": []
    },
    {
      "cell_type": "code",
      "source": [
        "# sub_data_modif"
      ],
      "metadata": {
        "id": "L-UY4AV5fES6"
      },
      "execution_count": 76,
      "outputs": []
    },
    {
      "cell_type": "code",
      "source": [
        "from datetime import date, datetime"
      ],
      "metadata": {
        "id": "4ix0v4ap9fzZ"
      },
      "execution_count": 79,
      "outputs": []
    },
    {
      "cell_type": "code",
      "source": [
        "dat_temp = []\n",
        "for i in range(data.shape[0]):\n",
        "    aux = date.fromordinal(date(data['year'][i], 1, 1).toordinal() + data['day'][i]  - 1).strftime('%d/%m/%Y')\n",
        "    dat_temp.append(aux)\n",
        "data['time'] = dat_temp\n",
        "data['time'] = pd.to_datetime(data['time'])"
      ],
      "metadata": {
        "id": "KqVXqVXmgFQA"
      },
      "execution_count": 80,
      "outputs": []
    },
    {
      "cell_type": "code",
      "source": [
        "data.pop('day')\n",
        "data.pop('year')"
      ],
      "metadata": {
        "colab": {
          "base_uri": "https://localhost:8080/"
        },
        "id": "Gs0DV37p9NJQ",
        "outputId": "595f29da-8f11-4bb7-c2e1-141da8cab16d"
      },
      "execution_count": 83,
      "outputs": [
        {
          "output_type": "execute_result",
          "data": {
            "text/plain": [
              "0          2017\n",
              "1          2016\n",
              "2          2016\n",
              "3          2016\n",
              "4          2016\n",
              "           ... \n",
              "2916692    2018\n",
              "2916693    2018\n",
              "2916694    2018\n",
              "2916695    2018\n",
              "2916696    2018\n",
              "Name: year, Length: 2916697, dtype: int64"
            ]
          },
          "metadata": {},
          "execution_count": 83
        }
      ]
    },
    {
      "cell_type": "code",
      "source": [
        "data.pop('address')"
      ],
      "metadata": {
        "colab": {
          "base_uri": "https://localhost:8080/"
        },
        "id": "3BENl-vC-m_A",
        "outputId": "cb5aacbd-4d47-43c0-f5c9-24aed2a8b48f"
      },
      "execution_count": 85,
      "outputs": [
        {
          "output_type": "execute_result",
          "data": {
            "text/plain": [
              "0           111K8kZAEnJg245r2cM6y9zgJGHZtJPy6\n",
              "1          1123pJv8jzeFQaCV4w644pzQJzVWay2zcA\n",
              "2          112536im7hy6wtKbpH1qYDWtTyMRAcA2p7\n",
              "3          1126eDRw2wqSkWosjTCre8cjjQW8sSeWH7\n",
              "4          1129TSjKtx65E35GiUo4AYVeyo48twbrGX\n",
              "                          ...                \n",
              "2916692    12D3trgho1vJ4mGtWBRPyHdMJK96TRYSry\n",
              "2916693    1P7PputTcVkhXBmXBvSD9MJ3UYPsiou1u2\n",
              "2916694    1KYiKJEfdJtap9QX2v9BXJMpz2SfU4pgZw\n",
              "2916695    15iPUJsRNZQZHmZZVwmQ63srsmughCXV4a\n",
              "2916696    3LFFBxp15h9KSFtaw55np8eP5fv6kdK17e\n",
              "Name: address, Length: 2916697, dtype: object"
            ]
          },
          "metadata": {},
          "execution_count": 85
        }
      ]
    },
    {
      "cell_type": "code",
      "source": [
        "y = data.pop('label')"
      ],
      "metadata": {
        "id": "AhI4KLFv_a6K"
      },
      "execution_count": 88,
      "outputs": []
    },
    {
      "cell_type": "code",
      "source": [
        "cnt_featnames = ['length', 'weight', 'count', 'looped', 'neighbors', 'income']\n",
        "date_featnames = ['time']"
      ],
      "metadata": {
        "id": "YH7xj3lS_Zg4"
      },
      "execution_count": 89,
      "outputs": []
    },
    {
      "cell_type": "code",
      "source": [
        "from sklearn.base import TransformerMixin, BaseEstimator\n",
        "from sklearn.preprocessing import StandardScaler\n",
        "from sklearn.compose import ColumnTransformer\n",
        "from sklearn.pipeline import Pipeline\n",
        "from pandas import Timestamp\n",
        "\n",
        "# First we create a scikit-learn encoder that computes \n",
        "#  the age in days of columns containing dates\n",
        "class AgeEncoder(TransformerMixin, BaseEstimator):\n",
        "    def fit(self, X, y=None):\n",
        "        self.today = Timestamp.today()\n",
        "        return self\n",
        "\n",
        "    def transform(self, X):\n",
        "        return X.apply(lambda x: (x - self.today).dt.days, axis=0)\n",
        "\n",
        "# Centers and reduces (variance=1) columns\n",
        "standard_scaler = StandardScaler()\n",
        "\n",
        "# One-hot encode, similar to pd.get_dummies\n",
        "# one_hot_encoder = OneHotEncoder(drop='first', sparse=False)\n",
        "\n",
        "# A pipeline that first computes age, and standardizes it\n",
        "scaled_age_encoder = Pipeline([\n",
        "    ('age', AgeEncoder()),\n",
        "    ('scaling', StandardScaler())\n",
        "])\n",
        "\n",
        "# Let's combine all these transformations\n",
        "transformer = ColumnTransformer([\n",
        "    ('standard_scaling', standard_scaler, cnt_featnames),\n",
        "    ('dates_age_scaled', scaled_age_encoder, date_featnames)\n",
        "])\n",
        "\n",
        "data_prep = transformer.fit_transform(data)"
      ],
      "metadata": {
        "id": "xlhEWqHR-tBm"
      },
      "execution_count": 90,
      "outputs": []
    },
    {
      "cell_type": "code",
      "source": [
        ""
      ],
      "metadata": {
        "id": "eDWpvgDM_0xz"
      },
      "execution_count": null,
      "outputs": []
    }
  ],
  "metadata": {
    "colab": {
      "collapsed_sections": [],
      "name": "Construction feature extractor.ipynb",
      "provenance": []
    },
    "kernelspec": {
      "display_name": "Python 3",
      "name": "python3"
    },
    "language_info": {
      "codemirror_mode": {
        "name": "ipython",
        "version": 3
      },
      "file_extension": ".py",
      "mimetype": "text/x-python",
      "name": "python",
      "nbconvert_exporter": "python",
      "pygments_lexer": "ipython3",
      "version": "3.10.2"
    }
  },
  "nbformat": 4,
  "nbformat_minor": 0
}