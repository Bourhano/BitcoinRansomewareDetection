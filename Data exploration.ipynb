{
  "nbformat": 4,
  "nbformat_minor": 0,
  "metadata": {
    "colab": {
      "name": "DataCamp.ipynb",
      "provenance": [],
      "collapsed_sections": []
    },
    "kernelspec": {
      "name": "python3",
      "display_name": "Python 3"
    },
    "language_info": {
      "name": "python"
    }
  },
  "cells": [
    {
      "cell_type": "code",
      "execution_count": null,
      "metadata": {
        "id": "iYADdjcEH_ay"
      },
      "outputs": [],
      "source": [
        "import os\n",
        "import warnings\n",
        "import pickle\n",
        "import pandas as pd\n",
        "import numpy as np\n",
        "\n",
        "import matplotlib.pyplot as plt\n",
        "import seaborn as sns\n",
        "from scipy.stats import boxcox\n",
        "from tqdm.notebook import tqdm\n",
        "\n",
        "from sklearn.model_selection import train_test_split\n",
        "import pdb\n",
        "import datetime\n",
        "from scipy.stats import pearsonr\n",
        "\n",
        "from sklearn.preprocessing import StandardScaler, OneHotEncoder\n",
        "from sklearn.compose import ColumnTransformer\n",
        "from sklearn.metrics import accuracy_score, log_loss, plot_roc_curve, f1_score, precision_score, recall_score\n",
        "from sklearn.model_selection import RandomizedSearchCV\n",
        "import matplotlib\n",
        "from prettytable import PrettyTable\n",
        "from pprint import pprint\n",
        "\n",
        "warnings.filterwarnings(\"ignore\")"
      ]
    },
    {
      "cell_type": "markdown",
      "source": [
        "## Exploratory Data Analysis"
      ],
      "metadata": {
        "id": "YJs_Ti-4JwCY"
      }
    },
    {
      "cell_type": "markdown",
      "source": [
        "We'll use the download_data script in order to download our BitcoinHeist data.\n"
      ],
      "metadata": {
        "id": "xQ8K3gpqJ2s6"
      }
    },
    {
      "cell_type": "code",
      "source": [
        "!python download_data.py"
      ],
      "metadata": {
        "id": "d7-riRkwJmAF"
      },
      "execution_count": null,
      "outputs": []
    },
    {
      "cell_type": "markdown",
      "source": [
        "### Loading the data"
      ],
      "metadata": {
        "id": "y2mi2Gd4KySm"
      }
    },
    {
      "cell_type": "markdown",
      "source": [
        "We have 2916697 examples in hand that we split into training and testing datasets as follows :\n",
        "\n",
        "\n",
        "*   The training dataset contains 75% of the original dataset. It is accessible in CSV format under the train folder.\n",
        "\n",
        "*   The testing dataset contains 25% of the original dataset. It is accessible in CSV format under the test folder.\n",
        "\n"
      ],
      "metadata": {
        "id": "f_QH__V2K7y0"
      }
    },
    {
      "cell_type": "markdown",
      "source": [
        "The next function allows us to load the training and testing datasets."
      ],
      "metadata": {
        "id": "TncLN8I0OQL9"
      }
    },
    {
      "cell_type": "code",
      "source": [
        "from glob import glob\n",
        "\n",
        "def get_file_list_from_dir(*, path, datadir):\n",
        "    data_files = sorted(glob(os.path.join(path, \"data\", datadir, \"*.csv.gz\")))\n",
        "    return data_files"
      ],
      "metadata": {
        "id": "PaXAYM2AJWex"
      },
      "execution_count": 1,
      "outputs": []
    },
    {
      "cell_type": "code",
      "source": [
        "#Loading the training dataset\n",
        "train_files = get_file_list_from_dir(path=\".\", datadir=\"train\")\n",
        "dtrain = pd.concat((pd.read_csv(f) for f in train_files))\n",
        "\n",
        "#Loading the testing dataset\n",
        "test_files = get_file_list_from_dir(path=\".\", datadir=\"test\")\n",
        "dtest = pd.concat((pd.read_csv(f) for f in test_files))\n"
      ],
      "metadata": {
        "id": "HH7e_fXvOpOu"
      },
      "execution_count": null,
      "outputs": []
    },
    {
      "cell_type": "code",
      "source": [
        "dtrain.head()"
      ],
      "metadata": {
        "id": "ePUtPYfJPyvX"
      },
      "execution_count": null,
      "outputs": []
    },
    {
      "cell_type": "code",
      "source": [
        "dtrain.shape # the training dataframe has 2 187 523 rows and 10 columns"
      ],
      "metadata": {
        "id": "28qEZcJaKJkU"
      },
      "execution_count": 2,
      "outputs": []
    },
    {
      "cell_type": "code",
      "source": [
        "dtest.head()"
      ],
      "metadata": {
        "id": "8mIP5WJqP1vM"
      },
      "execution_count": null,
      "outputs": []
    },
    {
      "cell_type": "code",
      "source": [
        "dtest.shape # the testing dataframe has 729 174 rows and 10 columns"
      ],
      "metadata": {
        "id": "lzs39JStP6ky"
      },
      "execution_count": null,
      "outputs": []
    },
    {
      "cell_type": "code",
      "source": [
        "print(dtrain.columns) #the names of the columns"
      ],
      "metadata": {
        "colab": {
          "base_uri": "https://localhost:8080/"
        },
        "id": "7JDSarIlSyq7",
        "outputId": "2229c089-50bd-45f7-cfc8-e9d3b9bbf2c1"
      },
      "execution_count": null,
      "outputs": [
        {
          "output_type": "stream",
          "name": "stdout",
          "text": [
            "Index(['address', 'year', 'day', 'length', 'weight', 'count', 'looped',\n",
            "       'neighbors', 'income', 'label'],\n",
            "      dtype='object')\n"
          ]
        }
      ]
    },
    {
      "cell_type": "code",
      "source": [
        "dtrain.info()"
      ],
      "metadata": {
        "colab": {
          "base_uri": "https://localhost:8080/"
        },
        "id": "bD58Kn2KLe3_",
        "outputId": "e1d6f286-b859-4ae4-b83a-faa8f1596934"
      },
      "execution_count": null,
      "outputs": [
        {
          "output_type": "stream",
          "name": "stdout",
          "text": [
            "<class 'pandas.core.frame.DataFrame'>\n",
            "RangeIndex: 2916697 entries, 0 to 2916696\n",
            "Data columns (total 10 columns):\n",
            " #   Column     Dtype  \n",
            "---  ------     -----  \n",
            " 0   address    object \n",
            " 1   year       int64  \n",
            " 2   day        int64  \n",
            " 3   length     int64  \n",
            " 4   weight     float64\n",
            " 5   count      int64  \n",
            " 6   looped     int64  \n",
            " 7   neighbors  int64  \n",
            " 8   income     float64\n",
            " 9   label      object \n",
            "dtypes: float64(2), int64(6), object(2)\n",
            "memory usage: 222.5+ MB\n"
          ]
        }
      ]
    },
    {
      "cell_type": "code",
      "source": [
        "dtrain.describe()"
      ],
      "metadata": {
        "id": "dJF4bc1ALnTx"
      },
      "execution_count": 3,
      "outputs": []
    },
    {
      "cell_type": "code",
      "source": [
        "dtrain.describe(include=object) #so that we can see some descriptive statistices for the object columns as well"
      ],
      "metadata": {
        "id": "DYt0eWkvMB4d"
      },
      "execution_count": 4,
      "outputs": []
    },
    {
      "cell_type": "markdown",
      "source": [
        "As we've seen from the few descriptions of the dataset above, some columns are of type float, some integer and some object. \n",
        "\n",
        "We'll now proceed to do some exploratory data analysis to have more insight on our dataset."
      ],
      "metadata": {
        "id": "o-wGTPbTMzxn"
      }
    },
    {
      "cell_type": "markdown",
      "source": [
        "### Feature exploration"
      ],
      "metadata": {
        "id": "ABMS0cjbQfy6"
      }
    },
    {
      "cell_type": "markdown",
      "source": [
        "In this part we'll try to further understand the features in our dataset, mainly the different classes of the labels which is our target variable.\n",
        "\n",
        "We'll also see if there are any missing values."
      ],
      "metadata": {
        "id": "GKX5cjUARv2_"
      }
    },
    {
      "cell_type": "code",
      "source": [
        "#checking which columns contain NaN values\n",
        "dtrain.isna().any()"
      ],
      "metadata": {
        "colab": {
          "base_uri": "https://localhost:8080/"
        },
        "id": "EkUVmZWEMrw3",
        "outputId": "e576ef06-9188-4cbd-fbf6-a5670bb53dad"
      },
      "execution_count": null,
      "outputs": [
        {
          "output_type": "execute_result",
          "data": {
            "text/plain": [
              "address      False\n",
              "year         False\n",
              "day          False\n",
              "length       False\n",
              "weight       False\n",
              "count        False\n",
              "looped       False\n",
              "neighbors    False\n",
              "income       False\n",
              "label        False\n",
              "dtype: bool"
            ]
          },
          "metadata": {},
          "execution_count": 10
        }
      ]
    },
    {
      "cell_type": "code",
      "source": [
        "dtrain.year.unique() #the information that's available is from .. consecutive years from ... to ...\n"
      ],
      "metadata": {
        "id": "Kjv8naETcmkg"
      },
      "execution_count": 15,
      "outputs": []
    },
    {
      "cell_type": "code",
      "source": [
        "dtrain.year.value_counts() #we have almost the same number of info for each year"
      ],
      "metadata": {
        "id": "I9_ATazPc8JZ"
      },
      "execution_count": 14,
      "outputs": []
    },
    {
      "cell_type": "code",
      "source": [
        "df.looped.unique().shape\n"
      ],
      "metadata": {
        "colab": {
          "base_uri": "https://localhost:8080/"
        },
        "id": "q5AevxrdOsSh",
        "outputId": "9ff7e50f-6a44-4886-f3b9-d74e4cc2d19e"
      },
      "execution_count": null,
      "outputs": [
        {
          "output_type": "execute_result",
          "data": {
            "text/plain": [
              "(10168,)"
            ]
          },
          "metadata": {},
          "execution_count": 20
        }
      ]
    },
    {
      "cell_type": "code",
      "source": [
        "df.neighbors.unique().shape"
      ],
      "metadata": {
        "colab": {
          "base_uri": "https://localhost:8080/"
        },
        "id": "9xPwLd54PDSt",
        "outputId": "6d6fcc58-4b0f-4001-a6d3-a34cf43e2664"
      },
      "execution_count": null,
      "outputs": [
        {
          "output_type": "execute_result",
          "data": {
            "text/plain": [
              "(814,)"
            ]
          },
          "metadata": {},
          "execution_count": 22
        }
      ]
    },
    {
      "cell_type": "code",
      "source": [
        "df['count'].unique().shape"
      ],
      "metadata": {
        "colab": {
          "base_uri": "https://localhost:8080/"
        },
        "id": "OMkEubwuPKwO",
        "outputId": "1d98ec89-7160-420d-ea40-ee08485184b6"
      },
      "execution_count": null,
      "outputs": [
        {
          "output_type": "execute_result",
          "data": {
            "text/plain": [
              "(11572,)"
            ]
          },
          "metadata": {},
          "execution_count": 25
        }
      ]
    },
    {
      "cell_type": "markdown",
      "source": [
        "We'll focus on our target variable \"label\" since for the features, there is a lot of variability of the values taken. Thus it won't be helpful to study their unique values. \n",
        "\n",
        "We can however see how their values change with regard to the class of the label."
      ],
      "metadata": {
        "id": "SFeD6nH6ZC3L"
      }
    },
    {
      "cell_type": "code",
      "source": [
        "dtrain.label.unique().shape"
      ],
      "metadata": {
        "colab": {
          "base_uri": "https://localhost:8080/"
        },
        "id": "cccGo8YuNtKj",
        "outputId": "c4fef65b-8313-4116-d820-25d033054f23"
      },
      "execution_count": null,
      "outputs": [
        {
          "output_type": "execute_result",
          "data": {
            "text/plain": [
              "(29,)"
            ]
          },
          "metadata": {},
          "execution_count": 18
        }
      ]
    },
    {
      "cell_type": "code",
      "source": [
        "dtrain.label.unique()"
      ],
      "metadata": {
        "id": "IMnuzySPPW2g"
      },
      "execution_count": 12,
      "outputs": []
    },
    {
      "cell_type": "markdown",
      "source": [
        "For the label, we have 29 different values which we can classify in 2 major categories. The white category and the ransomware category containig the rest of the values that are not white. "
      ],
      "metadata": {
        "id": "ZeKnNLACRjwR"
      }
    },
    {
      "cell_type": "code",
      "source": [
        "dtrain.loc[dtrain[\"label\"]==\"white\", \"label\"].value_counts()"
      ],
      "metadata": {
        "id": "uSILXkFgQAD9"
      },
      "execution_count": 5,
      "outputs": []
    },
    {
      "cell_type": "code",
      "source": [
        "dtrain.loc[dtrain[\"label\"]!=\"white\", \"label\"].value_counts()"
      ],
      "metadata": {
        "id": "LusZAjJWQGqj"
      },
      "execution_count": 6,
      "outputs": []
    },
    {
      "cell_type": "code",
      "source": [
        "df1 = dtrain[dtrain[\"label\"]!=\"white\"][\"label\"]"
      ],
      "metadata": {
        "id": "4FoimKaJQWS-"
      },
      "execution_count": null,
      "outputs": []
    },
    {
      "cell_type": "code",
      "source": [
        "len(df1)"
      ],
      "metadata": {
        "id": "8J1B4jTdRIVK"
      },
      "execution_count": 7,
      "outputs": []
    },
    {
      "cell_type": "markdown",
      "source": [
        "We have .... white labels vs .... non-white lables => imbalanced data.\n",
        "\n",
        "This should be taken into consideration when choosing\n",
        "the performance evaluation metric."
      ],
      "metadata": {
        "id": "BMDK0YmLafrp"
      }
    },
    {
      "cell_type": "code",
      "source": [
        "df2 = dtrain[dtrain[\"label\"]!=\"white\"][\"year\"]"
      ],
      "metadata": {
        "id": "x_Dwg_OadlzF"
      },
      "execution_count": null,
      "outputs": []
    },
    {
      "cell_type": "code",
      "source": [
        "df2.value_counts() "
      ],
      "metadata": {
        "id": "rNEMGQL5dyZw"
      },
      "execution_count": 13,
      "outputs": []
    },
    {
      "cell_type": "markdown",
      "source": [
        "We can see that the number of Ransomware varies greatly from one year to another. There are years where it is much greater compared to the rest. This can be seen in the case of the year 2016 where the number of Ransomware peaked."
      ],
      "metadata": {
        "id": "RyV0cBEnatm-"
      }
    },
    {
      "cell_type": "code",
      "source": [
        "df2 = dtrain[dtrain[\"label\"]!=\"white\"][\"neighbors\"]\n"
      ],
      "metadata": {
        "id": "1YOkWxHTdzdK"
      },
      "execution_count": null,
      "outputs": []
    },
    {
      "cell_type": "code",
      "source": [
        "#df2.value_counts() #most of the ransomware cases are when the value of neighbors is either 2 or 1"
      ],
      "metadata": {
        "id": "5bRAdOv6ed8X"
      },
      "execution_count": 8,
      "outputs": []
    },
    {
      "cell_type": "code",
      "source": [
        ""
      ],
      "metadata": {
        "id": "tQ17N8zcfl7D"
      },
      "execution_count": null,
      "outputs": []
    }
  ]
}